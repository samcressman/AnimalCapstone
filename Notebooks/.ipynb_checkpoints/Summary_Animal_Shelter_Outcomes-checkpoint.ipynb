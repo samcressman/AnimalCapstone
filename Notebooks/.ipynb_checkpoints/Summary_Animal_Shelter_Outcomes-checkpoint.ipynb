{
 "cells": [
  {
   "cell_type": "markdown",
   "metadata": {},
   "source": [
    "***Sam Cressman Capstone Project: Shelter Animal Outcomes***"
   ]
  },
  {
   "cell_type": "markdown",
   "metadata": {},
   "source": [
    "# Summary Overview:"
   ]
  },
  {
   "cell_type": "markdown",
   "metadata": {},
   "source": [
    "[Capstone Overview](#Capstone_Overview) <br>\n",
    "[My Mission Statement](#Mission_Statement) <br>\n",
    "[Capstone Data](#Capstone_Data) <br>\n",
    "[Data Cleaning](#Data_Cleaning) <br>\n",
    "[Exploratory Data Analysis (my main takeaways)](#Exploratory_Data_Analysis) <br>\n",
    "[Modeling](#Modeling) <br>\n",
    "[Tableau Story](#Tableau_Story) <br>\n",
    "[Limitations and Next Steps](#Limitations_and_Next_Steps) <br>"
   ]
  },
  {
   "cell_type": "markdown",
   "metadata": {},
   "source": [
    "<a id = \"Capstone_Overview\"></a>\n",
    "# Capstone Overview"
   ]
  },
  {
   "cell_type": "markdown",
   "metadata": {},
   "source": [
    "***Capstone inspiration:*** [Kaggle](https://www.kaggle.com/c/shelter-animal-outcomes)\n",
    "\n",
    "\"Every year, approximately 7.6 million companion animals end up in US shelters. Many animals are given up as unwanted by their owners, while others are picked up after getting lost or taken out of cruelty situations. Many of these animals find forever families to take them home, but just as many are not so lucky. 2.7 million dogs and cats are euthanized in the US every year. <br>\n",
    "\n",
    "Using a dataset of intake information including breed, color, sex, and age from the Austin Animal Center, we're asking Kagglers to predict the outcome for each animal. <br>\n",
    "\n",
    "We also believe this dataset can help us understand trends in animal outcomes. These insights could help shelters focus their energy on specific animals who need a little extra help finding a new home. We encourage you to publish your insights on Scripts so they are publicly accessible.\" <br>"
   ]
  },
  {
   "cell_type": "markdown",
   "metadata": {},
   "source": [
    "\"Annually over 90% of animals entering the center, are adopted, transferred to rescue or returned to their owners. The Outcomes data set reflects that Austin, TX. is the largest \"No Kill\" city in the country.\" ([Austin Animal Center](https://data.austintexas.gov/Health-and-Community-Services/Austin-Animal-Center-Outcomes/9t4d-g238))"
   ]
  },
  {
   "cell_type": "markdown",
   "metadata": {},
   "source": [
    "<a id = \"Mission_Statement\"></a>\n",
    "# My Mission Statement:"
   ]
  },
  {
   "cell_type": "markdown",
   "metadata": {},
   "source": [
    "Utilize machine learning and Tableau to help improve outcomes for shelter animals"
   ]
  },
  {
   "cell_type": "markdown",
   "metadata": {},
   "source": [
    "<a id = \"Capstone_Data\"></a>\n",
    "# Capstone Data"
   ]
  },
  {
   "cell_type": "markdown",
   "metadata": {},
   "source": [
    "[Intake data (pulled 6/25/18)](https://data.austintexas.gov/Health-and-Community-Services/Austin-Animal-Center-Intakes/wter-evkm) <br>\n",
    "[Outcome data (pulled 6/25/18)](https://data.austintexas.gov/Health-and-Community-Services/Austin-Animal-Center-Outcomes/9t4d-g238) <br>"
   ]
  },
  {
   "cell_type": "markdown",
   "metadata": {},
   "source": [
    "<a id = \"Data_Cleaning\"></a>\n",
    "# Data Cleaning"
   ]
  },
  {
   "cell_type": "markdown",
   "metadata": {},
   "source": [
    "For more details: [Data Cleaning Notebook](Data_Cleaning_Animal_Shelter_Outcomes.ipynb)"
   ]
  },
  {
   "cell_type": "markdown",
   "metadata": {},
   "source": [
    "***Main Takeaways***:"
   ]
  },
  {
   "cell_type": "markdown",
   "metadata": {},
   "source": [
    "- Nearly every column required cleaning: it is critical to examine each column. <br>\n",
    "<br>\n",
    "- I merged animal intake data with animal outcome data on each animal's unique Animal ID to ensure that each animal had one intake and one outcome. <br>\n",
    "<br>\n",
    "- I broke out the DateTime columns (Intake Time, Outcome Time) by day, day of week, day of month, and year. <br>\n",
    "<br>\n",
    "- I created columns for Age at Intake, Age at Outcome, and Length of Time in Shelter (Days). Also, half of the name values were null: I created a new column \"has_name\" which held a 1 if the animal left the animal shelter with a name or 0 otherwise. <br> \n",
    "<br>\n",
    "- Regarding Outcome Type, I combined \"Died\", \"Disposal\", \"Missing\", and \"Relocate\" into an \"Other\" bucket since these outcomes occurred very infrequently. The outcomes that I consider to be positive are \"Adoption\", \"Return to Owner\", and \"Transfer\", and I consider \"Euthanizia\" and \"Other\" to be negative outcomes. Austin relies on [numerous \"Transfer\" partners](http://www.austintexas.gov/department/approved-partners) (usually animal specific) to reach its goal of being 90+% no kill. <br>\n",
    "<br>\n",
    "- With over 2212 \"unique\" Breed combinations, I used a Count Vectorizer to find the most important breeds. Then I created dummy columns to reflect those breeds numerically. This process was very similar for Color (539 \"unique\" colors)."
   ]
  },
  {
   "cell_type": "markdown",
   "metadata": {},
   "source": [
    "<a id = \"Exploratory_Data_Analysis\"></a>\n",
    "# Exploratory Data Analysis"
   ]
  },
  {
   "cell_type": "markdown",
   "metadata": {},
   "source": [
    "For more details: [Exploratory Data Analysis / Quick Visualizations Notebook](Graphing_EDA_Animal_Shelter_Outcomes.ipynb)"
   ]
  },
  {
   "cell_type": "markdown",
   "metadata": {},
   "source": [
    "***Main Takeaways***:"
   ]
  },
  {
   "cell_type": "markdown",
   "metadata": {},
   "source": [
    "- Dogs represent most Austin animal shelter intakes. <br>\n",
    "<br>\n",
    "- Most intakes are stray animals. <br>\n",
    "<br>\n",
    "- Overall Austin animal shelter animals fare extremely well (see above mission: 90+% no kill goal). However, \"other\" animals (ex. bats, raccoons) do not fare well. <br>\n",
    "<br>\n",
    "- Focus on improving adoptions for pitbulls and domestic shorthair cats. <br>\n",
    "<br>\n",
    "- Color does not seem to be a critical determining factor in adoption rates. <br>\n",
    "<br>\n",
    "- Do not request euthaniasia for your animal unless necessary. <br>\n",
    "<br>\n",
    "- Promote older animals as much as possible (especially cats). <br>\n",
    "<br>\n",
    "- Give every animal a name. <br>\n",
    "<br>\n",
    "- Expect an influx of animals during warmer months. <br>\n",
    "<br>\n",
    "- Host as many events as possible. <br>"
   ]
  },
  {
   "cell_type": "markdown",
   "metadata": {},
   "source": [
    "<a id = \"Modeling\"></a>\n",
    "# Modeling"
   ]
  },
  {
   "cell_type": "markdown",
   "metadata": {},
   "source": [
    "For more details: [Modeling Notebook](Modeling_Animal_Shelter_Outcomes.ipynb)"
   ]
  },
  {
   "cell_type": "markdown",
   "metadata": {},
   "source": [
    "***Main Takeaways:***"
   ]
  },
  {
   "cell_type": "markdown",
   "metadata": {},
   "source": [
    "- Due to the 90+% no-kill goal of the Austin Animal Shelter System, baseline accuracy was 90%, and my Logistic Regression, Random Forest, and Neural Network all performed in the 95% range. This will be addressed further below in Limitations / Next Steps. <br>\n",
    "<br>\n",
    "- My model metric was accuracy (binary classification: positive outcome or negative outcome). <br>\n",
    "<br>\n",
    "- ***Top 10 \"positive\" Logistic Regression features (descending):***\n",
    "\n",
    "    has_name <br>\n",
    "    Sex upon Outcome_Spayed Female <br>\n",
    "    Sex upon Outcome_Neutered Male <br>\n",
    "    Intake Condition_Normal <br>\n",
    "    Sex upon Intake_Intact Female <br>\n",
    "    Intake Type_Stray <br>\n",
    "    Sex upon Intake_Intact Male <br>\n",
    "    Intake Condition_Nursing <br>\n",
    "    Intake Condition_Pregnant <br>\n",
    "    retriever <br>\n",
    "<br>\n",
    "- ***Bottom 10 \"negative\" Logistic Regression features (ascending)***:\n",
    " \n",
    "    bat\t<br>\n",
    "    Sex upon Outcome_Intact Male <br>\n",
    "    raccoon <br>\n",
    "    Sex upon Outcome_Intact Female <br>\n",
    "    Intake Condition_Injured <br> \n",
    "    Intake Type_Wildlife <br>\n",
    "    skunk <br>\n",
    "    pit <br>\n",
    "    Sex upon Intake_Neutered Male <br>\n",
    "    Sex upon Intake_Spayed Female <br>"
   ]
  },
  {
   "cell_type": "markdown",
   "metadata": {},
   "source": [
    "<a id = \"Tableau_Story\"></a>\n",
    "# Tableau Story"
   ]
  },
  {
   "cell_type": "markdown",
   "metadata": {},
   "source": [
    "[Tableau Story Link](https://public.tableau.com/profile/sam.cressman#!/vizhome/SamCressmanAustinAnimalShelterOutcomesCapstoneStory/AnimalShelterOutcomesVisualizations)"
   ]
  },
  {
   "cell_type": "markdown",
   "metadata": {},
   "source": [
    "***Main Takeaways:***"
   ]
  },
  {
   "cell_type": "markdown",
   "metadata": {},
   "source": [
    "- Using high-level visualization is critical towards utilizing data to tell a story (regardless of the complexity of the problem you are attempting to solve). <br>\n",
    "<br>\n",
    "- Initially creating and viewing basic visualizations using Python can help to determine the stories the data can tell. <br>\n",
    "<br>\n",
    "- Clean and manipulate data using Python before bringing into Tableau. <br>"
   ]
  },
  {
   "cell_type": "markdown",
   "metadata": {},
   "source": [
    "<a id = \"Limitations_and_Next_Steps\"></a>\n",
    "# Limitations and Next Steps"
   ]
  },
  {
   "cell_type": "markdown",
   "metadata": {},
   "source": [
    "***Main Takeaways:***"
   ]
  },
  {
   "cell_type": "markdown",
   "metadata": {},
   "source": [
    "- Austin has gold standard animal shelter and partner systems due to lofty no-kill goals: it would be great to compare to a city with lower positive outcomes or less ambitious goals (open data for animal shelters is limited). <br>\n",
    "<br>\n",
    "- I would be curious to see the impact of animal size on Outcome Type: this is something that could further be explored. <br>\n",
    "<br>\n",
    "- I would also be curious to examine shelter intakes and outcomes from a colder climate than Austin, Texas. <br>\n",
    "<br>\n",
    "- I noticed that the Austin Animal Center has a strong social media presence [(example)](https://www.instagram.com/austinanimalcenter/): it would be fascinating to understand social media's impact on driving animal adoptions."
   ]
  }
 ],
 "metadata": {
  "kernelspec": {
   "display_name": "Python 3",
   "language": "python",
   "name": "python3"
  },
  "language_info": {
   "codemirror_mode": {
    "name": "ipython",
    "version": 3
   },
   "file_extension": ".py",
   "mimetype": "text/x-python",
   "name": "python",
   "nbconvert_exporter": "python",
   "pygments_lexer": "ipython3",
   "version": "3.6.4"
  }
 },
 "nbformat": 4,
 "nbformat_minor": 2
}
