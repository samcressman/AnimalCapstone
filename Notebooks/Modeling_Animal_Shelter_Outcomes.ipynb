{
 "cells": [
  {
   "cell_type": "markdown",
   "metadata": {},
   "source": [
    "***Sam Cressman Capstone Project: Shelter Animal Outcomes***"
   ]
  },
  {
   "cell_type": "markdown",
   "metadata": {},
   "source": [
    "***Help improve outcomes for shelter animals***"
   ]
  },
  {
   "cell_type": "markdown",
   "metadata": {},
   "source": [
    "***Capstone inspiration:*** [Kaggle](https://www.kaggle.com/c/shelter-animal-outcomes)"
   ]
  },
  {
   "cell_type": "markdown",
   "metadata": {},
   "source": [
    "***Modeling Notebook***"
   ]
  },
  {
   "cell_type": "code",
   "execution_count": 23,
   "metadata": {},
   "outputs": [],
   "source": [
    "import pandas as pd\n",
    "import numpy as np\n",
    "from sklearn.linear_model import LogisticRegression\n",
    "from sklearn.model_selection import train_test_split, GridSearchCV\n",
    "from sklearn.preprocessing import StandardScaler\n",
    "from sklearn.ensemble import RandomForestClassifier\n",
    "from sklearn.metrics import confusion_matrix\n",
    "from keras.models import Sequential\n",
    "from keras.layers import Dense\n",
    "from keras.utils import to_categorical\n",
    "import matplotlib.pyplot as plt"
   ]
  },
  {
   "cell_type": "code",
   "execution_count": 24,
   "metadata": {},
   "outputs": [],
   "source": [
    "animals = pd.read_csv(\"../CSVs/cleaned_animals_numeric_dummies.csv\")"
   ]
  },
  {
   "cell_type": "code",
   "execution_count": 25,
   "metadata": {},
   "outputs": [],
   "source": [
    "# Evaluating target\n",
    "\n",
    "animals[\"Outcome Type\"].value_counts();"
   ]
  },
  {
   "cell_type": "code",
   "execution_count": 26,
   "metadata": {},
   "outputs": [],
   "source": [
    "# Baseline accuracy is high: 90%\n",
    "\n",
    "animals[\"Outcome Type\"].value_counts(normalize = True);"
   ]
  },
  {
   "cell_type": "markdown",
   "metadata": {},
   "source": [
    "***Setting X, y, features***"
   ]
  },
  {
   "cell_type": "code",
   "execution_count": 27,
   "metadata": {},
   "outputs": [],
   "source": [
    "# Disregarding DateTime objects, target (Outcome Type), Outcome Subtype (many nulls: kept for EDA/visualization),\n",
    "# Breed (added columns \"manually\"), Color (created buckets, concated back with animals)\n",
    "\n",
    "features_to_disregard = [\"Intake Time\", \"Outcome Time\", \"Date of Birth\",\n",
    "                         \"Outcome Type\", \"Outcome Subtype\", \"Breed\", \"Color\"]"
   ]
  },
  {
   "cell_type": "code",
   "execution_count": 28,
   "metadata": {},
   "outputs": [],
   "source": [
    "features = [feat for feat in animals.columns if feat not in features_to_disregard]\n",
    "\n",
    "X = animals[features]\n",
    "y = animals[\"Outcome Type\"]\n",
    "\n",
    "X_train, X_test, y_train, y_test = train_test_split(X, y)"
   ]
  },
  {
   "cell_type": "markdown",
   "metadata": {},
   "source": [
    "***Logistic Regression Model***"
   ]
  },
  {
   "cell_type": "code",
   "execution_count": 29,
   "metadata": {},
   "outputs": [
    {
     "data": {
      "text/plain": [
       "0.9590538941195174"
      ]
     },
     "execution_count": 29,
     "metadata": {},
     "output_type": "execute_result"
    }
   ],
   "source": [
    "# Accuracy score: 0.7196227014996556 when using 9 classes, 0.9582413311900514 when using binary classification\n",
    "\n",
    "lr = LogisticRegression()\n",
    "\n",
    "ss = StandardScaler()\n",
    "ss.fit(X_train)\n",
    "X_train = ss.transform(X_train)\n",
    "X_test = ss.transform(X_test)\n",
    "\n",
    "model = lr.fit(X_train, y_train)\n",
    "\n",
    "# Performs very well on training data\n",
    "\n",
    "model.score(X_train, y_train)"
   ]
  },
  {
   "cell_type": "code",
   "execution_count": 30,
   "metadata": {},
   "outputs": [
    {
     "data": {
      "text/plain": [
       "0.9542684542419586"
      ]
     },
     "execution_count": 30,
     "metadata": {},
     "output_type": "execute_result"
    }
   ],
   "source": [
    "# Also performs very well on testing data\n",
    "\n",
    "model.score(X_test, y_test)"
   ]
  },
  {
   "cell_type": "code",
   "execution_count": 31,
   "metadata": {},
   "outputs": [
    {
     "name": "stdout",
     "output_type": "stream",
     "text": [
      "True Negatives: 1196\n",
      "\n",
      "False Positives: 742\n",
      "\n",
      "False Negatives: 121\n",
      "\n",
      "True Positives: 16812\n"
     ]
    }
   ],
   "source": [
    "# Confusion Matrix \n",
    "\n",
    "# Model is very accurate but overpredicting positive outcomes (due to high baseline accuracy)\n",
    "\n",
    "y_pred = model.predict(X_test)\n",
    "\n",
    "tn, fp, fn, tp = confusion_matrix(y_test, y_pred).ravel()\n",
    "\n",
    "print(\"True Negatives: \" + str(tn))\n",
    "print()\n",
    "print(\"False Positives: \" + str(fp))\n",
    "print()\n",
    "print(\"False Negatives: \" + str(fn))\n",
    "print()\n",
    "print(\"True Positives: \" + str(tp))"
   ]
  },
  {
   "cell_type": "code",
   "execution_count": null,
   "metadata": {},
   "outputs": [],
   "source": [
    "# Creating DataFrame to view coefficient values\n",
    "\n",
    "coef_df = pd.DataFrame({\n",
    "        \"coef\": model.coef_[0],\n",
    "        \"feature\": features})"
   ]
  },
  {
   "cell_type": "code",
   "execution_count": null,
   "metadata": {},
   "outputs": [],
   "source": [
    "# Helping to interpret coefficients\n",
    "\n",
    "coef_df[\"exponential_value\"] = [(np.exp(i)) for i in coef_df[\"coef\"]]"
   ]
  },
  {
   "cell_type": "code",
   "execution_count": null,
   "metadata": {},
   "outputs": [],
   "source": [
    "# Examining top features: this makes sense!\n",
    "\n",
    "coef_df.sort_values(\"coef\", ascending = False).head(10);"
   ]
  },
  {
   "cell_type": "code",
   "execution_count": null,
   "metadata": {},
   "outputs": [],
   "source": [
    "# Plotting top features\n",
    "\n",
    "coef_features_top = coef_df.sort_values(\"exponential_value\", ascending = False).head(10)\n",
    "\n",
    "coef_features_top = coef_features_top.sort_values(\"exponential_value\", ascending = True)\n",
    "\n",
    "coef_features_top.plot(kind = \"barh\", x = \"feature\", y = \"exponential_value\", legend = False, color = \"blue\")\n",
    "\n",
    "plt.title(\"Top 10 Positive Outcome Features\")\n",
    "plt.xlabel(\"Exponential Value\")\n",
    "plt.ylabel(\"Feature\")\n",
    "\n",
    "plt.show()"
   ]
  },
  {
   "cell_type": "code",
   "execution_count": null,
   "metadata": {
    "scrolled": false
   },
   "outputs": [],
   "source": [
    "# Examining bottom features: this also makes sense!\n",
    "\n",
    "coef_df.sort_values(\"coef\", ascending = False).tail(10);"
   ]
  },
  {
   "cell_type": "code",
   "execution_count": null,
   "metadata": {},
   "outputs": [],
   "source": [
    "# Plotting bottom features\n",
    "\n",
    "coef_features_bottom = coef_df.sort_values(\"exponential_value\", ascending = False).tail(10)\n",
    "\n",
    "coef_features_bottom = coef_features_bottom.sort_values(\"exponential_value\", ascending = True)\n",
    "\n",
    "coef_features_bottom.plot(kind = \"barh\", x = \"feature\", y = \"exponential_value\", legend = False, color = \"blue\")\n",
    "\n",
    "plt.title(\"Bottom 10 Negative Outcome Features\")\n",
    "plt.xlabel(\"Exponential Value\")\n",
    "plt.ylabel(\"Feature\")\n",
    "\n",
    "plt.show()"
   ]
  },
  {
   "cell_type": "markdown",
   "metadata": {},
   "source": [
    "***Random Forest***"
   ]
  },
  {
   "cell_type": "code",
   "execution_count": null,
   "metadata": {
    "scrolled": true
   },
   "outputs": [],
   "source": [
    "# Simple Random Forest performed very well: 6% over baseline which is high to begin with\n",
    "\n",
    "# Black box: limited/no interpretability\n",
    "\n",
    "rf = RandomForestClassifier()\n",
    "\n",
    "rf.fit(X_train, y_train)\n",
    "\n",
    "rf.score(X_test, y_test)"
   ]
  },
  {
   "cell_type": "markdown",
   "metadata": {},
   "source": [
    "***Neural Network***"
   ]
  },
  {
   "cell_type": "markdown",
   "metadata": {},
   "source": [
    "Neural networks, in a single line, attempt to iteratively train a set (or sets) of weights that, when used together, return the most accurate predictions for a set of inputs. The model is trained using a loss function, which our model will attempt to minimize over iterations."
   ]
  },
  {
   "cell_type": "code",
   "execution_count": null,
   "metadata": {},
   "outputs": [],
   "source": [
    "X_train, X_test, y_train, y_test = train_test_split(X, y)\n",
    "\n",
    "ss = StandardScaler()\n",
    "X_train = ss.fit_transform(X_train)\n",
    "X_test = ss.transform(X_test)"
   ]
  },
  {
   "cell_type": "code",
   "execution_count": null,
   "metadata": {},
   "outputs": [],
   "source": [
    "# One hot encoding target\n",
    "\n",
    "y_train = to_categorical(y_train)\n",
    "y_test = to_categorical(y_test)"
   ]
  },
  {
   "cell_type": "code",
   "execution_count": null,
   "metadata": {},
   "outputs": [],
   "source": [
    "# Need shape to help create neural network\n",
    "\n",
    "X_train.shape;"
   ]
  },
  {
   "cell_type": "code",
   "execution_count": null,
   "metadata": {},
   "outputs": [],
   "source": [
    "# Performs extremely well but black box: no interpretability\n",
    "\n",
    "model = Sequential()\n",
    "\n",
    "model.add(Dense(246, input_dim = 246, activation= \"relu\"))\n",
    "model.add(Dense(2, activation = \"softmax\"))\n",
    "\n",
    "model.compile(loss = \"binary_crossentropy\", optimizer = \"adam\", metrics = [\"accuracy\"])\n",
    "\n",
    "model.fit(X_train, y_train, validation_data = (X_test, y_test), epochs = 10)"
   ]
  }
 ],
 "metadata": {
  "kernelspec": {
   "display_name": "Python 3",
   "language": "python",
   "name": "python3"
  },
  "language_info": {
   "codemirror_mode": {
    "name": "ipython",
    "version": 3
   },
   "file_extension": ".py",
   "mimetype": "text/x-python",
   "name": "python",
   "nbconvert_exporter": "python",
   "pygments_lexer": "ipython3",
   "version": "3.6.4"
  }
 },
 "nbformat": 4,
 "nbformat_minor": 2
}
