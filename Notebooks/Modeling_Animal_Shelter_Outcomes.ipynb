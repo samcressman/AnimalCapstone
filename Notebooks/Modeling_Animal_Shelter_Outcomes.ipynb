{
 "cells": [
  {
   "cell_type": "markdown",
   "metadata": {},
   "source": [
    "***Sam Cressman Capstone Project: Shelter Animal Outcomes***"
   ]
  },
  {
   "cell_type": "markdown",
   "metadata": {},
   "source": [
    "***Help improve outcomes for shelter animals***"
   ]
  },
  {
   "cell_type": "markdown",
   "metadata": {},
   "source": [
    "***Capstone inspiration:*** [Kaggle](https://www.kaggle.com/c/shelter-animal-outcomes)"
   ]
  },
  {
   "cell_type": "markdown",
   "metadata": {},
   "source": [
    "[Intake data (pulled 6/25/18)](https://data.austintexas.gov/Health-and-Community-Services/Austin-Animal-Center-Intakes/wter-evkm) <br>\n",
    "[Outcome data (pulled 6/25/18)](https://data.austintexas.gov/Health-and-Community-Services/Austin-Animal-Center-Outcomes/9t4d-g238) <br>"
   ]
  },
  {
   "cell_type": "markdown",
   "metadata": {},
   "source": [
    "\"Annually over 90% of animals entering the center, are adopted, transferred to rescue or returned to their owners. The Outcomes data set reflects that Austin, TX. is the largest \"No Kill\" city in the country.\" ([link](https://data.austintexas.gov/Health-and-Community-Services/Austin-Animal-Center-Outcomes/9t4d-g238))"
   ]
  },
  {
   "cell_type": "markdown",
   "metadata": {},
   "source": [
    "***Modeling Notebook***"
   ]
  },
  {
   "cell_type": "code",
   "execution_count": 1,
   "metadata": {},
   "outputs": [
    {
     "name": "stderr",
     "output_type": "stream",
     "text": [
      "/anaconda3/lib/python3.6/site-packages/h5py/__init__.py:36: FutureWarning: Conversion of the second argument of issubdtype from `float` to `np.floating` is deprecated. In future, it will be treated as `np.float64 == np.dtype(float).type`.\n",
      "  from ._conv import register_converters as _register_converters\n",
      "Using TensorFlow backend.\n"
     ]
    }
   ],
   "source": [
    "import pandas as pd\n",
    "import numpy as np\n",
    "from sklearn.linear_model import LogisticRegression\n",
    "from sklearn.model_selection import train_test_split, GridSearchCV\n",
    "from sklearn.preprocessing import StandardScaler\n",
    "from sklearn.ensemble import RandomForestClassifier\n",
    "from sklearn.metrics import confusion_matrix\n",
    "from keras.models import Sequential\n",
    "from keras.layers import Dense\n",
    "from keras.utils import to_categorical\n",
    "import matplotlib.pyplot as plt"
   ]
  },
  {
   "cell_type": "code",
   "execution_count": 2,
   "metadata": {},
   "outputs": [],
   "source": [
    "animals = pd.read_csv(\"../CSVs/cleaned_animals_numeric_dummies.csv\")"
   ]
  },
  {
   "cell_type": "code",
   "execution_count": 3,
   "metadata": {},
   "outputs": [],
   "source": [
    "# Evaluating target\n",
    "\n",
    "animals[\"Outcome Type\"].value_counts();"
   ]
  },
  {
   "cell_type": "code",
   "execution_count": 4,
   "metadata": {},
   "outputs": [],
   "source": [
    "# Baseline accuracy is high: 90%\n",
    "\n",
    "animals[\"Outcome Type\"].value_counts(normalize = True);"
   ]
  },
  {
   "cell_type": "markdown",
   "metadata": {},
   "source": [
    "***Setting X, y, features***"
   ]
  },
  {
   "cell_type": "code",
   "execution_count": 5,
   "metadata": {},
   "outputs": [],
   "source": [
    "# Disregarding DateTime objects, target (Outcome Type), Outcome Subtype (many nulls: kept for EDA/visualization),\n",
    "# Breed (added columns \"manually\"), Color (created buckets, concated back with animals)\n",
    "\n",
    "features_to_disregard = [\"Intake Time\", \"Outcome Time\", \"Date of Birth\",\n",
    "                         \"Outcome Type\", \"Outcome Subtype\", \"Breed\", \"Color\"]"
   ]
  },
  {
   "cell_type": "code",
   "execution_count": 6,
   "metadata": {},
   "outputs": [],
   "source": [
    "# Outcome type: 1 if \"Transfer\", \"Adoption\", or \"Return to Owner\"\n",
    "# 0 if \"Euthanasia\" or \"Other\" (\"Died\", \"Disposal\", \"Missing\", \"Relocate\")(\"Other\" represented about 1.5% of all outcomes)\n",
    "\n",
    "features = [feat for feat in animals.columns if feat not in features_to_disregard]\n",
    "\n",
    "X = animals[features]\n",
    "y = animals[\"Outcome Type\"]\n",
    "\n",
    "X_train, X_test, y_train, y_test = train_test_split(X, y)"
   ]
  },
  {
   "cell_type": "markdown",
   "metadata": {},
   "source": [
    "***Logistic Regression Model***"
   ]
  },
  {
   "cell_type": "code",
   "execution_count": 7,
   "metadata": {},
   "outputs": [
    {
     "data": {
      "text/plain": [
       "0.9574287682605854"
      ]
     },
     "execution_count": 7,
     "metadata": {},
     "output_type": "execute_result"
    }
   ],
   "source": [
    "# Accuracy score: 0.7196227014996556 when using 9 classes, 0.9582413311900514 when using binary classification\n",
    "\n",
    "lr = LogisticRegression()\n",
    "\n",
    "ss = StandardScaler()\n",
    "ss.fit(X_train)\n",
    "X_train = ss.transform(X_train)\n",
    "X_test = ss.transform(X_test)\n",
    "\n",
    "model = lr.fit(X_train, y_train)\n",
    "\n",
    "# Performs very well on training data\n",
    "\n",
    "model.score(X_train, y_train)"
   ]
  },
  {
   "cell_type": "code",
   "execution_count": 8,
   "metadata": {},
   "outputs": [
    {
     "data": {
      "text/plain": [
       "0.9591436595834879"
      ]
     },
     "execution_count": 8,
     "metadata": {},
     "output_type": "execute_result"
    }
   ],
   "source": [
    "# Also performs very well on testing data\n",
    "\n",
    "model.score(X_test, y_test)"
   ]
  },
  {
   "cell_type": "code",
   "execution_count": 9,
   "metadata": {},
   "outputs": [
    {
     "name": "stdout",
     "output_type": "stream",
     "text": [
      "True Negatives: 1191\n",
      "\n",
      "False Positives: 646\n",
      "\n",
      "False Negatives: 125\n",
      "\n",
      "True Positives: 16909\n"
     ]
    }
   ],
   "source": [
    "# Confusion Matrix \n",
    "\n",
    "# Model is very accurate but overpredicting positive outcomes (due to high baseline accuracy)\n",
    "\n",
    "y_pred = model.predict(X_test)\n",
    "\n",
    "tn, fp, fn, tp = confusion_matrix(y_test, y_pred).ravel()\n",
    "\n",
    "print(\"True Negatives: \" + str(tn))\n",
    "print()\n",
    "print(\"False Positives: \" + str(fp))\n",
    "print()\n",
    "print(\"False Negatives: \" + str(fn))\n",
    "print()\n",
    "print(\"True Positives: \" + str(tp))"
   ]
  },
  {
   "cell_type": "code",
   "execution_count": 10,
   "metadata": {},
   "outputs": [],
   "source": [
    "# Creating DataFrame to view coefficient values\n",
    "\n",
    "coef_df = pd.DataFrame({\n",
    "        \"coef\": model.coef_[0],\n",
    "        \"feature\": features})"
   ]
  },
  {
   "cell_type": "code",
   "execution_count": 11,
   "metadata": {},
   "outputs": [],
   "source": [
    "# Helping to interpret coefficients\n",
    "\n",
    "coef_df[\"exponential_value\"] = [(np.exp(i)) for i in coef_df[\"coef\"]]"
   ]
  },
  {
   "cell_type": "code",
   "execution_count": 12,
   "metadata": {},
   "outputs": [],
   "source": [
    "# Examining top features: this makes sense!\n",
    "\n",
    "coef_df.sort_values(\"coef\", ascending = False).head(10);"
   ]
  },
  {
   "cell_type": "code",
   "execution_count": 13,
   "metadata": {},
   "outputs": [
    {
     "data": {
      "image/png": "[encoded data removed]",
      "text/plain": [
       "<matplotlib.figure.Figure at 0x1a24b48588>"
      ]
     },
     "metadata": {},
     "output_type": "display_data"
    }
   ],
   "source": [
    "# Plotting top features\n",
    "\n",
    "coef_features_top = coef_df.sort_values(\"exponential_value\", ascending = False).head(10)\n",
    "\n",
    "coef_features_top = coef_features_top.sort_values(\"exponential_value\", ascending = True)\n",
    "\n",
    "coef_features_top.plot(kind = \"barh\", x = \"feature\", y = \"exponential_value\", legend = False, color = \"blue\")\n",
    "\n",
    "plt.title(\"Top 10 Positive Outcome Features\")\n",
    "plt.xlabel(\"Exponential Value\")\n",
    "plt.ylabel(\"Feature\")\n",
    "\n",
    "plt.show()"
   ]
  },
  {
   "cell_type": "code",
   "execution_count": 14,
   "metadata": {
    "scrolled": false
   },
   "outputs": [],
   "source": [
    "# Examining bottom features: this also makes sense!\n",
    "\n",
    "coef_df.sort_values(\"coef\", ascending = False).tail(10);"
   ]
  },
  {
   "cell_type": "code",
   "execution_count": 15,
   "metadata": {},
   "outputs": [
    {
     "data": {
      "image/png": "[encoded data removed]",
      "text/plain": [
       "<matplotlib.figure.Figure at 0x1110dd438>"
      ]
     },
     "metadata": {},
     "output_type": "display_data"
    }
   ],
   "source": [
    "# Plotting bottom features\n",
    "\n",
    "coef_features_bottom = coef_df.sort_values(\"exponential_value\", ascending = False).tail(10)\n",
    "\n",
    "coef_features_bottom = coef_features_bottom.sort_values(\"exponential_value\", ascending = True)\n",
    "\n",
    "coef_features_bottom.plot(kind = \"barh\", x = \"feature\", y = \"exponential_value\", legend = False, color = \"blue\")\n",
    "\n",
    "plt.title(\"Bottom 10 Negative Outcome Features\")\n",
    "plt.xlabel(\"Exponential Value\")\n",
    "plt.ylabel(\"Feature\")\n",
    "\n",
    "plt.show()"
   ]
  },
  {
   "cell_type": "markdown",
   "metadata": {},
   "source": [
    "***Random Forest***"
   ]
  },
  {
   "cell_type": "code",
   "execution_count": 16,
   "metadata": {
    "scrolled": true
   },
   "outputs": [
    {
     "data": {
      "text/plain": [
       "0.96343595993853"
      ]
     },
     "execution_count": 16,
     "metadata": {},
     "output_type": "execute_result"
    }
   ],
   "source": [
    "# Simple Random Forest performed very well: 6% over baseline which is high to begin with\n",
    "\n",
    "# Black box: limited/no interpretability\n",
    "\n",
    "rf = RandomForestClassifier()\n",
    "\n",
    "rf.fit(X_train, y_train)\n",
    "\n",
    "rf.score(X_test, y_test)"
   ]
  },
  {
   "cell_type": "markdown",
   "metadata": {},
   "source": [
    "***Neural Network***"
   ]
  },
  {
   "cell_type": "markdown",
   "metadata": {},
   "source": [
    "Neural networks, in a single line, attempt to iteratively train a set (or sets) of weights that, when used together, return the most accurate predictions for a set of inputs. The model is trained using a loss function, which our model will attempt to minimize over iterations."
   ]
  },
  {
   "cell_type": "code",
   "execution_count": 17,
   "metadata": {},
   "outputs": [],
   "source": [
    "X_train, X_test, y_train, y_test = train_test_split(X, y)\n",
    "\n",
    "ss = StandardScaler()\n",
    "X_train = ss.fit_transform(X_train)\n",
    "X_test = ss.transform(X_test)"
   ]
  },
  {
   "cell_type": "code",
   "execution_count": 18,
   "metadata": {},
   "outputs": [],
   "source": [
    "# One hot encoding target\n",
    "\n",
    "y_train = to_categorical(y_train)\n",
    "y_test = to_categorical(y_test)"
   ]
  },
  {
   "cell_type": "code",
   "execution_count": 19,
   "metadata": {},
   "outputs": [
    {
     "name": "stdout",
     "output_type": "stream",
     "text": [
      "Train on 56611 samples, validate on 18871 samples\n",
      "Epoch 1/10\n",
      "56611/56611 [==============================] - 8s 142us/step - loss: 0.1490 - acc: 0.9550 - val_loss: 0.1436 - val_acc: 0.9547\n",
      "Epoch 2/10\n",
      "56611/56611 [==============================] - 6s 108us/step - loss: 0.1225 - acc: 0.9610 - val_loss: 0.1321 - val_acc: 0.9592\n",
      "Epoch 3/10\n",
      "56611/56611 [==============================] - 7s 118us/step - loss: 0.1101 - acc: 0.9633 - val_loss: 0.1342 - val_acc: 0.9604\n",
      "Epoch 4/10\n",
      "56611/56611 [==============================] - 6s 109us/step - loss: 0.0961 - acc: 0.9674 - val_loss: 0.1428 - val_acc: 0.9574\n",
      "Epoch 5/10\n",
      "56611/56611 [==============================] - 6s 110us/step - loss: 0.0830 - acc: 0.9708 - val_loss: 0.1601 - val_acc: 0.9590\n",
      "Epoch 6/10\n",
      "56611/56611 [==============================] - 7s 122us/step - loss: 0.0686 - acc: 0.9754 - val_loss: 0.1694 - val_acc: 0.9541\n",
      "Epoch 7/10\n",
      "56611/56611 [==============================] - 6s 108us/step - loss: 0.0584 - acc: 0.9792 - val_loss: 0.1833 - val_acc: 0.9578\n",
      "Epoch 8/10\n",
      "56611/56611 [==============================] - 6s 106us/step - loss: 0.0465 - acc: 0.9832 - val_loss: 0.2034 - val_acc: 0.9522\n",
      "Epoch 9/10\n",
      "56611/56611 [==============================] - 7s 117us/step - loss: 0.0412 - acc: 0.9853 - val_loss: 0.2170 - val_acc: 0.9546\n",
      "Epoch 10/10\n",
      "56611/56611 [==============================] - 8s 137us/step - loss: 0.0335 - acc: 0.9884 - val_loss: 0.2394 - val_acc: 0.9515\n"
     ]
    },
    {
     "data": {
      "text/plain": [
       "<keras.callbacks.History at 0x1a25673b00>"
      ]
     },
     "execution_count": 19,
     "metadata": {},
     "output_type": "execute_result"
    }
   ],
   "source": [
    "# Performs extremely well but black box: no interpretability\n",
    "\n",
    "model = Sequential()\n",
    "\n",
    "model.add(Dense(246, input_dim = 246, activation= \"relu\"))\n",
    "model.add(Dense(2, activation = \"softmax\"))\n",
    "\n",
    "model.compile(loss = \"binary_crossentropy\", optimizer = \"adam\", metrics = [\"accuracy\"])\n",
    "\n",
    "model.fit(X_train, y_train, validation_data = (X_test, y_test), epochs = 10)"
   ]
  }
 ],
 "metadata": {
  "kernelspec": {
   "display_name": "Python 3",
   "language": "python",
   "name": "python3"
  },
  "language_info": {
   "codemirror_mode": {
    "name": "ipython",
    "version": 3
   },
   "file_extension": ".py",
   "mimetype": "text/x-python",
   "name": "python",
   "nbconvert_exporter": "python",
   "pygments_lexer": "ipython3",
   "version": "3.6.4"
  }
 },
 "nbformat": 4,
 "nbformat_minor": 2
}
