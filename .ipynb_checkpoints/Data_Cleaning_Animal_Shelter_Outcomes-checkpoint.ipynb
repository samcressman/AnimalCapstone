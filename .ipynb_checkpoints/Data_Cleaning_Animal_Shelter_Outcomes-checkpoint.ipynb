{
 "cells": [
  {
   "cell_type": "markdown",
   "metadata": {},
   "source": [
    "***Sam Cressman Capstone Project: Shelter Animal Outcomes***"
   ]
  },
  {
   "cell_type": "markdown",
   "metadata": {},
   "source": [
    "***Help improve outcomes for shelter animals***"
   ]
  },
  {
   "cell_type": "markdown",
   "metadata": {},
   "source": [
    "***Capstone inspiration:*** [Kaggle](https://www.kaggle.com/c/shelter-animal-outcomes)"
   ]
  },
  {
   "cell_type": "markdown",
   "metadata": {},
   "source": [
    "[Intake data (pulled 6/25/18)](https://data.austintexas.gov/Health-and-Community-Services/Austin-Animal-Center-Intakes/wter-evkm) <br>\n",
    "[Outcome data (pulled 6/25/18)](https://data.austintexas.gov/Health-and-Community-Services/Austin-Animal-Center-Outcomes/9t4d-g238) <br>"
   ]
  },
  {
   "cell_type": "markdown",
   "metadata": {},
   "source": [
    "\"Every year, approximately 7.6 million companion animals end up in US shelters. Many animals are given up as unwanted by their owners, while others are picked up after getting lost or taken out of cruelty situations. Many of these animals find forever families to take them home, but just as many are not so lucky. 2.7 million dogs and cats are euthanized in the US every year. <br>\n",
    "\n",
    "Using a dataset of intake information including breed, color, sex, and age from the Austin Animal Center, we're asking Kagglers to predict the outcome for each animal. <br>\n",
    "\n",
    "We also believe this dataset can help us understand trends in animal outcomes. These insights could help shelters focus their energy on specific animals who need a little extra help finding a new home. We encourage you to publish your insights on Scripts so they are publicly accessible.\" <br>"
   ]
  },
  {
   "cell_type": "markdown",
   "metadata": {},
   "source": [
    "***Post-Cleaning Column by Column Summary:***"
   ]
  },
  {
   "cell_type": "markdown",
   "metadata": {},
   "source": [
    "***Intake Time (from intakes)***: time animal entered Austin shelter system (DateTime object but split into day of month, day of week, month, and year: will dummy)\n",
    "\n",
    "***Intake Type (from intakes)***: type of intake: mainly strays, will dummy\n",
    "\n",
    "***Intake Condition (from intakes)***: description of animal upon entering Austin shelter system: vast majority are normal, will dummy\n",
    "\n",
    "***Sex upon Intake (from intakes)***: sex of animal (mainly refers to if the animal has been neutered/spayed or not): mainly intact males/females (not neutered/spayed), will dummy\n",
    "\n",
    "***Outcome Time (from outcomes)***: time animal left Austin shelter system (DateTime object but split into day of month, day of week, month, and year: will dummy)\n",
    "\n",
    "***Date of Birth (from outcomes)***: converting from object to DateTime\n",
    "\n",
    "***Outcome Type (from outcomes)***: target for modeling (what we are attempting to predict): mainly adoption, transfer, will map to numeric values\n",
    "\n",
    "***Outcome Subtype (from outcomes)***: approximately half null: will keep column for EDA/visualization purposes and to further examine Outcome Type but will not include in models\n",
    "\n",
    "***Animal Type (from outcomes)***: 5 types (mainly Dog and Cat) but also Bird, Livestock, and Other (Other contains 99 different breeds), will dummy\n",
    "\n",
    "***Sex upon Outcome (from outcomes)***: sex of animal at outcome (mainly refers to if the animal has been neutered/spayed or not): mainly neutered/spayed animals, will dummy\n",
    "\n",
    "***Breed (from outcomes)***: running through Natural Language Processing Count Vectorizer to create/combine Breed features (2212 unique breed combinations pre-cleaning) and address cleanliness issues. Creating a new dataframe of just the top 100 2-3 word length features from Breed, viewing that against original breed value counts to create buckets (\"dummy\" breed variables)\n",
    "\n",
    "***Color (from outcomes)***: running through Natural Language Processing Count Vectorizer to create/combine Color features (539 unique color combinations pre-cleaning). Creating a new dataframe of just the top 50 1-2 word length features from Color, concating with animals dataframe. If two colors: first color is primary color (assuming from original dataframe inputs)\n",
    "\n",
    "***has_name (from outcomes)***: Over 25,000 null values: transforming into \"1\" if animal contains a name, 0 otherwise\n",
    "\n",
    "***Age at Intake (Years) (created using intakes and outcomes)***: age in years: (Intake Time - Date of Birth) / 365\n",
    "\n",
    "***Age at Outcome (Years) (from outcomes)***: age in years: (Outcome Time - Date of Birth) / 365\n",
    "\n",
    "***Length of Time in Shelter (Days) (created using intakes and outcomes)***: outcome time - intake time"
   ]
  },
  {
   "cell_type": "code",
   "execution_count": 1,
   "metadata": {},
   "outputs": [],
   "source": [
    "import pandas as pd\n",
    "from sklearn.feature_extraction.text import CountVectorizer"
   ]
  },
  {
   "cell_type": "code",
   "execution_count": 2,
   "metadata": {},
   "outputs": [],
   "source": [
    "# intakes provides animal data when an animal enters the Austin shelter system\n",
    "# outcomes provides animal data when an animal departs the Austin shelter system\n",
    "\n",
    "intakes = pd.read_csv(\"./Austin_Animal_Center_Intakes.csv\")\n",
    "outcomes = pd.read_csv(\"./Austin_Animal_Center_Outcomes.csv\")"
   ]
  },
  {
   "cell_type": "markdown",
   "metadata": {},
   "source": [
    "***Merging Intakes and Outcomes***"
   ]
  },
  {
   "cell_type": "code",
   "execution_count": 3,
   "metadata": {},
   "outputs": [],
   "source": [
    "# After examining intakes/outcomes, keeping the following columns from intakes\n",
    "\n",
    "intakes_updated = intakes[[\"Animal ID\", \"DateTime\", \"Intake Type\", \"Intake Condition\", \"Sex upon Intake\"]]"
   ]
  },
  {
   "cell_type": "code",
   "execution_count": 4,
   "metadata": {},
   "outputs": [],
   "source": [
    "# Renaming intakes DateTime for clarity since outcomes has the same column/same column name\n",
    "\n",
    "intakes_updated = intakes_updated.rename(columns={\"DateTime\": \"Intake Time\"})"
   ]
  },
  {
   "cell_type": "code",
   "execution_count": 5,
   "metadata": {},
   "outputs": [],
   "source": [
    "# About 8000 duplicate values in intakes_updated\n",
    "\n",
    "intakes_updated[\"Animal ID\"].nunique(), intakes_updated.shape;"
   ]
  },
  {
   "cell_type": "code",
   "execution_count": 6,
   "metadata": {},
   "outputs": [],
   "source": [
    "# About 8000 duplicate values in outcomes\n",
    "\n",
    "outcomes[\"Animal ID\"].nunique(), outcomes.shape;"
   ]
  },
  {
   "cell_type": "code",
   "execution_count": 7,
   "metadata": {},
   "outputs": [],
   "source": [
    "# Dropping duplicate values: each animal will have one intake and one outcome\n",
    "\n",
    "intakes_updated.drop_duplicates(subset=[\"Animal ID\"], inplace = True)\n",
    "outcomes.drop_duplicates(subset=[\"Animal ID\"], inplace = True)"
   ]
  },
  {
   "cell_type": "code",
   "execution_count": 8,
   "metadata": {},
   "outputs": [],
   "source": [
    "# Merging intakes and outcomes on \"Animal ID\" since \"All animals receive a unique Animal ID during intake\"\n",
    "# (from above City of Austin Data website)\n",
    "\n",
    "animals = pd.merge(intakes_updated, outcomes, on = \"Animal ID\")"
   ]
  },
  {
   "cell_type": "code",
   "execution_count": 9,
   "metadata": {
    "scrolled": true
   },
   "outputs": [],
   "source": [
    "# New DataFrame has 75493 unique animal intakes/outcomes\n",
    "\n",
    "animals[\"Animal ID\"].nunique(), animals.shape;"
   ]
  },
  {
   "cell_type": "markdown",
   "metadata": {},
   "source": [
    "***Quick Data Cleaning EDA***"
   ]
  },
  {
   "cell_type": "code",
   "execution_count": 10,
   "metadata": {},
   "outputs": [],
   "source": [
    "# All object columns\n",
    "\n",
    "# animals.info()"
   ]
  },
  {
   "cell_type": "code",
   "execution_count": 11,
   "metadata": {},
   "outputs": [],
   "source": [
    "animals.head();"
   ]
  },
  {
   "cell_type": "code",
   "execution_count": 12,
   "metadata": {},
   "outputs": [],
   "source": [
    "animals.shape;"
   ]
  },
  {
   "cell_type": "markdown",
   "metadata": {},
   "source": [
    "***Animal ID***"
   ]
  },
  {
   "cell_type": "code",
   "execution_count": 13,
   "metadata": {},
   "outputs": [],
   "source": [
    "# Post-merge: dropping column"
   ]
  },
  {
   "cell_type": "code",
   "execution_count": 14,
   "metadata": {},
   "outputs": [],
   "source": [
    "animals.drop(columns=[\"Animal ID\"], axis = 1, inplace=True)"
   ]
  },
  {
   "cell_type": "markdown",
   "metadata": {},
   "source": [
    "***Name***"
   ]
  },
  {
   "cell_type": "code",
   "execution_count": 15,
   "metadata": {},
   "outputs": [],
   "source": [
    "# Converting into 1 if name, 0 otherwise due to high number of null values\n",
    "\n",
    "animals[\"Name\"].isnull().sum();"
   ]
  },
  {
   "cell_type": "code",
   "execution_count": 16,
   "metadata": {},
   "outputs": [],
   "source": [
    "# We see some names somewhat frequently\n",
    "\n",
    "animals[\"Name\"].value_counts()[0:10];"
   ]
  },
  {
   "cell_type": "code",
   "execution_count": 17,
   "metadata": {},
   "outputs": [],
   "source": [
    "animals[\"has_name\"] = animals['Name'].notnull().astype(int)"
   ]
  },
  {
   "cell_type": "code",
   "execution_count": 18,
   "metadata": {},
   "outputs": [],
   "source": [
    "# Dropping Name column\n",
    "\n",
    "animals.drop(columns=[\"Name\"], axis = 1, inplace=True)"
   ]
  },
  {
   "cell_type": "markdown",
   "metadata": {},
   "source": [
    "***DateTime (Intake Time)***"
   ]
  },
  {
   "cell_type": "code",
   "execution_count": 19,
   "metadata": {},
   "outputs": [],
   "source": [
    "# Renamed pre-merge from DateTime to Intake Time to avoid confusion\n",
    "\n",
    "animals[\"Intake Time\"] = pd.to_datetime(animals[\"Intake Time\"])"
   ]
  },
  {
   "cell_type": "code",
   "execution_count": 20,
   "metadata": {
    "scrolled": true
   },
   "outputs": [],
   "source": [
    "# Splitting out intake day, weekday, month, year, will dummy\n",
    "\n",
    "animals[\"Intake Day (Month)\"] = animals[\"Intake Time\"].dt.day\n",
    "\n",
    "animals[\"Intake Day (Week)\"] = animals[\"Intake Time\"].dt.weekday\n",
    "\n",
    "animals[\"Intake Month\"] = animals[\"Intake Time\"].dt.month\n",
    "\n",
    "animals[\"Intake Year\"] = animals[\"Intake Time\"].dt.year"
   ]
  },
  {
   "cell_type": "markdown",
   "metadata": {},
   "source": [
    "***DateTime (Outcome Time)***"
   ]
  },
  {
   "cell_type": "code",
   "execution_count": 21,
   "metadata": {},
   "outputs": [],
   "source": [
    "# DateTime is time of outcome: will rename for clarity:\n",
    "\n",
    "animals = animals.rename(columns={\"DateTime\": \"Outcome Time\"})"
   ]
  },
  {
   "cell_type": "code",
   "execution_count": 22,
   "metadata": {},
   "outputs": [],
   "source": [
    "# Converting to DateTime\n",
    "\n",
    "animals[\"Outcome Time\"] = pd.to_datetime(animals[\"Outcome Time\"])"
   ]
  },
  {
   "cell_type": "code",
   "execution_count": 23,
   "metadata": {},
   "outputs": [],
   "source": [
    "# Splitting out outcome day, weekday, month, year, will dummy\n",
    "\n",
    "animals[\"Outcome Day (Month)\"] = animals[\"Outcome Time\"].dt.day\n",
    "\n",
    "animals[\"Outcome Day (Week)\"] = animals[\"Outcome Time\"].dt.weekday\n",
    "\n",
    "animals[\"Outcome Month\"] = animals[\"Outcome Time\"].dt.month\n",
    "\n",
    "animals[\"Outcome Year\"] = animals[\"Outcome Time\"].dt.year"
   ]
  },
  {
   "cell_type": "markdown",
   "metadata": {},
   "source": [
    "***MonthYear***"
   ]
  },
  {
   "cell_type": "code",
   "execution_count": 24,
   "metadata": {
    "scrolled": true
   },
   "outputs": [],
   "source": [
    "# Dropping column: exactly the same as DateTime (now Outcome Time) from outcomes DataFrame\n",
    "\n",
    "animals.drop(columns = \"MonthYear\", axis = 1, inplace = True)"
   ]
  },
  {
   "cell_type": "markdown",
   "metadata": {},
   "source": [
    "***Intake Type***"
   ]
  },
  {
   "cell_type": "code",
   "execution_count": 25,
   "metadata": {},
   "outputs": [],
   "source": [
    "# Vast majority of intakes are strays, will dummy\n",
    "\n",
    "animals[\"Intake Type\"].value_counts();"
   ]
  },
  {
   "cell_type": "code",
   "execution_count": 26,
   "metadata": {},
   "outputs": [],
   "source": [
    "# No null values\n",
    "\n",
    "animals[\"Intake Type\"].isnull().sum();"
   ]
  },
  {
   "cell_type": "markdown",
   "metadata": {},
   "source": [
    "***Intake Condition***"
   ]
  },
  {
   "cell_type": "code",
   "execution_count": 27,
   "metadata": {},
   "outputs": [],
   "source": [
    "# Vast majority of intakes are normal, will dummy\n",
    "\n",
    "animals[\"Intake Condition\"].value_counts();"
   ]
  },
  {
   "cell_type": "code",
   "execution_count": 28,
   "metadata": {},
   "outputs": [],
   "source": [
    "# 0 null values\n",
    "\n",
    "animals[\"Intake Condition\"].isnull().sum();"
   ]
  },
  {
   "cell_type": "markdown",
   "metadata": {},
   "source": [
    "***Sex upon Intake***"
   ]
  },
  {
   "cell_type": "code",
   "execution_count": 29,
   "metadata": {},
   "outputs": [],
   "source": [
    "# Mainly intact males/females, will dummy\n",
    "\n",
    "animals[\"Sex upon Intake\"].value_counts();"
   ]
  },
  {
   "cell_type": "code",
   "execution_count": 30,
   "metadata": {},
   "outputs": [],
   "source": [
    "# 1 null value: dropping\n",
    "\n",
    "animals[\"Sex upon Intake\"].isnull().sum()\n",
    "\n",
    "animals.dropna(subset = [\"Sex upon Intake\"], inplace = True)"
   ]
  },
  {
   "cell_type": "markdown",
   "metadata": {},
   "source": [
    "***Date of Birth***"
   ]
  },
  {
   "cell_type": "code",
   "execution_count": 31,
   "metadata": {},
   "outputs": [],
   "source": [
    "# Converting from object to DateTime\n",
    "\n",
    "animals[\"Date of Birth\"] = pd.to_datetime(animals[\"Date of Birth\"])"
   ]
  },
  {
   "cell_type": "markdown",
   "metadata": {},
   "source": [
    "***Age at Intake (Years)***"
   ]
  },
  {
   "cell_type": "code",
   "execution_count": 32,
   "metadata": {},
   "outputs": [],
   "source": [
    "# Age in years: (Intake Time - Date of Birth) / 365\n",
    "\n",
    "animals[\"Age at Intake (Years)\"] = animals[\"Intake Time\"] - animals[\"Date of Birth\"]"
   ]
  },
  {
   "cell_type": "code",
   "execution_count": 33,
   "metadata": {},
   "outputs": [],
   "source": [
    "# Isolating days\n",
    "\n",
    "animals[\"Age at Intake (Years)\"] = animals[\"Age at Intake (Years)\"].dt.days"
   ]
  },
  {
   "cell_type": "code",
   "execution_count": 34,
   "metadata": {},
   "outputs": [],
   "source": [
    "# Dividing days by 365 to get float in years value\n",
    "\n",
    "animals[\"Age at Intake (Years)\"] = animals[\"Age at Intake (Years)\"] / 365"
   ]
  },
  {
   "cell_type": "markdown",
   "metadata": {},
   "source": [
    "***Age at Outcome (Years)***"
   ]
  },
  {
   "cell_type": "code",
   "execution_count": 35,
   "metadata": {},
   "outputs": [],
   "source": [
    "# Creating a new column subtracting Date of Birth and Time of Outcome \n",
    "# to get a time in years (then will drop Age upon Outcome)\n",
    "\n",
    "animals[\"Age at Outcome (Years)\"] = animals[\"Outcome Time\"] - animals[\"Date of Birth\"]"
   ]
  },
  {
   "cell_type": "code",
   "execution_count": 36,
   "metadata": {},
   "outputs": [],
   "source": [
    "# Isolating days\n",
    "\n",
    "animals[\"Age at Outcome (Years)\"] = animals[\"Age at Outcome (Years)\"].dt.days"
   ]
  },
  {
   "cell_type": "code",
   "execution_count": 37,
   "metadata": {},
   "outputs": [],
   "source": [
    "# Dividing days by 365 to get float in years value\n",
    "\n",
    "animals[\"Age at Outcome (Years)\"] = animals[\"Age at Outcome (Years)\"] / 365"
   ]
  },
  {
   "cell_type": "code",
   "execution_count": 38,
   "metadata": {},
   "outputs": [],
   "source": [
    "# Dropping old column\n",
    "\n",
    "animals.drop(columns = \"Age upon Outcome\", axis = 1, inplace = True)"
   ]
  },
  {
   "cell_type": "markdown",
   "metadata": {},
   "source": [
    "***Length of Time In Shelter (Years)***"
   ]
  },
  {
   "cell_type": "code",
   "execution_count": 39,
   "metadata": {},
   "outputs": [],
   "source": [
    "# Length of time in shelter (years): outcome time - intake time\n",
    "\n",
    "animals[\"Length of Time In Shelter (Days)\"] = animals[\"Outcome Time\"] - animals[\"Intake Time\"]"
   ]
  },
  {
   "cell_type": "code",
   "execution_count": 40,
   "metadata": {},
   "outputs": [],
   "source": [
    "# Dividing days by 365 to get float in years value\n",
    "\n",
    "animals[\"Length of Time In Shelter (Days)\"] = animals[\"Length of Time In Shelter (Days)\"].dt.days"
   ]
  },
  {
   "cell_type": "markdown",
   "metadata": {},
   "source": [
    "***Outcome Type***"
   ]
  },
  {
   "cell_type": "code",
   "execution_count": 41,
   "metadata": {},
   "outputs": [],
   "source": [
    "# Outcome Type: target for modeling (what we are attempting to predict): mainly adoption, transfer, will be converting\n",
    "# to numeric for modeling\n",
    "\n",
    "animals[\"Outcome Type\"].unique();"
   ]
  },
  {
   "cell_type": "code",
   "execution_count": 42,
   "metadata": {},
   "outputs": [],
   "source": [
    "# Mainly adoption, transfer\n",
    "\n",
    "animals[\"Outcome Type\"].value_counts();"
   ]
  },
  {
   "cell_type": "code",
   "execution_count": 43,
   "metadata": {},
   "outputs": [],
   "source": [
    "# 12 null values: dropping those rows\n",
    "\n",
    "animals[\"Outcome Type\"].isnull().sum()\n",
    "\n",
    "animals.dropna(subset = [\"Outcome Type\"], inplace = True)"
   ]
  },
  {
   "cell_type": "markdown",
   "metadata": {},
   "source": [
    "***Outcome Subtype***"
   ]
  },
  {
   "cell_type": "code",
   "execution_count": 44,
   "metadata": {},
   "outputs": [],
   "source": [
    "# Outcome Subtype: approximately half null: will keep column for EDA/visualization purposes \n",
    "# and to further examine against Outcome Type but will not include in modeleling\n",
    "\n",
    "animals[\"Outcome Subtype\"].value_counts();"
   ]
  },
  {
   "cell_type": "markdown",
   "metadata": {},
   "source": [
    "***Animal Type***"
   ]
  },
  {
   "cell_type": "code",
   "execution_count": 45,
   "metadata": {},
   "outputs": [],
   "source": [
    "# 5 types (mainly Dog and Cat) but also Bird, Livestock, and Other \n",
    "# (Other contains 99 different species)(will dummy column)\n",
    "\n",
    "animals[\"Animal Type\"].unique();"
   ]
  },
  {
   "cell_type": "code",
   "execution_count": 46,
   "metadata": {},
   "outputs": [],
   "source": [
    "# Mainly dogs and cats\n",
    "\n",
    "animals[\"Animal Type\"].value_counts();"
   ]
  },
  {
   "cell_type": "code",
   "execution_count": 47,
   "metadata": {},
   "outputs": [],
   "source": [
    "# 99 unique \"Other\" breeds\n",
    "\n",
    "animals[animals[\"Animal Type\"] == \"Other\"][\"Breed\"].nunique() \n",
    "animals[animals[\"Animal Type\"] == \"Other\"][\"Breed\"].unique();"
   ]
  },
  {
   "cell_type": "markdown",
   "metadata": {},
   "source": [
    "***Sex upon Outcome***"
   ]
  },
  {
   "cell_type": "code",
   "execution_count": 48,
   "metadata": {},
   "outputs": [],
   "source": [
    "# Will dummy\n",
    "\n",
    "animals[\"Sex upon Outcome\"].unique();"
   ]
  },
  {
   "cell_type": "code",
   "execution_count": 49,
   "metadata": {
    "scrolled": true
   },
   "outputs": [],
   "source": [
    "# Mainly neutered males and spayed females\n",
    "\n",
    "animals[\"Sex upon Outcome\"].value_counts();"
   ]
  },
  {
   "cell_type": "code",
   "execution_count": 50,
   "metadata": {},
   "outputs": [],
   "source": [
    "# One null value (dropping), many Unknown values\n",
    "\n",
    "animals[\"Sex upon Outcome\"].isnull().sum()\n",
    "\n",
    "animals.dropna(subset = [\"Sex upon Outcome\"], inplace = True)"
   ]
  },
  {
   "cell_type": "code",
   "execution_count": 51,
   "metadata": {},
   "outputs": [],
   "source": [
    "# 3989 of 7207 Unknown Sex upon Outcome are \"Other\" Animal Type\n",
    "\n",
    "mask = (animals[\"Sex upon Outcome\"] == \"Unknown\") & (animals[\"Animal Type\"] == \"Other\")\n",
    "len(animals[mask]);"
   ]
  },
  {
   "cell_type": "markdown",
   "metadata": {},
   "source": [
    "***Breed***"
   ]
  },
  {
   "cell_type": "markdown",
   "metadata": {},
   "source": [
    "[Count Vectorizer Documentation](http://scikit-learn.org/stable/modules/generated/sklearn.feature_extraction.text.CountVectorizer.html)"
   ]
  },
  {
   "cell_type": "code",
   "execution_count": 52,
   "metadata": {},
   "outputs": [],
   "source": [
    "# Running through Natural Language Processing Count Vectorizer to create/combine Breed features (2223 unique breeds) \n",
    "# and address cleanliness issues"
   ]
  },
  {
   "cell_type": "code",
   "execution_count": 53,
   "metadata": {},
   "outputs": [],
   "source": [
    "# All over the place with spelling/variation\n",
    "\n",
    "animals[\"Breed\"].value_counts();\n",
    "\n",
    "# animals[\"Breed\"].value_counts().to_dict()"
   ]
  },
  {
   "cell_type": "code",
   "execution_count": 54,
   "metadata": {},
   "outputs": [],
   "source": [
    "# 2212 \"unique\" Breeds\n",
    "\n",
    "animals[\"Breed\"].nunique();"
   ]
  },
  {
   "cell_type": "code",
   "execution_count": 55,
   "metadata": {},
   "outputs": [],
   "source": [
    "# Cleaning\n",
    "\n",
    "animals[\"Breed\"] = animals[\"Breed\"].str.replace(\"mix\", \"\", case = False)\n",
    "animals[\"Breed\"] = animals[\"Breed\"].str.replace(\"/\", \" \")\n",
    "animals[\"Breed\"] = animals[\"Breed\"].str.rstrip()"
   ]
  },
  {
   "cell_type": "code",
   "execution_count": 56,
   "metadata": {},
   "outputs": [],
   "source": [
    "# Setting up column/text to Vectorize\n",
    "\n",
    "corpus = animals[\"Breed\"].tolist()\n",
    "corpus[0:10];"
   ]
  },
  {
   "cell_type": "code",
   "execution_count": 57,
   "metadata": {},
   "outputs": [],
   "source": [
    "# Count Vectorizer: creating a new dataframe of just the top 100 2-3 word length features from Breed\n",
    "\n",
    "cvec = CountVectorizer(analyzer = \"word\", ngram_range = (2, 3), lowercase = True, max_features = 100)\n",
    "cvec.fit(corpus)\n",
    "\n",
    "df_breeds_vec = pd.DataFrame(cvec.transform(corpus).todense(), columns = cvec.get_feature_names())"
   ]
  },
  {
   "cell_type": "code",
   "execution_count": 58,
   "metadata": {},
   "outputs": [],
   "source": [
    "# Quick check\n",
    "\n",
    "df_breeds_vec.shape, animals.shape;"
   ]
  },
  {
   "cell_type": "code",
   "execution_count": 59,
   "metadata": {
    "scrolled": true
   },
   "outputs": [],
   "source": [
    "# Quick check\n",
    "\n",
    "df_breeds_vec.head();"
   ]
  },
  {
   "cell_type": "code",
   "execution_count": 60,
   "metadata": {},
   "outputs": [],
   "source": [
    "# Quick check\n",
    "\n",
    "df_breeds_vec.columns;"
   ]
  },
  {
   "cell_type": "code",
   "execution_count": 61,
   "metadata": {},
   "outputs": [],
   "source": [
    "# Using above Count Vectorized top 100 breeds as well as above value counts to create breed \"buckets\"\n",
    "\n",
    "# Bucketing into 54 breeds\n",
    "\n",
    "breeds = [\"husky\", \"pit\", \"bulldog\", \"shorthair\", \"staffordshire\", \"terrier\", \"shepherd\",\n",
    "                 \"australian cattle\", \"kelpie\", \"hound\", \"black tan\",\"blue lacy\", \"collie\",\n",
    "                 \"labrador\", \"retriever\",\"welsh\", \"chihuahua\", \"dachshund\", \"sharpei\", \"chow chow\",\n",
    "                 \"spaniel\", \"doberman\",\"longhair\", \"medium\", \"english\", \"flat coat\",\n",
    "                 \"dane\", \"pyrenees\", \"guinea pig\", \"lhasa apso\",\n",
    "                 \"maine\", \"pinscher\", \"schnauzer\", \"mouth cur\",\n",
    "                 \"heeler\", \"rabbit\", \"ridgeback\", \"shih tzu\", \"poodle\",\n",
    "                 \"bat\", \"raccoon\", \"catahoula\", \"beagle\", \"boxer\", \"siamese\", \"pointer\",\n",
    "                 \"rottweiler\", \"opossum\", \"maltese\", \"pug\", \"pomeranian\", \"skunk\", \"mastiff\", \"manx\"]\n",
    "\n",
    "for breed in breeds:\n",
    "    animals[breed] = animals[\"Breed\"].str.contains(breed, case=False).astype(int)\n",
    "    \n",
    "len(breeds); "
   ]
  },
  {
   "cell_type": "markdown",
   "metadata": {},
   "source": [
    "***Color***"
   ]
  },
  {
   "cell_type": "code",
   "execution_count": 62,
   "metadata": {},
   "outputs": [],
   "source": [
    "# Running through Natural Language Processing Count Vectorizer to \n",
    "# create/combine Color features (538 unique color combinations) (assuming first color is primary color)"
   ]
  },
  {
   "cell_type": "code",
   "execution_count": 63,
   "metadata": {},
   "outputs": [],
   "source": [
    "# 13 null values: need to drop\n",
    "\n",
    "# animals[\"Color\"].isnull().sum()\n",
    "\n",
    "# animals.dropna(subset = [\"Color\"], inplace = True)"
   ]
  },
  {
   "cell_type": "code",
   "execution_count": 64,
   "metadata": {},
   "outputs": [],
   "source": [
    "# 539 unique color combinations\n",
    "\n",
    "animals[\"Color\"].nunique();"
   ]
  },
  {
   "cell_type": "code",
   "execution_count": 65,
   "metadata": {},
   "outputs": [],
   "source": [
    "# Cleaning\n",
    "\n",
    "animals[\"Color\"] = animals[\"Color\"].str.replace(\"/\", \" \")"
   ]
  },
  {
   "cell_type": "code",
   "execution_count": 66,
   "metadata": {},
   "outputs": [],
   "source": [
    "# Colors are repeated in different ways many times (ex: Black White vs. Black vs. Black Brown vs. Brown Black)\n",
    "\n",
    "animals[\"Color\"].value_counts();"
   ]
  },
  {
   "cell_type": "code",
   "execution_count": 67,
   "metadata": {},
   "outputs": [],
   "source": [
    "# Setting up column/text to Vectorize\n",
    "\n",
    "color_corpus = animals[\"Color\"].tolist()\n",
    "color_corpus[0:10];"
   ]
  },
  {
   "cell_type": "code",
   "execution_count": 68,
   "metadata": {},
   "outputs": [],
   "source": [
    "# Count Vectorizer: creating a new dataframe of just the top 50 1-2 word length features from Color\n",
    "\n",
    "color_cvec = CountVectorizer(analyzer = \"word\", ngram_range = (1, 2), lowercase = True, max_features = 50)\n",
    "color_cvec.fit(color_corpus)\n",
    "\n",
    "df_color_vec = pd.DataFrame(color_cvec.transform(color_corpus).todense(), columns = color_cvec.get_feature_names())"
   ]
  },
  {
   "cell_type": "code",
   "execution_count": 69,
   "metadata": {},
   "outputs": [],
   "source": [
    "# Quick check\n",
    "\n",
    "df_color_vec.columns;"
   ]
  },
  {
   "cell_type": "code",
   "execution_count": 70,
   "metadata": {},
   "outputs": [],
   "source": [
    "# Avoiding any potential concating issues\n",
    "\n",
    "animals.reset_index(drop = True, inplace = True)\n",
    "df_color_vec.reset_index(drop = True, inplace = True)"
   ]
  },
  {
   "cell_type": "code",
   "execution_count": 71,
   "metadata": {},
   "outputs": [],
   "source": [
    "# Concating to animals\n",
    "\n",
    "animals = pd.concat([animals, df_color_vec], axis = 1)"
   ]
  },
  {
   "cell_type": "code",
   "execution_count": 72,
   "metadata": {},
   "outputs": [],
   "source": [
    "# Below is method of examing the top 20 colors from value counts and manually creating dummy columns\n",
    "\n",
    "# colors = [\"black\", \"white\", \"brown\", \"tabby\", \"tan\", \"orange\", \"blue\", \"tricolor\", \"calico\", \"brindle\", \"tortie\",\n",
    "#           \"torbie\", \"red\", \"chocolate\", \"gray\", \"yellow\", \"green\", \"silver\", \"gold\", \"cream\"]\n",
    "\n",
    "# for color in colors:\n",
    "#     animals[color] = animals[\"Color\"].str.contains(color, case=False).astype(int)\n",
    "    \n",
    "# animals.drop(columns=[\"Color\"], axis = 1, inplace=True)    "
   ]
  },
  {
   "cell_type": "markdown",
   "metadata": {},
   "source": [
    "***Pre-Dummy/Numeric Saving to CSV***"
   ]
  },
  {
   "cell_type": "code",
   "execution_count": 73,
   "metadata": {},
   "outputs": [],
   "source": [
    "# animals.to_csv(\"cleaned_animals_pre_numeric_pre_dummies\", index = False)"
   ]
  },
  {
   "cell_type": "markdown",
   "metadata": {},
   "source": [
    "***Dummy/Numeric Columns***"
   ]
  },
  {
   "cell_type": "code",
   "execution_count": 74,
   "metadata": {},
   "outputs": [],
   "source": [
    "# Converting Outcome Type to 0 if unsuccessful outcome and 1 if successful outcome (animal has left shelter system)\n",
    "\n",
    "outcome_dict = {\"Transfer\": 1, \"Adoption\":1 , \"Return to Owner\": 1, \"Euthanasia\":0, \"Rto-Adopt\":1, \"Disposal\":0,\n",
    "             \"Died\":0, \"Missing\":0, \"Relocate\":1}\n",
    "\n",
    "animals[\"Outcome Type\"] = animals[\"Outcome Type\"].map(outcome_dict)"
   ]
  },
  {
   "cell_type": "code",
   "execution_count": 79,
   "metadata": {},
   "outputs": [],
   "source": [
    "animals = pd.get_dummies(data = animals, columns = [\"Intake Type\", \"Intake Condition\", \"Sex upon Intake\", \"Animal Type\", \"Sex upon Outcome\",\n",
    "\"Intake Day (Month)\", \"Intake Day (Week)\", \"Intake Month\",\"Intake Year\", \"Outcome Day (Month)\",\n",
    "\"Outcome Day (Week)\", \"Outcome Month\", \"Outcome Year\"])"
   ]
  },
  {
   "cell_type": "markdown",
   "metadata": {},
   "source": [
    "***Saving Dummy/Numeric Columns to CSV***"
   ]
  },
  {
   "cell_type": "code",
   "execution_count": 80,
   "metadata": {},
   "outputs": [],
   "source": [
    "# animals.to_csv(\"cleaned_animals_numeric_dummies\", index = False)"
   ]
  }
 ],
 "metadata": {
  "kernelspec": {
   "display_name": "Python 3",
   "language": "python",
   "name": "python3"
  },
  "language_info": {
   "codemirror_mode": {
    "name": "ipython",
    "version": 3
   },
   "file_extension": ".py",
   "mimetype": "text/x-python",
   "name": "python",
   "nbconvert_exporter": "python",
   "pygments_lexer": "ipython3",
   "version": "3.6.4"
  }
 },
 "nbformat": 4,
 "nbformat_minor": 2
}
