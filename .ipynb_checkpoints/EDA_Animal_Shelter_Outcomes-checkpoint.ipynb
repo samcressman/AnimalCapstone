{
 "cells": [
  {
   "cell_type": "code",
   "execution_count": 1,
   "metadata": {},
   "outputs": [],
   "source": [
    "import pandas as pd"
   ]
  },
  {
   "cell_type": "code",
   "execution_count": 2,
   "metadata": {},
   "outputs": [],
   "source": [
    "animals = pd.read_csv(\"Austin_Animal_Center_Outcomes.csv\")"
   ]
  },
  {
   "cell_type": "markdown",
   "metadata": {},
   "source": [
    "Considering cleaning and then splitting into 3 dfs for Dogs, Cats, and Other (and modeling on each Animal Type)\n",
    "\n",
    "***Animal ID***: likely will drop column (acts as an index)\n",
    "\n",
    "***Name***: dropping column: over 25000 null while the highest actual name is repeated only 405 times\n",
    "\n",
    "***DateTime***: time of outcome: object type, will convert to DateTime and likely split out and dummy date/month/year variables\n",
    "\n",
    "***MonthYear***: dropping column (exactly the same as DateTime)\n",
    "\n",
    "***Date of Birth***: converting to DateTime\n",
    "\n",
    "***Outcome Type***: target, will drop 12 null values, will utilize to_categorical since multi-class classification\n",
    "\n",
    "***Outcome Subtype***: approximately half null: will keep column for EDA purposes and to further examine Outcome Type but may not include in models\n",
    "\n",
    "***Animal Type***: 5 types (mainly Dog and Cat) but also Bird, Livestock, and Other (Other contains 99 different species). Will likely just use Dog and Cat to model but will use all Animal Type for EDA\n",
    "\n",
    "***Sex upon Outcome***: Neutered Male, Spayed Female, Intact Male, Intact Female, Unknown (mainly Animal Type Other)\n",
    "\n",
    "***Age upon Outcome***: creating a new column subtracting Date of Birth and Time of Outcome to get a time in days (then will drop Age Outcome since this column contains weeks, months, years)\n",
    "\n",
    "***Breed***: TBD\n",
    "\n",
    "***Color***: TBD"
   ]
  },
  {
   "cell_type": "code",
   "execution_count": 3,
   "metadata": {},
   "outputs": [
    {
     "data": {
      "text/html": [
       "<div>\n",
       "<style scoped>\n",
       "    .dataframe tbody tr th:only-of-type {\n",
       "        vertical-align: middle;\n",
       "    }\n",
       "\n",
       "    .dataframe tbody tr th {\n",
       "        vertical-align: top;\n",
       "    }\n",
       "\n",
       "    .dataframe thead th {\n",
       "        text-align: right;\n",
       "    }\n",
       "</style>\n",
       "<table border=\"1\" class=\"dataframe\">\n",
       "  <thead>\n",
       "    <tr style=\"text-align: right;\">\n",
       "      <th></th>\n",
       "      <th>Animal ID</th>\n",
       "      <th>Name</th>\n",
       "      <th>DateTime</th>\n",
       "      <th>MonthYear</th>\n",
       "      <th>Date of Birth</th>\n",
       "      <th>Outcome Type</th>\n",
       "      <th>Outcome Subtype</th>\n",
       "      <th>Animal Type</th>\n",
       "      <th>Sex upon Outcome</th>\n",
       "      <th>Age upon Outcome</th>\n",
       "      <th>Breed</th>\n",
       "      <th>Color</th>\n",
       "    </tr>\n",
       "  </thead>\n",
       "  <tbody>\n",
       "    <tr>\n",
       "      <th>0</th>\n",
       "      <td>A741715</td>\n",
       "      <td>*Pebbles</td>\n",
       "      <td>01/11/2017 06:17:00 PM</td>\n",
       "      <td>01/11/2017 06:17:00 PM</td>\n",
       "      <td>03/07/2016</td>\n",
       "      <td>Adoption</td>\n",
       "      <td>NaN</td>\n",
       "      <td>Cat</td>\n",
       "      <td>Spayed Female</td>\n",
       "      <td>10 months</td>\n",
       "      <td>Domestic Shorthair Mix</td>\n",
       "      <td>Calico</td>\n",
       "    </tr>\n",
       "    <tr>\n",
       "      <th>1</th>\n",
       "      <td>A658751</td>\n",
       "      <td>Benji</td>\n",
       "      <td>11/13/2016 01:38:00 PM</td>\n",
       "      <td>11/13/2016 01:38:00 PM</td>\n",
       "      <td>07/14/2011</td>\n",
       "      <td>Return to Owner</td>\n",
       "      <td>NaN</td>\n",
       "      <td>Dog</td>\n",
       "      <td>Neutered Male</td>\n",
       "      <td>5 years</td>\n",
       "      <td>Border Terrier Mix</td>\n",
       "      <td>Tan</td>\n",
       "    </tr>\n",
       "    <tr>\n",
       "      <th>2</th>\n",
       "      <td>A721285</td>\n",
       "      <td>NaN</td>\n",
       "      <td>02/24/2016 02:42:00 PM</td>\n",
       "      <td>02/24/2016 02:42:00 PM</td>\n",
       "      <td>02/24/2014</td>\n",
       "      <td>Euthanasia</td>\n",
       "      <td>Suffering</td>\n",
       "      <td>Other</td>\n",
       "      <td>Unknown</td>\n",
       "      <td>2 years</td>\n",
       "      <td>Raccoon Mix</td>\n",
       "      <td>Black/Gray</td>\n",
       "    </tr>\n",
       "    <tr>\n",
       "      <th>3</th>\n",
       "      <td>A746650</td>\n",
       "      <td>Rose</td>\n",
       "      <td>04/07/2017 11:58:00 AM</td>\n",
       "      <td>04/07/2017 11:58:00 AM</td>\n",
       "      <td>04/06/2016</td>\n",
       "      <td>Return to Owner</td>\n",
       "      <td>NaN</td>\n",
       "      <td>Dog</td>\n",
       "      <td>Intact Female</td>\n",
       "      <td>1 year</td>\n",
       "      <td>Labrador Retriever/Jack Russell Terrier</td>\n",
       "      <td>Yellow</td>\n",
       "    </tr>\n",
       "    <tr>\n",
       "      <th>4</th>\n",
       "      <td>A750122</td>\n",
       "      <td>Happy Camper</td>\n",
       "      <td>05/24/2017 06:36:00 PM</td>\n",
       "      <td>05/24/2017 06:36:00 PM</td>\n",
       "      <td>04/08/2017</td>\n",
       "      <td>Transfer</td>\n",
       "      <td>Partner</td>\n",
       "      <td>Dog</td>\n",
       "      <td>Intact Male</td>\n",
       "      <td>1 month</td>\n",
       "      <td>Labrador Retriever Mix</td>\n",
       "      <td>Black</td>\n",
       "    </tr>\n",
       "  </tbody>\n",
       "</table>\n",
       "</div>"
      ],
      "text/plain": [
       "  Animal ID          Name                DateTime               MonthYear  \\\n",
       "0   A741715      *Pebbles  01/11/2017 06:17:00 PM  01/11/2017 06:17:00 PM   \n",
       "1   A658751         Benji  11/13/2016 01:38:00 PM  11/13/2016 01:38:00 PM   \n",
       "2   A721285           NaN  02/24/2016 02:42:00 PM  02/24/2016 02:42:00 PM   \n",
       "3   A746650          Rose  04/07/2017 11:58:00 AM  04/07/2017 11:58:00 AM   \n",
       "4   A750122  Happy Camper  05/24/2017 06:36:00 PM  05/24/2017 06:36:00 PM   \n",
       "\n",
       "  Date of Birth     Outcome Type Outcome Subtype Animal Type Sex upon Outcome  \\\n",
       "0    03/07/2016         Adoption             NaN         Cat    Spayed Female   \n",
       "1    07/14/2011  Return to Owner             NaN         Dog    Neutered Male   \n",
       "2    02/24/2014       Euthanasia       Suffering       Other          Unknown   \n",
       "3    04/06/2016  Return to Owner             NaN         Dog    Intact Female   \n",
       "4    04/08/2017         Transfer         Partner         Dog      Intact Male   \n",
       "\n",
       "  Age upon Outcome                                    Breed       Color  \n",
       "0        10 months                   Domestic Shorthair Mix      Calico  \n",
       "1          5 years                       Border Terrier Mix         Tan  \n",
       "2          2 years                              Raccoon Mix  Black/Gray  \n",
       "3           1 year  Labrador Retriever/Jack Russell Terrier      Yellow  \n",
       "4          1 month                   Labrador Retriever Mix       Black  "
      ]
     },
     "execution_count": 3,
     "metadata": {},
     "output_type": "execute_result"
    }
   ],
   "source": [
    "animals.head()"
   ]
  },
  {
   "cell_type": "code",
   "execution_count": 4,
   "metadata": {},
   "outputs": [
    {
     "data": {
      "text/plain": [
       "(84246, 12)"
      ]
     },
     "execution_count": 4,
     "metadata": {},
     "output_type": "execute_result"
    }
   ],
   "source": [
    "animals.shape"
   ]
  },
  {
   "cell_type": "code",
   "execution_count": 5,
   "metadata": {},
   "outputs": [
    {
     "name": "stdout",
     "output_type": "stream",
     "text": [
      "<class 'pandas.core.frame.DataFrame'>\n",
      "RangeIndex: 84246 entries, 0 to 84245\n",
      "Data columns (total 12 columns):\n",
      "Animal ID           84246 non-null object\n",
      "Name                58329 non-null object\n",
      "DateTime            84246 non-null object\n",
      "MonthYear           84246 non-null object\n",
      "Date of Birth       84246 non-null object\n",
      "Outcome Type        84234 non-null object\n",
      "Outcome Subtype     38552 non-null object\n",
      "Animal Type         84246 non-null object\n",
      "Sex upon Outcome    84243 non-null object\n",
      "Age upon Outcome    84239 non-null object\n",
      "Breed               84246 non-null object\n",
      "Color               84246 non-null object\n",
      "dtypes: object(12)\n",
      "memory usage: 7.7+ MB\n"
     ]
    }
   ],
   "source": [
    "animals.info()"
   ]
  },
  {
   "cell_type": "code",
   "execution_count": 6,
   "metadata": {},
   "outputs": [
    {
     "data": {
      "text/plain": [
       "Animal ID               0\n",
       "Name                25917\n",
       "DateTime                0\n",
       "MonthYear               0\n",
       "Date of Birth           0\n",
       "Outcome Type           12\n",
       "Outcome Subtype     45694\n",
       "Animal Type             0\n",
       "Sex upon Outcome        3\n",
       "Age upon Outcome        7\n",
       "Breed                   0\n",
       "Color                   0\n",
       "dtype: int64"
      ]
     },
     "execution_count": 6,
     "metadata": {},
     "output_type": "execute_result"
    }
   ],
   "source": [
    "animals.isnull().sum()"
   ]
  },
  {
   "cell_type": "markdown",
   "metadata": {},
   "source": [
    "***Animal ID***"
   ]
  },
  {
   "cell_type": "code",
   "execution_count": 7,
   "metadata": {},
   "outputs": [],
   "source": [
    "# Column acts as an index: dropping column"
   ]
  },
  {
   "cell_type": "code",
   "execution_count": 8,
   "metadata": {},
   "outputs": [],
   "source": [
    "animals.drop(columns=[\"Animal ID\"], axis = 1, inplace=True)"
   ]
  },
  {
   "cell_type": "markdown",
   "metadata": {},
   "source": [
    "***Name***"
   ]
  },
  {
   "cell_type": "code",
   "execution_count": 9,
   "metadata": {},
   "outputs": [
    {
     "data": {
      "text/plain": [
       "25917"
      ]
     },
     "execution_count": 9,
     "metadata": {},
     "output_type": "execute_result"
    }
   ],
   "source": [
    "animals[\"Name\"].isnull().sum()"
   ]
  },
  {
   "cell_type": "code",
   "execution_count": 10,
   "metadata": {},
   "outputs": [],
   "source": [
    "# Noticed many names contain an \"*\": replacing \"*\" values from Name to see if top name values increase\n",
    "\n",
    "animals[\"Name\"] = animals[\"Name\"].str.replace(\"*\", \"\")"
   ]
  },
  {
   "cell_type": "code",
   "execution_count": 11,
   "metadata": {},
   "outputs": [
    {
     "data": {
      "text/plain": [
       "Max         405\n",
       "Bella       401\n",
       "Charlie     315\n",
       "Luna        312\n",
       "Daisy       306\n",
       "Rocky       277\n",
       "Princess    261\n",
       "Lucy        258\n",
       "Buddy       238\n",
       "Coco        219\n",
       "Name: Name, dtype: int64"
      ]
     },
     "execution_count": 11,
     "metadata": {},
     "output_type": "execute_result"
    }
   ],
   "source": [
    "animals[\"Name\"].value_counts()[0:10]"
   ]
  },
  {
   "cell_type": "code",
   "execution_count": 12,
   "metadata": {},
   "outputs": [],
   "source": [
    "# 25917 null values, next highest name has only 405 entries: dropping column"
   ]
  },
  {
   "cell_type": "code",
   "execution_count": 13,
   "metadata": {},
   "outputs": [],
   "source": [
    "animals.drop(columns=[\"Name\"], axis = 1, inplace=True)"
   ]
  },
  {
   "cell_type": "markdown",
   "metadata": {},
   "source": [
    "***DateTime***"
   ]
  },
  {
   "cell_type": "code",
   "execution_count": 14,
   "metadata": {},
   "outputs": [],
   "source": [
    "# Converting to DateTime object\n",
    "\n",
    "animals[\"DateTime\"] = pd.to_datetime(animals[\"DateTime\"]) # , format = \"%d/%m/%Y\")\n",
    "# animals.info()\n",
    "\n",
    "# Renaming:\n",
    "\n",
    "animals = animals.rename(columns={\"DateTime\": \"Time of Outcome\"})"
   ]
  },
  {
   "cell_type": "markdown",
   "metadata": {},
   "source": [
    "***MonthYear***"
   ]
  },
  {
   "cell_type": "code",
   "execution_count": 15,
   "metadata": {
    "scrolled": true
   },
   "outputs": [
    {
     "data": {
      "text/html": [
       "<div>\n",
       "<style scoped>\n",
       "    .dataframe tbody tr th:only-of-type {\n",
       "        vertical-align: middle;\n",
       "    }\n",
       "\n",
       "    .dataframe tbody tr th {\n",
       "        vertical-align: top;\n",
       "    }\n",
       "\n",
       "    .dataframe thead th {\n",
       "        text-align: right;\n",
       "    }\n",
       "</style>\n",
       "<table border=\"1\" class=\"dataframe\">\n",
       "  <thead>\n",
       "    <tr style=\"text-align: right;\">\n",
       "      <th></th>\n",
       "      <th>Time of Outcome</th>\n",
       "      <th>Date of Birth</th>\n",
       "      <th>Outcome Type</th>\n",
       "      <th>Outcome Subtype</th>\n",
       "      <th>Animal Type</th>\n",
       "      <th>Sex upon Outcome</th>\n",
       "      <th>Age upon Outcome</th>\n",
       "      <th>Breed</th>\n",
       "      <th>Color</th>\n",
       "    </tr>\n",
       "  </thead>\n",
       "  <tbody>\n",
       "    <tr>\n",
       "      <th>0</th>\n",
       "      <td>2017-01-11 18:17:00</td>\n",
       "      <td>03/07/2016</td>\n",
       "      <td>Adoption</td>\n",
       "      <td>NaN</td>\n",
       "      <td>Cat</td>\n",
       "      <td>Spayed Female</td>\n",
       "      <td>10 months</td>\n",
       "      <td>Domestic Shorthair Mix</td>\n",
       "      <td>Calico</td>\n",
       "    </tr>\n",
       "    <tr>\n",
       "      <th>1</th>\n",
       "      <td>2016-11-13 13:38:00</td>\n",
       "      <td>07/14/2011</td>\n",
       "      <td>Return to Owner</td>\n",
       "      <td>NaN</td>\n",
       "      <td>Dog</td>\n",
       "      <td>Neutered Male</td>\n",
       "      <td>5 years</td>\n",
       "      <td>Border Terrier Mix</td>\n",
       "      <td>Tan</td>\n",
       "    </tr>\n",
       "    <tr>\n",
       "      <th>2</th>\n",
       "      <td>2016-02-24 14:42:00</td>\n",
       "      <td>02/24/2014</td>\n",
       "      <td>Euthanasia</td>\n",
       "      <td>Suffering</td>\n",
       "      <td>Other</td>\n",
       "      <td>Unknown</td>\n",
       "      <td>2 years</td>\n",
       "      <td>Raccoon Mix</td>\n",
       "      <td>Black/Gray</td>\n",
       "    </tr>\n",
       "    <tr>\n",
       "      <th>3</th>\n",
       "      <td>2017-04-07 11:58:00</td>\n",
       "      <td>04/06/2016</td>\n",
       "      <td>Return to Owner</td>\n",
       "      <td>NaN</td>\n",
       "      <td>Dog</td>\n",
       "      <td>Intact Female</td>\n",
       "      <td>1 year</td>\n",
       "      <td>Labrador Retriever/Jack Russell Terrier</td>\n",
       "      <td>Yellow</td>\n",
       "    </tr>\n",
       "    <tr>\n",
       "      <th>4</th>\n",
       "      <td>2017-05-24 18:36:00</td>\n",
       "      <td>04/08/2017</td>\n",
       "      <td>Transfer</td>\n",
       "      <td>Partner</td>\n",
       "      <td>Dog</td>\n",
       "      <td>Intact Male</td>\n",
       "      <td>1 month</td>\n",
       "      <td>Labrador Retriever Mix</td>\n",
       "      <td>Black</td>\n",
       "    </tr>\n",
       "  </tbody>\n",
       "</table>\n",
       "</div>"
      ],
      "text/plain": [
       "      Time of Outcome Date of Birth     Outcome Type Outcome Subtype  \\\n",
       "0 2017-01-11 18:17:00    03/07/2016         Adoption             NaN   \n",
       "1 2016-11-13 13:38:00    07/14/2011  Return to Owner             NaN   \n",
       "2 2016-02-24 14:42:00    02/24/2014       Euthanasia       Suffering   \n",
       "3 2017-04-07 11:58:00    04/06/2016  Return to Owner             NaN   \n",
       "4 2017-05-24 18:36:00    04/08/2017         Transfer         Partner   \n",
       "\n",
       "  Animal Type Sex upon Outcome Age upon Outcome  \\\n",
       "0         Cat    Spayed Female        10 months   \n",
       "1         Dog    Neutered Male          5 years   \n",
       "2       Other          Unknown          2 years   \n",
       "3         Dog    Intact Female           1 year   \n",
       "4         Dog      Intact Male          1 month   \n",
       "\n",
       "                                     Breed       Color  \n",
       "0                   Domestic Shorthair Mix      Calico  \n",
       "1                       Border Terrier Mix         Tan  \n",
       "2                              Raccoon Mix  Black/Gray  \n",
       "3  Labrador Retriever/Jack Russell Terrier      Yellow  \n",
       "4                   Labrador Retriever Mix       Black  "
      ]
     },
     "execution_count": 15,
     "metadata": {},
     "output_type": "execute_result"
    }
   ],
   "source": [
    "# Dropping column: exactly the same as DateTime\n",
    "\n",
    "animals.drop(columns = \"MonthYear\", axis = 1, inplace = True)\n",
    "animals.head()"
   ]
  },
  {
   "cell_type": "markdown",
   "metadata": {},
   "source": [
    "***Date of Birth***"
   ]
  },
  {
   "cell_type": "code",
   "execution_count": 16,
   "metadata": {},
   "outputs": [],
   "source": [
    "# Converting from object to DateTime\n",
    "\n",
    "animals[\"Date of Birth\"] = pd.to_datetime(animals[\"Date of Birth\"])"
   ]
  },
  {
   "cell_type": "markdown",
   "metadata": {},
   "source": [
    "***Outcome Type***"
   ]
  },
  {
   "cell_type": "code",
   "execution_count": 17,
   "metadata": {},
   "outputs": [
    {
     "data": {
      "text/plain": [
       "array(['Adoption', 'Return to Owner', 'Euthanasia', 'Transfer',\n",
       "       'Rto-Adopt', 'Died', 'Disposal', 'Missing', 'Relocate', nan],\n",
       "      dtype=object)"
      ]
     },
     "execution_count": 17,
     "metadata": {},
     "output_type": "execute_result"
    }
   ],
   "source": [
    "# Outcome Type: target for modeling (what we are attempting to predict)\n",
    "\n",
    "animals[\"Outcome Type\"].unique()"
   ]
  },
  {
   "cell_type": "code",
   "execution_count": 18,
   "metadata": {},
   "outputs": [
    {
     "data": {
      "text/plain": [
       "12"
      ]
     },
     "execution_count": 18,
     "metadata": {},
     "output_type": "execute_result"
    }
   ],
   "source": [
    "animals[\"Outcome Type\"].isnull().sum()"
   ]
  },
  {
   "cell_type": "code",
   "execution_count": 19,
   "metadata": {},
   "outputs": [
    {
     "data": {
      "text/plain": [
       "(84246, 9)"
      ]
     },
     "execution_count": 19,
     "metadata": {},
     "output_type": "execute_result"
    }
   ],
   "source": [
    "animals.shape"
   ]
  },
  {
   "cell_type": "code",
   "execution_count": 20,
   "metadata": {},
   "outputs": [],
   "source": [
    "# 12 null values: dropping those rows\n",
    "\n",
    "animals.dropna(subset = [\"Outcome Type\"], inplace = True)"
   ]
  },
  {
   "cell_type": "code",
   "execution_count": 21,
   "metadata": {},
   "outputs": [
    {
     "data": {
      "text/plain": [
       "(84234, 9)"
      ]
     },
     "execution_count": 21,
     "metadata": {},
     "output_type": "execute_result"
    }
   ],
   "source": [
    "animals.shape"
   ]
  },
  {
   "cell_type": "code",
   "execution_count": 22,
   "metadata": {},
   "outputs": [
    {
     "data": {
      "text/html": [
       "<div>\n",
       "<style scoped>\n",
       "    .dataframe tbody tr th:only-of-type {\n",
       "        vertical-align: middle;\n",
       "    }\n",
       "\n",
       "    .dataframe tbody tr th {\n",
       "        vertical-align: top;\n",
       "    }\n",
       "\n",
       "    .dataframe thead th {\n",
       "        text-align: right;\n",
       "    }\n",
       "</style>\n",
       "<table border=\"1\" class=\"dataframe\">\n",
       "  <thead>\n",
       "    <tr style=\"text-align: right;\">\n",
       "      <th></th>\n",
       "      <th>Time of Outcome</th>\n",
       "      <th>Date of Birth</th>\n",
       "      <th>Outcome Type</th>\n",
       "      <th>Outcome Subtype</th>\n",
       "      <th>Animal Type</th>\n",
       "      <th>Sex upon Outcome</th>\n",
       "      <th>Age upon Outcome</th>\n",
       "      <th>Breed</th>\n",
       "      <th>Color</th>\n",
       "    </tr>\n",
       "  </thead>\n",
       "  <tbody>\n",
       "    <tr>\n",
       "      <th>0</th>\n",
       "      <td>2017-01-11 18:17:00</td>\n",
       "      <td>2016-03-07</td>\n",
       "      <td>Adoption</td>\n",
       "      <td>NaN</td>\n",
       "      <td>Cat</td>\n",
       "      <td>Spayed Female</td>\n",
       "      <td>10 months</td>\n",
       "      <td>Domestic Shorthair Mix</td>\n",
       "      <td>Calico</td>\n",
       "    </tr>\n",
       "    <tr>\n",
       "      <th>1</th>\n",
       "      <td>2016-11-13 13:38:00</td>\n",
       "      <td>2011-07-14</td>\n",
       "      <td>Return to Owner</td>\n",
       "      <td>NaN</td>\n",
       "      <td>Dog</td>\n",
       "      <td>Neutered Male</td>\n",
       "      <td>5 years</td>\n",
       "      <td>Border Terrier Mix</td>\n",
       "      <td>Tan</td>\n",
       "    </tr>\n",
       "    <tr>\n",
       "      <th>2</th>\n",
       "      <td>2016-02-24 14:42:00</td>\n",
       "      <td>2014-02-24</td>\n",
       "      <td>Euthanasia</td>\n",
       "      <td>Suffering</td>\n",
       "      <td>Other</td>\n",
       "      <td>Unknown</td>\n",
       "      <td>2 years</td>\n",
       "      <td>Raccoon Mix</td>\n",
       "      <td>Black/Gray</td>\n",
       "    </tr>\n",
       "    <tr>\n",
       "      <th>3</th>\n",
       "      <td>2017-04-07 11:58:00</td>\n",
       "      <td>2016-04-06</td>\n",
       "      <td>Return to Owner</td>\n",
       "      <td>NaN</td>\n",
       "      <td>Dog</td>\n",
       "      <td>Intact Female</td>\n",
       "      <td>1 year</td>\n",
       "      <td>Labrador Retriever/Jack Russell Terrier</td>\n",
       "      <td>Yellow</td>\n",
       "    </tr>\n",
       "    <tr>\n",
       "      <th>4</th>\n",
       "      <td>2017-05-24 18:36:00</td>\n",
       "      <td>2017-04-08</td>\n",
       "      <td>Transfer</td>\n",
       "      <td>Partner</td>\n",
       "      <td>Dog</td>\n",
       "      <td>Intact Male</td>\n",
       "      <td>1 month</td>\n",
       "      <td>Labrador Retriever Mix</td>\n",
       "      <td>Black</td>\n",
       "    </tr>\n",
       "  </tbody>\n",
       "</table>\n",
       "</div>"
      ],
      "text/plain": [
       "      Time of Outcome Date of Birth     Outcome Type Outcome Subtype  \\\n",
       "0 2017-01-11 18:17:00    2016-03-07         Adoption             NaN   \n",
       "1 2016-11-13 13:38:00    2011-07-14  Return to Owner             NaN   \n",
       "2 2016-02-24 14:42:00    2014-02-24       Euthanasia       Suffering   \n",
       "3 2017-04-07 11:58:00    2016-04-06  Return to Owner             NaN   \n",
       "4 2017-05-24 18:36:00    2017-04-08         Transfer         Partner   \n",
       "\n",
       "  Animal Type Sex upon Outcome Age upon Outcome  \\\n",
       "0         Cat    Spayed Female        10 months   \n",
       "1         Dog    Neutered Male          5 years   \n",
       "2       Other          Unknown          2 years   \n",
       "3         Dog    Intact Female           1 year   \n",
       "4         Dog      Intact Male          1 month   \n",
       "\n",
       "                                     Breed       Color  \n",
       "0                   Domestic Shorthair Mix      Calico  \n",
       "1                       Border Terrier Mix         Tan  \n",
       "2                              Raccoon Mix  Black/Gray  \n",
       "3  Labrador Retriever/Jack Russell Terrier      Yellow  \n",
       "4                   Labrador Retriever Mix       Black  "
      ]
     },
     "execution_count": 22,
     "metadata": {},
     "output_type": "execute_result"
    }
   ],
   "source": [
    "animals.head()"
   ]
  },
  {
   "cell_type": "code",
   "execution_count": 23,
   "metadata": {},
   "outputs": [
    {
     "data": {
      "text/plain": [
       "Adoption           35694\n",
       "Transfer           25205\n",
       "Return to Owner    15494\n",
       "Euthanasia          6507\n",
       "Died                 740\n",
       "Disposal             317\n",
       "Rto-Adopt            210\n",
       "Missing               50\n",
       "Relocate              17\n",
       "Name: Outcome Type, dtype: int64"
      ]
     },
     "execution_count": 23,
     "metadata": {},
     "output_type": "execute_result"
    }
   ],
   "source": [
    "animals[\"Outcome Type\"].value_counts()"
   ]
  },
  {
   "cell_type": "markdown",
   "metadata": {},
   "source": [
    "***Outcome Subtype***"
   ]
  },
  {
   "cell_type": "code",
   "execution_count": 24,
   "metadata": {},
   "outputs": [],
   "source": [
    "mask = animals[animals[\"Outcome Subtype\"] == \"Suffering\"]\n",
    "mask;"
   ]
  },
  {
   "cell_type": "markdown",
   "metadata": {},
   "source": [
    "***Animal Type***"
   ]
  },
  {
   "cell_type": "code",
   "execution_count": 25,
   "metadata": {},
   "outputs": [
    {
     "data": {
      "text/plain": [
       "array(['Cat', 'Dog', 'Other', 'Bird', 'Livestock'], dtype=object)"
      ]
     },
     "execution_count": 25,
     "metadata": {},
     "output_type": "execute_result"
    }
   ],
   "source": [
    "# Need to add \"Bird\" and \"Livestock\" to \"Other\" to simplify\n",
    "\n",
    "animals[\"Animal Type\"].unique()"
   ]
  },
  {
   "cell_type": "code",
   "execution_count": 26,
   "metadata": {},
   "outputs": [
    {
     "data": {
      "text/plain": [
       "Dog          47905\n",
       "Cat          31282\n",
       "Other         4671\n",
       "Bird           366\n",
       "Livestock       10\n",
       "Name: Animal Type, dtype: int64"
      ]
     },
     "execution_count": 26,
     "metadata": {},
     "output_type": "execute_result"
    }
   ],
   "source": [
    "animals[\"Animal Type\"].value_counts()"
   ]
  },
  {
   "cell_type": "code",
   "execution_count": 27,
   "metadata": {},
   "outputs": [],
   "source": [
    "# animals.replace(to_replace = \"Bird\", value = \"Other\", inplace = True)\n",
    "# animals.replace(to_replace = \"Livestock\", value = \"Other\", inplace = True)"
   ]
  },
  {
   "cell_type": "code",
   "execution_count": 28,
   "metadata": {},
   "outputs": [
    {
     "data": {
      "text/plain": [
       "Dog      47905\n",
       "Cat      31282\n",
       "Other     5047\n",
       "Name: Animal Type, dtype: int64"
      ]
     },
     "execution_count": 28,
     "metadata": {},
     "output_type": "execute_result"
    }
   ],
   "source": [
    "animals[\"Animal Type\"].value_counts()"
   ]
  },
  {
   "cell_type": "code",
   "execution_count": 29,
   "metadata": {},
   "outputs": [
    {
     "data": {
      "text/plain": [
       "array(['Raccoon Mix', 'Bat Mix', 'Squirrel Mix', 'Bat', 'Californian',\n",
       "       'Opossum Mix', 'Squirrel', 'Chinchilla-Stnd Mix', 'Guinea Pig Mix',\n",
       "       'Hamster Mix', 'Skunk', 'Skunk Mix', 'Armadillo Mix', 'Rat',\n",
       "       'Raccoon', 'Rabbit Lh Mix', 'Rabbit Sh Mix', 'Fox Mix', 'Rat Mix',\n",
       "       'Guinea Pig', 'Opossum', 'Chicken Mix', 'Dove Mix', 'Snake Mix',\n",
       "       'Muscovy', 'New Zealand Wht Mix', 'American Sable', 'Chicken',\n",
       "       'Californian Mix', 'Himalayan Mix', 'Checkered Giant Mix',\n",
       "       'Ferret', 'Lizard Mix', 'Duck Mix', 'Grackle Mix', 'Turkey Mix',\n",
       "       'Sparrow Mix', 'Britannia Petit Mix', 'Hotot Mix', 'Fox',\n",
       "       'Rabbit Lh', 'Parrot', 'Dove', 'Coyote Mix', 'Parakeet Mix',\n",
       "       'Parakeet', 'English Spot Mix', 'Rex Mix', 'Muscovy Mix', 'Lizard',\n",
       "       'Lionhead Mix', 'Bantam Mix', 'Peafowl Mix', 'Duck',\n",
       "       'Cockatoo Mix', 'Lark Mix', 'Rabbit Sh', 'Hawk', 'Pig Mix',\n",
       "       'Coyote', 'Tortoise Mix', 'Cockatoo', 'Dutch Mix',\n",
       "       'Netherlnd Dwarf Mix', 'Mockingbird Mix', 'Havana Mix',\n",
       "       'Turtle Mix', 'Vulture Mix', 'Cold Water', 'Cockatiel Mix',\n",
       "       'Owl Mix', 'Lop-English Mix', 'Grackle', 'Lop-Holland Mix',\n",
       "       'Pigeon', 'Lop-Mini', 'Otter Mix', 'Hamster', 'Snake',\n",
       "       'Ferret Mix', 'Pigeon Mix', 'Chickadee Mix', 'Bluebird Mix',\n",
       "       'Bobcat Mix', 'Turtle', 'Netherlnd Dwarf', 'Mouse Mix',\n",
       "       'Gerbil Mix', 'Tarantula', 'Flemish Giant', 'Dutch/Angora-Satin',\n",
       "       'Prairie Dog Mix', 'Rhode Island Mix', 'Parrot Mix', 'Guinea',\n",
       "       'Lionhead', 'American Sable Mix', 'Bunting', 'Cold Water Mix',\n",
       "       'English Spot', 'Guinea Mix', 'Tortoise', 'Quaker Mix',\n",
       "       'Harlequin Mix', 'Heron Mix', 'Goat Mix', 'Rex-Mini',\n",
       "       'Angora-English Mix', 'Potbelly Pig Mix', 'Nuthatch Mix',\n",
       "       'Lop-Mini Mix', 'Cottontail Mix', 'Chinchilla Mix', 'Rex-Mini Mix',\n",
       "       'Cinnamon', 'Tropical Mix', 'Cockatiel', 'Chinchilla-Amer Mix',\n",
       "       'Armadillo', 'Conure', 'Crow Mix', 'Heron', 'Catbird Mix',\n",
       "       'Jersey Wooly Mix', 'Deer Mix', 'Peafowl', 'Finch', 'American Mix',\n",
       "       'Polish Mix', 'Lop-Holland', 'Finch Mix', 'Budgerigar', 'Hedgehog',\n",
       "       'Quaker', 'Song Bird Mix', 'Lovebird Mix', 'Rex-Mini/Lop-English',\n",
       "       'African Mix', 'Cinnamon Mix', 'Pheasant Mix', 'Dutch/Rabbit Sh',\n",
       "       'Snake/Snake', 'Frog', 'Ringtail Mix', 'Lop-Amer Fuzzy Mix',\n",
       "       'Leghorn Mix', 'Hawk Mix', 'Miniature', 'Conure Mix',\n",
       "       'Rabbit Sh/Lop-Mini', 'Rex', 'Wren Mix', 'Mockingbird', 'American',\n",
       "       'Goose Mix', 'Barred Rock Mix', 'Angora-French Mix', 'Sparrow',\n",
       "       'Owl', 'Silver Mix', 'Dutch', 'Sugar Glider', 'Belgian Hare',\n",
       "       'Silkie Mix'], dtype=object)"
      ]
     },
     "execution_count": 29,
     "metadata": {},
     "output_type": "execute_result"
    }
   ],
   "source": [
    "animals[animals[\"Animal Type\"] == \"Other\"][\"Breed\"].unique()"
   ]
  },
  {
   "cell_type": "markdown",
   "metadata": {},
   "source": [
    "***Sex upon Outcome***"
   ]
  },
  {
   "cell_type": "code",
   "execution_count": 30,
   "metadata": {},
   "outputs": [
    {
     "data": {
      "text/plain": [
       "1"
      ]
     },
     "execution_count": 30,
     "metadata": {},
     "output_type": "execute_result"
    }
   ],
   "source": [
    "# One null value, many Unknown values\n",
    "\n",
    "animals[\"Sex upon Outcome\"].isnull().sum()"
   ]
  },
  {
   "cell_type": "code",
   "execution_count": 31,
   "metadata": {},
   "outputs": [
    {
     "data": {
      "text/plain": [
       "array(['Spayed Female', 'Neutered Male', 'Unknown', 'Intact Female',\n",
       "       'Intact Male', nan], dtype=object)"
      ]
     },
     "execution_count": 31,
     "metadata": {},
     "output_type": "execute_result"
    }
   ],
   "source": [
    "animals[\"Sex upon Outcome\"].unique()"
   ]
  },
  {
   "cell_type": "code",
   "execution_count": 32,
   "metadata": {},
   "outputs": [],
   "source": [
    "# Dropping 1 null value\n",
    "\n",
    "animals.dropna(subset = [\"Sex upon Outcome\"], inplace = True)\n",
    "\n",
    "# animals[\"Sex upon Outcome\"].isnull().sum()"
   ]
  },
  {
   "cell_type": "code",
   "execution_count": 33,
   "metadata": {},
   "outputs": [
    {
     "data": {
      "text/plain": [
       "Neutered Male    29836\n",
       "Spayed Female    27001\n",
       "Intact Male      10292\n",
       "Intact Female     9897\n",
       "Unknown           7207\n",
       "Name: Sex upon Outcome, dtype: int64"
      ]
     },
     "execution_count": 33,
     "metadata": {},
     "output_type": "execute_result"
    }
   ],
   "source": [
    "animals[\"Sex upon Outcome\"].value_counts()"
   ]
  },
  {
   "cell_type": "code",
   "execution_count": 52,
   "metadata": {},
   "outputs": [],
   "source": [
    "mask = (animals[\"Sex upon Outcome\"] == \"Unknown\") & (animals[\"Animal Type\"] == \"Other\")\n",
    "animals[mask];"
   ]
  },
  {
   "cell_type": "markdown",
   "metadata": {},
   "source": [
    "***Age Upon Outcome***"
   ]
  },
  {
   "cell_type": "code",
   "execution_count": 35,
   "metadata": {},
   "outputs": [],
   "source": [
    "# Creating a new column subtracting Date of Birth and Time of Outcome to get a time in days \n",
    "# (then will drop Age Outcome)\n",
    "\n",
    "animals[\"Age Outcome\"] = animals[\"Time of Outcome\"] - animals[\"Date of Birth\"]\n",
    "\n",
    "animals.drop(columns = \"Age upon Outcome\", axis = 1, inplace = True)"
   ]
  },
  {
   "cell_type": "code",
   "execution_count": 36,
   "metadata": {},
   "outputs": [
    {
     "data": {
      "text/html": [
       "<div>\n",
       "<style scoped>\n",
       "    .dataframe tbody tr th:only-of-type {\n",
       "        vertical-align: middle;\n",
       "    }\n",
       "\n",
       "    .dataframe tbody tr th {\n",
       "        vertical-align: top;\n",
       "    }\n",
       "\n",
       "    .dataframe thead th {\n",
       "        text-align: right;\n",
       "    }\n",
       "</style>\n",
       "<table border=\"1\" class=\"dataframe\">\n",
       "  <thead>\n",
       "    <tr style=\"text-align: right;\">\n",
       "      <th></th>\n",
       "      <th>Time of Outcome</th>\n",
       "      <th>Date of Birth</th>\n",
       "      <th>Outcome Type</th>\n",
       "      <th>Outcome Subtype</th>\n",
       "      <th>Animal Type</th>\n",
       "      <th>Sex upon Outcome</th>\n",
       "      <th>Breed</th>\n",
       "      <th>Color</th>\n",
       "      <th>Age Outcome</th>\n",
       "    </tr>\n",
       "  </thead>\n",
       "  <tbody>\n",
       "    <tr>\n",
       "      <th>0</th>\n",
       "      <td>2017-01-11 18:17:00</td>\n",
       "      <td>2016-03-07</td>\n",
       "      <td>Adoption</td>\n",
       "      <td>NaN</td>\n",
       "      <td>Cat</td>\n",
       "      <td>Spayed Female</td>\n",
       "      <td>Domestic Shorthair Mix</td>\n",
       "      <td>Calico</td>\n",
       "      <td>310 days 18:17:00</td>\n",
       "    </tr>\n",
       "    <tr>\n",
       "      <th>1</th>\n",
       "      <td>2016-11-13 13:38:00</td>\n",
       "      <td>2011-07-14</td>\n",
       "      <td>Return to Owner</td>\n",
       "      <td>NaN</td>\n",
       "      <td>Dog</td>\n",
       "      <td>Neutered Male</td>\n",
       "      <td>Border Terrier Mix</td>\n",
       "      <td>Tan</td>\n",
       "      <td>1949 days 13:38:00</td>\n",
       "    </tr>\n",
       "    <tr>\n",
       "      <th>2</th>\n",
       "      <td>2016-02-24 14:42:00</td>\n",
       "      <td>2014-02-24</td>\n",
       "      <td>Euthanasia</td>\n",
       "      <td>Suffering</td>\n",
       "      <td>Other</td>\n",
       "      <td>Unknown</td>\n",
       "      <td>Raccoon Mix</td>\n",
       "      <td>Black/Gray</td>\n",
       "      <td>730 days 14:42:00</td>\n",
       "    </tr>\n",
       "    <tr>\n",
       "      <th>3</th>\n",
       "      <td>2017-04-07 11:58:00</td>\n",
       "      <td>2016-04-06</td>\n",
       "      <td>Return to Owner</td>\n",
       "      <td>NaN</td>\n",
       "      <td>Dog</td>\n",
       "      <td>Intact Female</td>\n",
       "      <td>Labrador Retriever/Jack Russell Terrier</td>\n",
       "      <td>Yellow</td>\n",
       "      <td>366 days 11:58:00</td>\n",
       "    </tr>\n",
       "    <tr>\n",
       "      <th>4</th>\n",
       "      <td>2017-05-24 18:36:00</td>\n",
       "      <td>2017-04-08</td>\n",
       "      <td>Transfer</td>\n",
       "      <td>Partner</td>\n",
       "      <td>Dog</td>\n",
       "      <td>Intact Male</td>\n",
       "      <td>Labrador Retriever Mix</td>\n",
       "      <td>Black</td>\n",
       "      <td>46 days 18:36:00</td>\n",
       "    </tr>\n",
       "  </tbody>\n",
       "</table>\n",
       "</div>"
      ],
      "text/plain": [
       "      Time of Outcome Date of Birth     Outcome Type Outcome Subtype  \\\n",
       "0 2017-01-11 18:17:00    2016-03-07         Adoption             NaN   \n",
       "1 2016-11-13 13:38:00    2011-07-14  Return to Owner             NaN   \n",
       "2 2016-02-24 14:42:00    2014-02-24       Euthanasia       Suffering   \n",
       "3 2017-04-07 11:58:00    2016-04-06  Return to Owner             NaN   \n",
       "4 2017-05-24 18:36:00    2017-04-08         Transfer         Partner   \n",
       "\n",
       "  Animal Type Sex upon Outcome                                    Breed  \\\n",
       "0         Cat    Spayed Female                   Domestic Shorthair Mix   \n",
       "1         Dog    Neutered Male                       Border Terrier Mix   \n",
       "2       Other          Unknown                              Raccoon Mix   \n",
       "3         Dog    Intact Female  Labrador Retriever/Jack Russell Terrier   \n",
       "4         Dog      Intact Male                   Labrador Retriever Mix   \n",
       "\n",
       "        Color        Age Outcome  \n",
       "0      Calico  310 days 18:17:00  \n",
       "1         Tan 1949 days 13:38:00  \n",
       "2  Black/Gray  730 days 14:42:00  \n",
       "3      Yellow  366 days 11:58:00  \n",
       "4       Black   46 days 18:36:00  "
      ]
     },
     "execution_count": 36,
     "metadata": {},
     "output_type": "execute_result"
    }
   ],
   "source": [
    "animals.head()"
   ]
  },
  {
   "cell_type": "markdown",
   "metadata": {},
   "source": [
    "***Breed***"
   ]
  },
  {
   "cell_type": "code",
   "execution_count": 37,
   "metadata": {},
   "outputs": [
    {
     "data": {
      "text/plain": [
       "2223"
      ]
     },
     "execution_count": 37,
     "metadata": {},
     "output_type": "execute_result"
    }
   ],
   "source": [
    "animals[\"Breed\"].nunique()"
   ]
  },
  {
   "cell_type": "code",
   "execution_count": 38,
   "metadata": {
    "scrolled": true
   },
   "outputs": [
    {
     "data": {
      "text/plain": [
       "Domestic Shorthair Mix                      24843\n",
       "Pit Bull Mix                                 6627\n",
       "Labrador Retriever Mix                       5103\n",
       "Chihuahua Shorthair Mix                      5099\n",
       "Domestic Medium Hair Mix                     2475\n",
       "German Shepherd Mix                          2057\n",
       "Bat Mix                                      1454\n",
       "Domestic Longhair Mix                        1305\n",
       "Australian Cattle Dog Mix                    1135\n",
       "Siamese Mix                                  1031\n",
       "Bat                                           849\n",
       "Dachshund Mix                                 846\n",
       "Boxer Mix                                     715\n",
       "Border Collie Mix                             698\n",
       "Miniature Poodle Mix                          682\n",
       "Catahoula Mix                                 501\n",
       "Australian Shepherd Mix                       493\n",
       "Rat Terrier Mix                               485\n",
       "Raccoon Mix                                   482\n",
       "Yorkshire Terrier Mix                         479\n",
       "Siberian Husky Mix                            467\n",
       "Jack Russell Terrier Mix                      454\n",
       "Miniature Schnauzer Mix                       424\n",
       "Staffordshire Mix                             417\n",
       "Beagle Mix                                    414\n",
       "Domestic Shorthair                            404\n",
       "Chihuahua Longhair Mix                        386\n",
       "Great Pyrenees Mix                            365\n",
       "Cairn Terrier Mix                             357\n",
       "Pointer Mix                                   357\n",
       "                                            ...  \n",
       "Standard Schnauzer/Toy Poodle                   1\n",
       "Jack Russell Terrier/Standard Schnauzer         1\n",
       "Domestic Shorthair/Manx                         1\n",
       "Dachshund/Australian Kelpie                     1\n",
       "Boxer/Dogue De Bordeaux                         1\n",
       "Border Terrier/Affenpinscher                    1\n",
       "Papillon/Pomeranian                             1\n",
       "Rat Terrier/Queensland Heeler                   1\n",
       "Pit Bull/Jindo                                  1\n",
       "Chihuahua Shorthair/Rhod Ridgeback              1\n",
       "Boxer/Akita                                     1\n",
       "Whippet/Shetland Sheepdog                       1\n",
       "Norwich Terrier                                 1\n",
       "Alaskan Malamute/Alaskan Husky                  1\n",
       "Keeshond                                        1\n",
       "Chinese Sharpei/Airedale Terrier                1\n",
       "Goose Mix                                       1\n",
       "Cardigan Welsh Corgi/Miniature Schnauzer        1\n",
       "Basset Hound/Golden Retriever                   1\n",
       "Jack Russell Terrier/Australian Shepherd        1\n",
       "Miniature Poodle/American Eskimo                1\n",
       "Jack Russell Terrier/Whippet                    1\n",
       "Norfolk Terrier/Pug                             1\n",
       "Beagle/Chihuahua Longhair                       1\n",
       "Cockatiel                                       1\n",
       "Dachshund/Norfolk Terrier                       1\n",
       "Irish Wolfhound/Australian Shepherd             1\n",
       "Australian Shepherd/Brittany                    1\n",
       "Finnish Spitz/Dachshund                         1\n",
       "Dachshund Longhair/Pembroke Welsh Corgi         1\n",
       "Name: Breed, Length: 2223, dtype: int64"
      ]
     },
     "execution_count": 38,
     "metadata": {},
     "output_type": "execute_result"
    }
   ],
   "source": [
    "animals[\"Breed\"].value_counts()"
   ]
  },
  {
   "cell_type": "markdown",
   "metadata": {},
   "source": [
    "***Color***"
   ]
  },
  {
   "cell_type": "code",
   "execution_count": 42,
   "metadata": {},
   "outputs": [
    {
     "data": {
      "text/plain": [
       "539"
      ]
     },
     "execution_count": 42,
     "metadata": {},
     "output_type": "execute_result"
    }
   ],
   "source": [
    "animals[\"Color\"].nunique()"
   ]
  },
  {
   "cell_type": "code",
   "execution_count": 47,
   "metadata": {},
   "outputs": [],
   "source": [
    "# Series.str.contains(pat, case=True, flags=0, na=nan, regex=True)\n",
    "\n",
    "animals[\"Black\"] = animals[\"Color\"].str.contains(\"Black\", case=False).astype(int)"
   ]
  },
  {
   "cell_type": "code",
   "execution_count": 50,
   "metadata": {},
   "outputs": [],
   "source": [
    "# add more colors, drop color column\n",
    "\n",
    "colors = [\"black\", \"white\", \"brown\"]\n",
    "\n",
    "for color in colors:\n",
    "    animals[color] = animals[\"Color\"].str.contains(color, case=False).astype(int)"
   ]
  },
  {
   "cell_type": "code",
   "execution_count": 51,
   "metadata": {},
   "outputs": [
    {
     "data": {
      "text/html": [
       "<div>\n",
       "<style scoped>\n",
       "    .dataframe tbody tr th:only-of-type {\n",
       "        vertical-align: middle;\n",
       "    }\n",
       "\n",
       "    .dataframe tbody tr th {\n",
       "        vertical-align: top;\n",
       "    }\n",
       "\n",
       "    .dataframe thead th {\n",
       "        text-align: right;\n",
       "    }\n",
       "</style>\n",
       "<table border=\"1\" class=\"dataframe\">\n",
       "  <thead>\n",
       "    <tr style=\"text-align: right;\">\n",
       "      <th></th>\n",
       "      <th>Time of Outcome</th>\n",
       "      <th>Date of Birth</th>\n",
       "      <th>Outcome Type</th>\n",
       "      <th>Outcome Subtype</th>\n",
       "      <th>Animal Type</th>\n",
       "      <th>Sex upon Outcome</th>\n",
       "      <th>Breed</th>\n",
       "      <th>Color</th>\n",
       "      <th>Age Outcome</th>\n",
       "      <th>Black</th>\n",
       "      <th>black</th>\n",
       "      <th>white</th>\n",
       "      <th>brown</th>\n",
       "    </tr>\n",
       "  </thead>\n",
       "  <tbody>\n",
       "    <tr>\n",
       "      <th>0</th>\n",
       "      <td>2017-01-11 18:17:00</td>\n",
       "      <td>2016-03-07</td>\n",
       "      <td>Adoption</td>\n",
       "      <td>NaN</td>\n",
       "      <td>Cat</td>\n",
       "      <td>Spayed Female</td>\n",
       "      <td>Domestic Shorthair Mix</td>\n",
       "      <td>Calico</td>\n",
       "      <td>310 days 18:17:00</td>\n",
       "      <td>0</td>\n",
       "      <td>0</td>\n",
       "      <td>0</td>\n",
       "      <td>0</td>\n",
       "    </tr>\n",
       "    <tr>\n",
       "      <th>1</th>\n",
       "      <td>2016-11-13 13:38:00</td>\n",
       "      <td>2011-07-14</td>\n",
       "      <td>Return to Owner</td>\n",
       "      <td>NaN</td>\n",
       "      <td>Dog</td>\n",
       "      <td>Neutered Male</td>\n",
       "      <td>Border Terrier Mix</td>\n",
       "      <td>Tan</td>\n",
       "      <td>1949 days 13:38:00</td>\n",
       "      <td>0</td>\n",
       "      <td>0</td>\n",
       "      <td>0</td>\n",
       "      <td>0</td>\n",
       "    </tr>\n",
       "    <tr>\n",
       "      <th>2</th>\n",
       "      <td>2016-02-24 14:42:00</td>\n",
       "      <td>2014-02-24</td>\n",
       "      <td>Euthanasia</td>\n",
       "      <td>Suffering</td>\n",
       "      <td>Other</td>\n",
       "      <td>Unknown</td>\n",
       "      <td>Raccoon Mix</td>\n",
       "      <td>Black/Gray</td>\n",
       "      <td>730 days 14:42:00</td>\n",
       "      <td>1</td>\n",
       "      <td>1</td>\n",
       "      <td>0</td>\n",
       "      <td>0</td>\n",
       "    </tr>\n",
       "    <tr>\n",
       "      <th>3</th>\n",
       "      <td>2017-04-07 11:58:00</td>\n",
       "      <td>2016-04-06</td>\n",
       "      <td>Return to Owner</td>\n",
       "      <td>NaN</td>\n",
       "      <td>Dog</td>\n",
       "      <td>Intact Female</td>\n",
       "      <td>Labrador Retriever/Jack Russell Terrier</td>\n",
       "      <td>Yellow</td>\n",
       "      <td>366 days 11:58:00</td>\n",
       "      <td>0</td>\n",
       "      <td>0</td>\n",
       "      <td>0</td>\n",
       "      <td>0</td>\n",
       "    </tr>\n",
       "    <tr>\n",
       "      <th>4</th>\n",
       "      <td>2017-05-24 18:36:00</td>\n",
       "      <td>2017-04-08</td>\n",
       "      <td>Transfer</td>\n",
       "      <td>Partner</td>\n",
       "      <td>Dog</td>\n",
       "      <td>Intact Male</td>\n",
       "      <td>Labrador Retriever Mix</td>\n",
       "      <td>Black</td>\n",
       "      <td>46 days 18:36:00</td>\n",
       "      <td>1</td>\n",
       "      <td>1</td>\n",
       "      <td>0</td>\n",
       "      <td>0</td>\n",
       "    </tr>\n",
       "  </tbody>\n",
       "</table>\n",
       "</div>"
      ],
      "text/plain": [
       "      Time of Outcome Date of Birth     Outcome Type Outcome Subtype  \\\n",
       "0 2017-01-11 18:17:00    2016-03-07         Adoption             NaN   \n",
       "1 2016-11-13 13:38:00    2011-07-14  Return to Owner             NaN   \n",
       "2 2016-02-24 14:42:00    2014-02-24       Euthanasia       Suffering   \n",
       "3 2017-04-07 11:58:00    2016-04-06  Return to Owner             NaN   \n",
       "4 2017-05-24 18:36:00    2017-04-08         Transfer         Partner   \n",
       "\n",
       "  Animal Type Sex upon Outcome                                    Breed  \\\n",
       "0         Cat    Spayed Female                   Domestic Shorthair Mix   \n",
       "1         Dog    Neutered Male                       Border Terrier Mix   \n",
       "2       Other          Unknown                              Raccoon Mix   \n",
       "3         Dog    Intact Female  Labrador Retriever/Jack Russell Terrier   \n",
       "4         Dog      Intact Male                   Labrador Retriever Mix   \n",
       "\n",
       "        Color        Age Outcome  Black  black  white  brown  \n",
       "0      Calico  310 days 18:17:00      0      0      0      0  \n",
       "1         Tan 1949 days 13:38:00      0      0      0      0  \n",
       "2  Black/Gray  730 days 14:42:00      1      1      0      0  \n",
       "3      Yellow  366 days 11:58:00      0      0      0      0  \n",
       "4       Black   46 days 18:36:00      1      1      0      0  "
      ]
     },
     "execution_count": 51,
     "metadata": {},
     "output_type": "execute_result"
    }
   ],
   "source": [
    "animals.head()"
   ]
  },
  {
   "cell_type": "code",
   "execution_count": 44,
   "metadata": {},
   "outputs": [
    {
     "data": {
      "text/plain": [
       "Black/White                    8794\n",
       "Black                          7069\n",
       "Brown Tabby                    4706\n",
       "Brown                          3760\n",
       "White                          2986\n",
       "Brown/White                    2708\n",
       "Tan/White                      2628\n",
       "Brown Tabby/White              2476\n",
       "Orange Tabby                   2324\n",
       "White/Black                    2305\n",
       "Blue/White                     2249\n",
       "Tan                            2136\n",
       "Tricolor                       2106\n",
       "Black/Tan                      1914\n",
       "Black/Brown                    1729\n",
       "White/Brown                    1704\n",
       "Brown/Black                    1453\n",
       "Calico                         1430\n",
       "Brown Brindle/White            1429\n",
       "Tortie                         1427\n",
       "Blue                           1419\n",
       "White/Tan                      1264\n",
       "Blue Tabby                     1206\n",
       "Orange Tabby/White             1167\n",
       "Red                            1091\n",
       "Torbie                          889\n",
       "Red/White                       884\n",
       "Brown Brindle                   769\n",
       "Tan/Black                       671\n",
       "Chocolate/White                 635\n",
       "                               ... \n",
       "Tricolor/Tricolor                 1\n",
       "Tricolor/Cream                    1\n",
       "Tortie Point/Blue                 1\n",
       "Cream/Brown Merle                 1\n",
       "Tan/Cream Tabby                   1\n",
       "Tricolor/Calico                   1\n",
       "Blue Merle/Gray                   1\n",
       "Orange/Gray                       1\n",
       "White/Lilac Point                 1\n",
       "Black Smoke/Black                 1\n",
       "Red Tick/Black                    1\n",
       "Green/Black                       1\n",
       "Orange/Blue                       1\n",
       "Blue Smoke/Gray                   1\n",
       "Brown Tabby/Agouti                1\n",
       "Black Smoke/Black Tiger           1\n",
       "Tricolor/Red Tick                 1\n",
       "Blue Cream/Blue Tiger             1\n",
       "Yellow Brindle/Blue               1\n",
       "Brown Brindle/Gray                1\n",
       "Torbie/Silver Tabby               1\n",
       "Cream/Cream                       1\n",
       "Gray/Green                        1\n",
       "Cream/Blue Point                  1\n",
       "Green/Red                         1\n",
       "Brown Brindle/Brown Brindle       1\n",
       "Orange Tabby/Apricot              1\n",
       "Black/Seal Point                  1\n",
       "Orange Tiger                      1\n",
       "Blue Tick/Tricolor                1\n",
       "Name: Color, Length: 539, dtype: int64"
      ]
     },
     "execution_count": 44,
     "metadata": {},
     "output_type": "execute_result"
    }
   ],
   "source": [
    "animals[\"Color\"].value_counts()"
   ]
  },
  {
   "cell_type": "code",
   "execution_count": 43,
   "metadata": {},
   "outputs": [
    {
     "data": {
      "text/plain": [
       "array(['Calico', 'Tan', 'Black/Gray', 'Yellow', 'Black', 'Blue/White',\n",
       "       'Black Smoke', 'Orange Tabby', 'Brown Tabby/White', 'White/Brown',\n",
       "       'White', 'Brown', 'Chocolate/White', 'Red', 'Brown/White',\n",
       "       'Tan/White', 'Liver/White', 'Brown Brindle', 'Blue Tabby',\n",
       "       'Fawn/Black', 'Black/White', 'Red/Tan', 'Cream', 'Brown Tabby',\n",
       "       'Torbie/White', 'Black/Black', 'Black/Tan', 'Blue Tabby/White',\n",
       "       'White/Black', 'Tortie', 'Blue', 'Flame Point', 'Tan/Black',\n",
       "       'Blue/Tan', 'Tricolor', 'Brown/Black', 'Brown Brindle/White',\n",
       "       'Chocolate/Tan', 'Sable', 'Red/White', 'Black Tabby', 'Pink',\n",
       "       'Lilac Point', 'Brown Brindle/Black', 'Seal Point',\n",
       "       'Orange Tabby/White', 'Torbie', 'Black/Tricolor', 'Gray Tabby',\n",
       "       'Cream Tabby', 'White/Brown Tabby', 'Cream/Gray', 'Buff', 'Gray',\n",
       "       'Black/Brown', 'Lynx Point', 'Cream Tabby/White',\n",
       "       'Brown Merle/White', 'Fawn/White', 'Chocolate',\n",
       "       'White/Brown Brindle', 'Fawn', 'Black/Cream', 'White/Blue',\n",
       "       'Blue Merle/White', 'Tricolor/Brown Brindle', 'Apricot',\n",
       "       'Black Smoke/Gray', 'Gray Tabby/White', 'White/Red',\n",
       "       'Tricolor/Black', 'Gray/Black', 'White/Tan', 'White/Orange',\n",
       "       'White/Tricolor', 'Black Brindle/White', 'Brown Merle',\n",
       "       'Red/Brown', 'Lynx Point/White', 'Gray/Brown', 'White/Gray',\n",
       "       'Calico/White', 'Blue/Black', 'Brown/Gray', 'Tan/Red',\n",
       "       'White/White', 'Red Tick', 'Red/Cream', 'Tricolor/Brown',\n",
       "       'Silver Tabby', 'Brown Tabby/Black', 'Tortie Point',\n",
       "       'Yellow/White', 'Blue/Brown', 'Orange/White', 'Blue Tick/Black',\n",
       "       'Red Tick/Brown Merle', 'Red/Black', 'Silver/Blue',\n",
       "       'White/Orange Tabby', 'Blue Point', 'Calico/Orange',\n",
       "       'Black/Blue Merle', 'Red Merle/White', 'White/Buff',\n",
       "       'White/Chocolate', 'Silver/Brown', 'Tan/Silver', 'Brown/Tan',\n",
       "       'Brown/Blue Merle', 'Buff/Tan', 'Orange Tabby/Cream',\n",
       "       'Calico Point', 'Black/Brown Brindle', 'Gold', 'Sable/White',\n",
       "       'Fawn/Brown', 'Gray/White', 'Brown/Tricolor', 'Tan/Gray',\n",
       "       'Tortie/White', 'Red Merle', 'Yellow Brindle', 'Cream/White',\n",
       "       'Blue Merle', 'Brown/Buff', 'Red/Red', 'Black/Silver',\n",
       "       'Blue Merle/Tan', 'Buff/White', 'Black Smoke/White',\n",
       "       'White/Yellow Brindle', 'Chocolate Point', 'Black Brindle',\n",
       "       'Black/Red', 'Orange', 'White/Blue Tabby', 'Gray/Tan',\n",
       "       'Blue Tiger/White', 'Gray/Tortie', 'Gold/Gray', 'Blue Merle/Brown',\n",
       "       'White/Cream', 'Cream/Tan', 'Red/Red Tick', 'White/Gray Tabby',\n",
       "       'Calico/Blue Cream', 'Tan/Brown', 'Gray/Gray Tabby', 'White/Gold',\n",
       "       'Brown Tabby/Brown', 'Blue Tick/Brown', 'White/Seal Point',\n",
       "       'Tortie/Calico', 'Black/Orange', 'Gray/Tricolor',\n",
       "       'Seal Point/White', 'Tortie/Black', 'Silver/Tan', 'Blue/Orange',\n",
       "       'Buff/Cream', 'Blue Cream', 'Yellow Brindle/White', 'Blue/Blue',\n",
       "       'Gray Tabby/Black', 'Green', 'Blue Tick', 'Red Tick/White',\n",
       "       'Gold/Brown', 'White/Black Brindle', 'Black Tabby/White',\n",
       "       'Blue/Tricolor', 'Brown Brindle/Red Tick', 'Gold/Gold',\n",
       "       'White/Yellow', 'White/Liver', 'Calico/Black', 'Gray/Orange',\n",
       "       'Brown/Brown', 'White/Black Smoke', 'Flame Point/Cream',\n",
       "       'Red Tick/Brown', 'Silver Tabby/White', 'Blue Tick/Red',\n",
       "       'Green/Yellow', 'Gray/Blue', 'Yellow/Tan', 'Blue Tabby/Black',\n",
       "       'Brown Tabby/Cream', 'Black/Chocolate', 'Blue Smoke/White',\n",
       "       'Tortie/Blue Cream', 'Buff/Black', 'Black Brindle/Brown',\n",
       "       'Tricolor/Gray', 'Blue/Gray', 'Buff/Gray', 'White/Red Merle',\n",
       "       'Tricolor/Tan', 'Lilac Point/White', 'White/Brown Merle',\n",
       "       'Orange Tabby/Orange', 'Yellow/Black', 'Tortie Point/White',\n",
       "       'Chocolate/Cream', 'Blue/Silver', 'Brown/Cream', 'Fawn/Blue',\n",
       "       'Silver', 'Tan/Buff', 'Brown/Yellow', 'Tan/Cream Tabby',\n",
       "       'Gold/White', 'White/Green', 'Calico/Tricolor', 'Blue Tabby/Cream',\n",
       "       'Sable/Red', 'Black/Yellow', 'Tortie Point/Lynx Point',\n",
       "       'Red Tick/Tan', 'Buff/Red', 'Cream/Silver', 'Silver/White',\n",
       "       'Brown Brindle/Brown Brindle', 'Gold/Cream', 'White/Lynx Point',\n",
       "       'White/Cream Tabby', 'Brown/Chocolate', 'Black/Black Brindle',\n",
       "       'Brown Tiger/White', 'Brown/Green', 'Torbie/Blue Tabby',\n",
       "       'Brown Brindle/Tan', 'Silver Lynx Point', 'Agouti/White',\n",
       "       'Chocolate/Brown', 'Blue Merle/Blue Merle', 'Cream/Red Tick',\n",
       "       'Gray/Gray', 'Apricot/White', 'Gray/Cream', 'Sable/Tan',\n",
       "       'Sable/Cream', 'Tan/Cream', 'Cream/Orange',\n",
       "       'Silver Lynx Point/Gray', 'Chocolate/Black Smoke',\n",
       "       'Fawn/Brown Brindle', 'Brown Tabby/Gray', 'Silver/Chocolate',\n",
       "       'Brown/Brown Brindle', 'Apricot/Brown', 'Blue Tick/Tan',\n",
       "       'Black Brindle/Black', 'Tricolor/Blue', 'White/Apricot',\n",
       "       'Liver/Tan', 'Orange/Tan', 'Tan/Tricolor', 'Sable/Black',\n",
       "       'Green/Blue', 'Brown/Pink', 'Brown/Red', 'Gray/Red', 'Cream/Black',\n",
       "       'Blue/Brown Brindle', 'White/Blue Cream', 'Blue Merle/Black',\n",
       "       'Black/Blue Tick', 'Black/Pink', 'Brown/Black Tabby', 'Red/Buff',\n",
       "       'Orange/Brown', 'Calico/Blue Tabby', 'Liver', 'Sable/Brown',\n",
       "       'Brown Merle/Tan', 'Gray Tabby/Gray', 'Red/Gray', 'Green/Brown',\n",
       "       'Tricolor/White', 'Red/Silver', 'Gray/Yellow', 'Tortie/Orange',\n",
       "       'Blue Tick/Red Tick', 'Black Tiger/White', 'Brown/Silver',\n",
       "       'White/Calico', 'Blue Merle/Tricolor', 'Cream/Red',\n",
       "       'Red Tick/Blue Tick', 'Yellow/Brown', 'Tan/Tan', 'Blue Tiger',\n",
       "       'Silver/Gray', 'Torbie/Silver Tabby', 'Torbie/Blue Cream',\n",
       "       'Calico/Brown Tabby', 'Brown Tabby/Orange', 'Blue Tabby/Orange',\n",
       "       'Brown Tiger', 'Blue/Cream', 'White/Calico Point',\n",
       "       'White/Blue Merle', 'Chocolate Point/White',\n",
       "       'Orange Tabby/Apricot', 'Cream/Blue Point', 'Black/Blue',\n",
       "       'Silver/Black', 'White/Silver', 'White/Red Tick', 'Gray/Pink',\n",
       "       'Black/Buff', 'Orange/Blue', 'Black/Gray Tabby', 'Tan/Yellow',\n",
       "       'Tricolor/Chocolate', 'Black/Seal Point', 'Torbie/Brown',\n",
       "       'Chocolate/Red', 'Tortie Point/Blue', 'Orange Tabby/Black',\n",
       "       'Chocolate/Tricolor', 'Blue Tick/White', 'Blue/Green',\n",
       "       'Brown Tiger/Brown', 'Blue Point/White', 'Black/Yellow Brindle',\n",
       "       'Black Tiger', 'Chocolate/Yellow', 'Lynx Point/Brown Tabby',\n",
       "       'Blue Merle/Brown Brindle', 'Calico Point/White', 'Tan/Blue',\n",
       "       'Buff/Brown', 'Liver Tick', 'Blue Tabby/Tan', 'Fawn/Tan',\n",
       "       'Red/Red Merle', 'Cream Tabby/Orange', 'Blue Cream/Buff',\n",
       "       'Seal Point/Gray', 'Calico/Calico', 'Yellow/Yellow',\n",
       "       'White/Chocolate Point', 'Blue Smoke/Brown', 'Yellow/Orange Tabby',\n",
       "       'Calico/Gray Tabby', 'Gray Tabby/Orange', 'Ruddy/Cream',\n",
       "       'Brown Tabby/Orange Tabby', 'Tricolor/Blue Merle',\n",
       "       'White/Blue Tick', 'Brown Merle/Brown', 'Brown/Red Tick',\n",
       "       'Chocolate/Brown Brindle', 'White/Black Tabby',\n",
       "       'Brown Merle/Black', 'Gray/Buff', 'Green/White',\n",
       "       'Tortie/Black Smoke', 'Gold/Buff', 'Brown Tabby/Agouti',\n",
       "       'Sable/Buff', 'Tricolor/Calico', 'Chocolate/Gold', 'Tortie/Brown',\n",
       "       'Brown/Black Brindle', 'Chocolate/Red Tick', 'Blue Tick/Tricolor',\n",
       "       'Tricolor/Cream', 'Red Tick/Red', 'Tan/Gold', 'Cream/Seal Point',\n",
       "       'Black/Brown Tabby', 'Calico/Brown', 'Cream/Brown',\n",
       "       'Brown Tabby/Tortie', 'Flame Point/White', 'Brown Tabby/Blue',\n",
       "       'Blue Cream/White', 'Red Tick/Brown Brindle', 'Brown/Apricot',\n",
       "       'Blue Tick/Brown Brindle', 'Liver Tick/White',\n",
       "       'Yellow Brindle/Blue', 'Blue Smoke', 'Blue Tabby/Buff',\n",
       "       'Black Tabby/Gray Tabby', 'Fawn/Tricolor', 'Agouti',\n",
       "       'Orange/Black', 'Brown/Brown Tabby', 'Green/Orange',\n",
       "       'Orange Tabby/Tortie Point', 'Liver/Chocolate', 'White/Pink',\n",
       "       'Apricot/Tricolor', 'Red Merle/Red Merle', 'Cream/Brown Merle',\n",
       "       'Sable/Red Merle', 'Silver Tabby/Black', 'Red Merle/Tan',\n",
       "       'Tan/Brown Brindle', 'White/Fawn', 'Brown Brindle/Blue',\n",
       "       'Black Brindle/Brown Brindle', 'Black/Silver Tabby',\n",
       "       'Cream/Yellow', 'Tan/Red Tick', 'Tortie/Blue',\n",
       "       'Blue Cream/Blue Tabby', 'Tricolor/Silver', 'Silver/Red',\n",
       "       'Cream Tabby/Orange Tabby', 'Yellow/Cream', 'Silver/Cream',\n",
       "       'Blue Merle/Gray', 'Gold/Black', 'White/Liver Tick',\n",
       "       'Chocolate/Black', 'Red/Yellow', 'Brown Brindle/Blue Tick',\n",
       "       'Gold/Tan', 'Red Tick/Black', 'Lynx Point/Gray Tabby',\n",
       "       'Brown/Orange', 'Blue Tabby/Blue Cream', 'Chocolate/Brown Merle',\n",
       "       'Chocolate/Chocolate', 'Red/Gold', 'Black/Black Smoke',\n",
       "       'Chocolate/Brown Tabby', 'Sable/Gray', 'Calico/Orange Tabby',\n",
       "       'White/Gray Tiger', 'Brown Brindle/Brown', 'Red Merle/Black',\n",
       "       'Blue/Yellow Brindle', 'Red Merle/Brown Merle', 'Black/Tortie',\n",
       "       'Tan/Yellow Brindle', 'Chocolate/Liver Tick', 'Blue/Calico',\n",
       "       'Torbie/Gray', 'Red/Blue', 'Blue Cream/Tortie',\n",
       "       'Tricolor/Blue Tick', 'Seal Point/Brown', 'Blue Point/Cream',\n",
       "       'Lynx Point/Blue', 'Brown/Blue', 'Brown Tabby/Brown Tabby',\n",
       "       'Blue Cream/Blue Tiger', 'Blue Merle/Red', 'Green/Gray',\n",
       "       'White/Tortie', 'Tan/Brown Merle', 'Tortie/Blue Tabby',\n",
       "       'Buff/Yellow', 'Orange Tiger', 'Black Brindle/Blue',\n",
       "       'Black Tabby/Gray', 'Blue/Yellow', 'Calico Point/Gray',\n",
       "       'Torbie/Brown Tabby', 'Lilac Point/Cream', 'Black Smoke/Brown',\n",
       "       'Brown Brindle/Brown Merle', 'Gold/Yellow', 'Gray/Fawn',\n",
       "       'Black Smoke/Blue Tick', 'Cream/Cream', 'Tricolor/Brown Merle',\n",
       "       'Agouti/Brown Tabby', 'Gray/Gold', 'Black Tabby/Orange',\n",
       "       'Orange Tabby/Brown', 'Orange Tabby/Orange Tabby',\n",
       "       'Blue Merle/Cream', 'Tortie/Tortie', 'Torbie/Black',\n",
       "       'Chocolate/Gray', 'Blue/Tortie', 'Gray/Silver',\n",
       "       'Black/Black Tabby', 'Tricolor/Red Tick', 'Silver/Orange',\n",
       "       'Yellow/Orange', 'Seal Point/Cream', 'Chocolate Point/Cream',\n",
       "       'Lynx Point/Tan', 'Torbie/Calico', 'Fawn/Chocolate', 'Black/Green',\n",
       "       'Brown Merle/Blue Merle', 'Red/Tricolor', 'Brown Tabby/Gray Tabby',\n",
       "       'Orange/Orange Tabby', 'Cream Tabby/Cream Tabby',\n",
       "       'Black Smoke/Brown Tabby', 'Liver/Buff', 'Liver/Cream',\n",
       "       'Silver Lynx Point/White', 'Tricolor/Tricolor',\n",
       "       'Black/Brown Merle', 'Yellow/Gray', 'Black/Gold', 'Red/Green',\n",
       "       'Brown Merle/Brown Tabby', 'Green/Red', 'Brown Brindle/Blue Cream',\n",
       "       'Fawn/Gray', 'Blue Smoke/Gray', 'Lynx Point/Tortie Point',\n",
       "       'Orange/Gray', 'Black Tabby/Black', 'White/Black Tiger',\n",
       "       'Black Smoke/Black Tiger', 'Liver/Brown Brindle',\n",
       "       'Blue Merle/Red Merle', 'Tan/Fawn', 'Brown/Red Merle',\n",
       "       'White/Silver Tabby', 'Green/Black', 'Brown/Brown Merle',\n",
       "       'Black Brindle/Blue Tick', 'Brown Brindle/Gray', 'Agouti/Gray',\n",
       "       'Black Smoke/Black', 'Brown Tabby/Black Brindle',\n",
       "       'White/Brown Tiger', 'Tan/Apricot', 'Tricolor/Orange',\n",
       "       'Seal Point/Buff', 'White/Lilac Point', 'White/Flame Point',\n",
       "       'Gray/Green', 'Lilac Point/Black'], dtype=object)"
      ]
     },
     "execution_count": 43,
     "metadata": {},
     "output_type": "execute_result"
    }
   ],
   "source": [
    "animals[\"Color\"].unique()"
   ]
  },
  {
   "cell_type": "code",
   "execution_count": 41,
   "metadata": {},
   "outputs": [],
   "source": [
    "# mask = animals[\"Animal Type\"] == \"Dog\"\n",
    "\n",
    "# animals[mask][\"Color\"].value_counts()"
   ]
  }
 ],
 "metadata": {
  "kernelspec": {
   "display_name": "Python 3",
   "language": "python",
   "name": "python3"
  },
  "language_info": {
   "codemirror_mode": {
    "name": "ipython",
    "version": 3
   },
   "file_extension": ".py",
   "mimetype": "text/x-python",
   "name": "python",
   "nbconvert_exporter": "python",
   "pygments_lexer": "ipython3",
   "version": "3.6.4"
  }
 },
 "nbformat": 4,
 "nbformat_minor": 2
}
