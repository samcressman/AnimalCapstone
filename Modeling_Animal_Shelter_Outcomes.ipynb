{
 "cells": [
  {
   "cell_type": "markdown",
   "metadata": {},
   "source": [
    "***Sam Cressman Capstone Project: Shelter Animal Outcomes***"
   ]
  },
  {
   "cell_type": "markdown",
   "metadata": {},
   "source": [
    "***Help improve outcomes for shelter animals***"
   ]
  },
  {
   "cell_type": "markdown",
   "metadata": {},
   "source": [
    "***Capstone inspiration:*** [Kaggle](https://www.kaggle.com/c/shelter-animal-outcomes)"
   ]
  },
  {
   "cell_type": "markdown",
   "metadata": {},
   "source": [
    "***Modeling Notebook***"
   ]
  },
  {
   "cell_type": "code",
   "execution_count": 1,
   "metadata": {},
   "outputs": [
    {
     "name": "stderr",
     "output_type": "stream",
     "text": [
      "/anaconda3/lib/python3.6/site-packages/h5py/__init__.py:36: FutureWarning: Conversion of the second argument of issubdtype from `float` to `np.floating` is deprecated. In future, it will be treated as `np.float64 == np.dtype(float).type`.\n",
      "  from ._conv import register_converters as _register_converters\n",
      "Using TensorFlow backend.\n"
     ]
    }
   ],
   "source": [
    "import pandas as pd\n",
    "import numpy as np\n",
    "from sklearn.linear_model import LogisticRegression\n",
    "from sklearn.model_selection import train_test_split, GridSearchCV\n",
    "from sklearn.preprocessing import StandardScaler\n",
    "from sklearn.ensemble import RandomForestClassifier\n",
    "from keras.models import Sequential\n",
    "from keras.layers import Dense\n",
    "from keras.utils import to_categorical"
   ]
  },
  {
   "cell_type": "code",
   "execution_count": 2,
   "metadata": {},
   "outputs": [],
   "source": [
    "animals = pd.read_csv(\"./cleaned_animals_with_dummies\")"
   ]
  },
  {
   "cell_type": "code",
   "execution_count": 3,
   "metadata": {},
   "outputs": [
    {
     "data": {
      "text/plain": [
       "1.0    31113\n",
       "0.0    24099\n",
       "2.0    12658\n",
       "3.0     6334\n",
       "6.0      730\n",
       "5.0      318\n",
       "4.0      169\n",
       "7.0       45\n",
       "8.0       16\n",
       "Name: Outcome Type, dtype: int64"
      ]
     },
     "execution_count": 3,
     "metadata": {},
     "output_type": "execute_result"
    }
   ],
   "source": [
    "# outcomes_dict = {\"Transfer\": 0, \"Adoption\": 1, \"Return to Owner\": 2, \n",
    "#                \"Euthanasia\": 3, \"Rto-Adopt\": 4, \"Disposal\": 5, \"Died\": 6,\n",
    "#                \"Missing\": 7, \"Relocate\": 8}\n",
    "\n",
    "animals[\"Outcome Type\"].value_counts();"
   ]
  },
  {
   "cell_type": "code",
   "execution_count": 4,
   "metadata": {},
   "outputs": [],
   "source": [
    "test_dict = {\"Transfer\": 1, \"Adoption\":1 , \"Return to Owner\": 1, \"Euthanasia\":0, \"Rto-Adopt\":1, \"Disposal\":0,\n",
    "             \"Died\":0, \"Missing\":0, \"Relocate\":1}\n",
    "\n",
    "animals[\"Outcome Type\"] = animals[\"Outcome Type\"].map(test_dict)"
   ]
  },
  {
   "cell_type": "code",
   "execution_count": 20,
   "metadata": {},
   "outputs": [
    {
     "data": {
      "text/plain": [
       "1    0.901606\n",
       "0    0.098394\n",
       "Name: Outcome Type, dtype: float64"
      ]
     },
     "execution_count": 20,
     "metadata": {},
     "output_type": "execute_result"
    }
   ],
   "source": [
    "# Baseline\n",
    "\n",
    "animals[\"Outcome Type\"].value_counts(normalize = True)"
   ]
  },
  {
   "cell_type": "markdown",
   "metadata": {},
   "source": [
    "***Setting X, y, features***"
   ]
  },
  {
   "cell_type": "code",
   "execution_count": 8,
   "metadata": {},
   "outputs": [],
   "source": [
    "# Disregarding DateTime objects, target (Outcome Type), Outcome Subtype (many nulls: kept for EDA/visualization),\n",
    "# Breed (added columns \"manually\"), Color (created buckets, concated back with animals)\n",
    "\n",
    "features_to_disregard = [\"Intake Time\", \"Outcome Time\", \"Date of Birth\",\n",
    "                         \"Outcome Type\", \"Outcome Subtype\", \"Breed\", \"Color\"]"
   ]
  },
  {
   "cell_type": "code",
   "execution_count": 9,
   "metadata": {},
   "outputs": [],
   "source": [
    "features = [feat for feat in animals.columns if feat not in features_to_disregard]\n",
    "\n",
    "X = animals[features]\n",
    "y = animals[\"Outcome Type\"]\n",
    "\n",
    "X_train, X_test, y_train, y_test = train_test_split(X, y)"
   ]
  },
  {
   "cell_type": "markdown",
   "metadata": {},
   "source": [
    "***Logistic Regression Model***"
   ]
  },
  {
   "cell_type": "code",
   "execution_count": 18,
   "metadata": {},
   "outputs": [
    {
     "data": {
      "text/plain": [
       "0.9582413311900514"
      ]
     },
     "execution_count": 18,
     "metadata": {},
     "output_type": "execute_result"
    }
   ],
   "source": [
    "# Accuracy score: 0.7196227014996556\n",
    "\n",
    "lr = LogisticRegression()\n",
    "\n",
    "ss = StandardScaler()\n",
    "ss.fit(X_train)\n",
    "X_train = ss.transform(X_train)\n",
    "X_test = ss.transform(X_test)\n",
    "\n",
    "model = lr.fit(X_train, y_train)\n",
    "\n",
    "model.score(X_train, y_train)"
   ]
  },
  {
   "cell_type": "code",
   "execution_count": 19,
   "metadata": {},
   "outputs": [
    {
     "data": {
      "text/plain": [
       "0.9557522123893806"
      ]
     },
     "execution_count": 19,
     "metadata": {},
     "output_type": "execute_result"
    }
   ],
   "source": [
    "model.score(X_test, y_test)"
   ]
  },
  {
   "cell_type": "code",
   "execution_count": 12,
   "metadata": {},
   "outputs": [
    {
     "data": {
      "text/plain": [
       "array([1, 1, 1, ..., 0, 1, 1])"
      ]
     },
     "execution_count": 12,
     "metadata": {},
     "output_type": "execute_result"
    }
   ],
   "source": [
    "model.predict(X_test)"
   ]
  },
  {
   "cell_type": "code",
   "execution_count": 13,
   "metadata": {},
   "outputs": [],
   "source": [
    "predictions = model.predict(X_test)"
   ]
  },
  {
   "cell_type": "code",
   "execution_count": 14,
   "metadata": {},
   "outputs": [],
   "source": [
    "# Creating DataFrame to view coefficient values\n",
    "\n",
    "coef_df = pd.DataFrame({\n",
    "        \"coef\": lr.coef_[0],\n",
    "        \"feature\": features\n",
    "    })"
   ]
  },
  {
   "cell_type": "code",
   "execution_count": 15,
   "metadata": {},
   "outputs": [],
   "source": [
    "coef_df[\"exponential_value\"] = [(np.exp(i)) for i in coef_df[\"coef\"]]"
   ]
  },
  {
   "cell_type": "code",
   "execution_count": 16,
   "metadata": {},
   "outputs": [
    {
     "data": {
      "text/html": [
       "<div>\n",
       "<style scoped>\n",
       "    .dataframe tbody tr th:only-of-type {\n",
       "        vertical-align: middle;\n",
       "    }\n",
       "\n",
       "    .dataframe tbody tr th {\n",
       "        vertical-align: top;\n",
       "    }\n",
       "\n",
       "    .dataframe thead th {\n",
       "        text-align: right;\n",
       "    }\n",
       "</style>\n",
       "<table border=\"1\" class=\"dataframe\">\n",
       "  <thead>\n",
       "    <tr style=\"text-align: right;\">\n",
       "      <th></th>\n",
       "      <th>coef</th>\n",
       "      <th>feature</th>\n",
       "      <th>exponential_value</th>\n",
       "    </tr>\n",
       "  </thead>\n",
       "  <tbody>\n",
       "    <tr>\n",
       "      <th>0</th>\n",
       "      <td>0.561431</td>\n",
       "      <td>has_name</td>\n",
       "      <td>1.753180</td>\n",
       "    </tr>\n",
       "    <tr>\n",
       "      <th>134</th>\n",
       "      <td>0.444501</td>\n",
       "      <td>Sex upon Outcome_Spayed Female</td>\n",
       "      <td>1.559712</td>\n",
       "    </tr>\n",
       "    <tr>\n",
       "      <th>133</th>\n",
       "      <td>0.389782</td>\n",
       "      <td>Sex upon Outcome_Neutered Male</td>\n",
       "      <td>1.476659</td>\n",
       "    </tr>\n",
       "    <tr>\n",
       "      <th>18</th>\n",
       "      <td>0.353037</td>\n",
       "      <td>retriever</td>\n",
       "      <td>1.423384</td>\n",
       "    </tr>\n",
       "    <tr>\n",
       "      <th>116</th>\n",
       "      <td>0.300050</td>\n",
       "      <td>Intake Condition_Normal</td>\n",
       "      <td>1.349927</td>\n",
       "    </tr>\n",
       "    <tr>\n",
       "      <th>121</th>\n",
       "      <td>0.286665</td>\n",
       "      <td>Sex upon Intake_Intact Female</td>\n",
       "      <td>1.331978</td>\n",
       "    </tr>\n",
       "    <tr>\n",
       "      <th>111</th>\n",
       "      <td>0.238911</td>\n",
       "      <td>Intake Type_Stray</td>\n",
       "      <td>1.269865</td>\n",
       "    </tr>\n",
       "    <tr>\n",
       "      <th>40</th>\n",
       "      <td>0.232016</td>\n",
       "      <td>ridgeback</td>\n",
       "      <td>1.261140</td>\n",
       "    </tr>\n",
       "    <tr>\n",
       "      <th>122</th>\n",
       "      <td>0.227230</td>\n",
       "      <td>Sex upon Intake_Intact Male</td>\n",
       "      <td>1.255119</td>\n",
       "    </tr>\n",
       "    <tr>\n",
       "      <th>14</th>\n",
       "      <td>0.183788</td>\n",
       "      <td>black tan</td>\n",
       "      <td>1.201762</td>\n",
       "    </tr>\n",
       "    <tr>\n",
       "      <th>117</th>\n",
       "      <td>0.171266</td>\n",
       "      <td>Intake Condition_Nursing</td>\n",
       "      <td>1.186807</td>\n",
       "    </tr>\n",
       "    <tr>\n",
       "      <th>128</th>\n",
       "      <td>0.149740</td>\n",
       "      <td>Animal Type_Dog</td>\n",
       "      <td>1.161532</td>\n",
       "    </tr>\n",
       "    <tr>\n",
       "      <th>107</th>\n",
       "      <td>0.121280</td>\n",
       "      <td>yellow</td>\n",
       "      <td>1.128941</td>\n",
       "    </tr>\n",
       "    <tr>\n",
       "      <th>230</th>\n",
       "      <td>0.119212</td>\n",
       "      <td>Outcome Month_1</td>\n",
       "      <td>1.126608</td>\n",
       "    </tr>\n",
       "    <tr>\n",
       "      <th>246</th>\n",
       "      <td>0.115458</td>\n",
       "      <td>Outcome Year_2017</td>\n",
       "      <td>1.122387</td>\n",
       "    </tr>\n",
       "    <tr>\n",
       "      <th>32</th>\n",
       "      <td>0.109299</td>\n",
       "      <td>guinea pig</td>\n",
       "      <td>1.115496</td>\n",
       "    </tr>\n",
       "    <tr>\n",
       "      <th>233</th>\n",
       "      <td>0.107882</td>\n",
       "      <td>Outcome Month_4</td>\n",
       "      <td>1.113917</td>\n",
       "    </tr>\n",
       "    <tr>\n",
       "      <th>182</th>\n",
       "      <td>0.107754</td>\n",
       "      <td>Intake Month_9</td>\n",
       "      <td>1.113773</td>\n",
       "    </tr>\n",
       "    <tr>\n",
       "      <th>54</th>\n",
       "      <td>0.104810</td>\n",
       "      <td>pomeranian</td>\n",
       "      <td>1.110499</td>\n",
       "    </tr>\n",
       "    <tr>\n",
       "      <th>183</th>\n",
       "      <td>0.102563</td>\n",
       "      <td>Intake Month_10</td>\n",
       "      <td>1.108007</td>\n",
       "    </tr>\n",
       "  </tbody>\n",
       "</table>\n",
       "</div>"
      ],
      "text/plain": [
       "         coef                         feature  exponential_value\n",
       "0    0.561431                        has_name           1.753180\n",
       "134  0.444501  Sex upon Outcome_Spayed Female           1.559712\n",
       "133  0.389782  Sex upon Outcome_Neutered Male           1.476659\n",
       "18   0.353037                       retriever           1.423384\n",
       "116  0.300050         Intake Condition_Normal           1.349927\n",
       "121  0.286665   Sex upon Intake_Intact Female           1.331978\n",
       "111  0.238911               Intake Type_Stray           1.269865\n",
       "40   0.232016                       ridgeback           1.261140\n",
       "122  0.227230     Sex upon Intake_Intact Male           1.255119\n",
       "14   0.183788                       black tan           1.201762\n",
       "117  0.171266        Intake Condition_Nursing           1.186807\n",
       "128  0.149740                 Animal Type_Dog           1.161532\n",
       "107  0.121280                          yellow           1.128941\n",
       "230  0.119212                 Outcome Month_1           1.126608\n",
       "246  0.115458               Outcome Year_2017           1.122387\n",
       "32   0.109299                      guinea pig           1.115496\n",
       "233  0.107882                 Outcome Month_4           1.113917\n",
       "182  0.107754                  Intake Month_9           1.113773\n",
       "54   0.104810                      pomeranian           1.110499\n",
       "183  0.102563                 Intake Month_10           1.108007"
      ]
     },
     "execution_count": 16,
     "metadata": {},
     "output_type": "execute_result"
    }
   ],
   "source": [
    "coef_df.sort_values(\"coef\", ascending=False).head(20)"
   ]
  },
  {
   "cell_type": "code",
   "execution_count": 17,
   "metadata": {
    "scrolled": true
   },
   "outputs": [
    {
     "data": {
      "text/html": [
       "<div>\n",
       "<style scoped>\n",
       "    .dataframe tbody tr th:only-of-type {\n",
       "        vertical-align: middle;\n",
       "    }\n",
       "\n",
       "    .dataframe tbody tr th {\n",
       "        vertical-align: top;\n",
       "    }\n",
       "\n",
       "    .dataframe thead th {\n",
       "        text-align: right;\n",
       "    }\n",
       "</style>\n",
       "<table border=\"1\" class=\"dataframe\">\n",
       "  <thead>\n",
       "    <tr style=\"text-align: right;\">\n",
       "      <th></th>\n",
       "      <th>coef</th>\n",
       "      <th>feature</th>\n",
       "      <th>exponential_value</th>\n",
       "    </tr>\n",
       "  </thead>\n",
       "  <tbody>\n",
       "    <tr>\n",
       "      <th>8</th>\n",
       "      <td>-0.141602</td>\n",
       "      <td>staffordshire</td>\n",
       "      <td>0.867966</td>\n",
       "    </tr>\n",
       "    <tr>\n",
       "      <th>3</th>\n",
       "      <td>-0.148212</td>\n",
       "      <td>Length of Time In Shelter (Days)</td>\n",
       "      <td>0.862249</td>\n",
       "    </tr>\n",
       "    <tr>\n",
       "      <th>135</th>\n",
       "      <td>-0.156273</td>\n",
       "      <td>Sex upon Outcome_Unknown</td>\n",
       "      <td>0.855326</td>\n",
       "    </tr>\n",
       "    <tr>\n",
       "      <th>125</th>\n",
       "      <td>-0.156273</td>\n",
       "      <td>Sex upon Intake_Unknown</td>\n",
       "      <td>0.855326</td>\n",
       "    </tr>\n",
       "    <tr>\n",
       "      <th>186</th>\n",
       "      <td>-0.166430</td>\n",
       "      <td>Intake Year_2013</td>\n",
       "      <td>0.846682</td>\n",
       "    </tr>\n",
       "    <tr>\n",
       "      <th>108</th>\n",
       "      <td>-0.184594</td>\n",
       "      <td>Intake Type_Euthanasia Request</td>\n",
       "      <td>0.831442</td>\n",
       "    </tr>\n",
       "    <tr>\n",
       "      <th>1</th>\n",
       "      <td>-0.192931</td>\n",
       "      <td>Age at Intake (Years)</td>\n",
       "      <td>0.824539</td>\n",
       "    </tr>\n",
       "    <tr>\n",
       "      <th>120</th>\n",
       "      <td>-0.201884</td>\n",
       "      <td>Intake Condition_Sick</td>\n",
       "      <td>0.817190</td>\n",
       "    </tr>\n",
       "    <tr>\n",
       "      <th>2</th>\n",
       "      <td>-0.204923</td>\n",
       "      <td>Age at Outcome (Years)</td>\n",
       "      <td>0.814710</td>\n",
       "    </tr>\n",
       "    <tr>\n",
       "      <th>124</th>\n",
       "      <td>-0.276507</td>\n",
       "      <td>Sex upon Intake_Spayed Female</td>\n",
       "      <td>0.758428</td>\n",
       "    </tr>\n",
       "    <tr>\n",
       "      <th>123</th>\n",
       "      <td>-0.301933</td>\n",
       "      <td>Sex upon Intake_Neutered Male</td>\n",
       "      <td>0.739388</td>\n",
       "    </tr>\n",
       "    <tr>\n",
       "      <th>5</th>\n",
       "      <td>-0.313110</td>\n",
       "      <td>pit</td>\n",
       "      <td>0.731169</td>\n",
       "    </tr>\n",
       "    <tr>\n",
       "      <th>44</th>\n",
       "      <td>-0.325111</td>\n",
       "      <td>raccoon</td>\n",
       "      <td>0.722447</td>\n",
       "    </tr>\n",
       "    <tr>\n",
       "      <th>55</th>\n",
       "      <td>-0.352636</td>\n",
       "      <td>skunk</td>\n",
       "      <td>0.702833</td>\n",
       "    </tr>\n",
       "    <tr>\n",
       "      <th>112</th>\n",
       "      <td>-0.382613</td>\n",
       "      <td>Intake Type_Wildlife</td>\n",
       "      <td>0.682077</td>\n",
       "    </tr>\n",
       "    <tr>\n",
       "      <th>17</th>\n",
       "      <td>-0.399224</td>\n",
       "      <td>labrador</td>\n",
       "      <td>0.670841</td>\n",
       "    </tr>\n",
       "    <tr>\n",
       "      <th>115</th>\n",
       "      <td>-0.404958</td>\n",
       "      <td>Intake Condition_Injured</td>\n",
       "      <td>0.667005</td>\n",
       "    </tr>\n",
       "    <tr>\n",
       "      <th>131</th>\n",
       "      <td>-0.489230</td>\n",
       "      <td>Sex upon Outcome_Intact Female</td>\n",
       "      <td>0.613098</td>\n",
       "    </tr>\n",
       "    <tr>\n",
       "      <th>132</th>\n",
       "      <td>-0.539183</td>\n",
       "      <td>Sex upon Outcome_Intact Male</td>\n",
       "      <td>0.583225</td>\n",
       "    </tr>\n",
       "    <tr>\n",
       "      <th>43</th>\n",
       "      <td>-1.623965</td>\n",
       "      <td>bat</td>\n",
       "      <td>0.197116</td>\n",
       "    </tr>\n",
       "  </tbody>\n",
       "</table>\n",
       "</div>"
      ],
      "text/plain": [
       "         coef                           feature  exponential_value\n",
       "8   -0.141602                     staffordshire           0.867966\n",
       "3   -0.148212  Length of Time In Shelter (Days)           0.862249\n",
       "135 -0.156273          Sex upon Outcome_Unknown           0.855326\n",
       "125 -0.156273           Sex upon Intake_Unknown           0.855326\n",
       "186 -0.166430                  Intake Year_2013           0.846682\n",
       "108 -0.184594    Intake Type_Euthanasia Request           0.831442\n",
       "1   -0.192931             Age at Intake (Years)           0.824539\n",
       "120 -0.201884             Intake Condition_Sick           0.817190\n",
       "2   -0.204923            Age at Outcome (Years)           0.814710\n",
       "124 -0.276507     Sex upon Intake_Spayed Female           0.758428\n",
       "123 -0.301933     Sex upon Intake_Neutered Male           0.739388\n",
       "5   -0.313110                               pit           0.731169\n",
       "44  -0.325111                           raccoon           0.722447\n",
       "55  -0.352636                             skunk           0.702833\n",
       "112 -0.382613              Intake Type_Wildlife           0.682077\n",
       "17  -0.399224                          labrador           0.670841\n",
       "115 -0.404958          Intake Condition_Injured           0.667005\n",
       "131 -0.489230    Sex upon Outcome_Intact Female           0.613098\n",
       "132 -0.539183      Sex upon Outcome_Intact Male           0.583225\n",
       "43  -1.623965                               bat           0.197116"
      ]
     },
     "execution_count": 17,
     "metadata": {},
     "output_type": "execute_result"
    }
   ],
   "source": [
    "coef_df.sort_values(\"coef\", ascending=False).tail(20)"
   ]
  },
  {
   "cell_type": "markdown",
   "metadata": {},
   "source": [
    "***GridSearch Logistic Regression Model***"
   ]
  },
  {
   "cell_type": "code",
   "execution_count": 10,
   "metadata": {},
   "outputs": [
    {
     "name": "stdout",
     "output_type": "stream",
     "text": [
      "0.7242938651498825\n",
      "{'C': 1, 'penalty': 'l2', 'solver': 'liblinear'}\n"
     ]
    }
   ],
   "source": [
    "# gs_params = {\n",
    "#     \"penalty\": [\"l1\", \"l2\"],\n",
    "#     \"solver\": [\"liblinear\"],\n",
    "#     \"C\": [0.1 , 1]\n",
    "# }\n",
    "\n",
    "# lr_gridsearch = GridSearchCV(LogisticRegression(), gs_params)\n",
    "\n",
    "# lr_gridsearch_model = lr_gridsearch.fit(X_train, y_train)\n",
    "\n",
    "# print(lr_gridsearch_model.best_score_)\n",
    "\n",
    "# print(lr_gridsearch_model.best_params_)"
   ]
  },
  {
   "cell_type": "code",
   "execution_count": 12,
   "metadata": {},
   "outputs": [],
   "source": [
    "# GridSearch Results (commenting out due to run time):\n",
    "\n",
    "# 0.7242938651498825\n",
    "# {'C': 1, 'penalty': 'l2', 'solver': 'liblinear'}"
   ]
  },
  {
   "cell_type": "markdown",
   "metadata": {},
   "source": [
    "***Random Forest***"
   ]
  },
  {
   "cell_type": "code",
   "execution_count": 21,
   "metadata": {
    "scrolled": true
   },
   "outputs": [
    {
     "data": {
      "text/plain": [
       "0.9593026336707117"
      ]
     },
     "execution_count": 21,
     "metadata": {},
     "output_type": "execute_result"
    }
   ],
   "source": [
    "rf = RandomForestClassifier()\n",
    "\n",
    "rf.fit(X_train, y_train)\n",
    "\n",
    "rf.score(X_test, y_test)"
   ]
  },
  {
   "cell_type": "markdown",
   "metadata": {},
   "source": [
    "***Neural Network***"
   ]
  },
  {
   "cell_type": "markdown",
   "metadata": {},
   "source": [
    "Neural networks, in a single line, attempt to iteratively train a set (or sets) of weights that, when used together, return the most accurate predictions for a set of inputs. The model is trained using a loss function, which our model will attempt to minimize over iterations."
   ]
  },
  {
   "cell_type": "code",
   "execution_count": 22,
   "metadata": {},
   "outputs": [],
   "source": [
    "X_train, X_test, y_train, y_test = train_test_split(X, y)\n",
    "\n",
    "ss = StandardScaler()\n",
    "X_train = ss.fit_transform(X_train)\n",
    "X_test = ss.transform(X_test)"
   ]
  },
  {
   "cell_type": "code",
   "execution_count": 23,
   "metadata": {},
   "outputs": [],
   "source": [
    "# One hot encoding target\n",
    "\n",
    "y_train = to_categorical(y_train)\n",
    "y_test = to_categorical(y_test)"
   ]
  },
  {
   "cell_type": "code",
   "execution_count": 24,
   "metadata": {},
   "outputs": [
    {
     "data": {
      "text/plain": [
       "(56611, 248)"
      ]
     },
     "execution_count": 24,
     "metadata": {},
     "output_type": "execute_result"
    }
   ],
   "source": [
    "X_train.shape"
   ]
  },
  {
   "cell_type": "code",
   "execution_count": 26,
   "metadata": {},
   "outputs": [
    {
     "name": "stdout",
     "output_type": "stream",
     "text": [
      "Train on 56611 samples, validate on 18871 samples\n",
      "Epoch 1/50\n",
      "56611/56611 [==============================] - 19s 329us/step - loss: 0.1520 - acc: 0.9532 - val_loss: 0.1366 - val_acc: 0.9585\n",
      "Epoch 2/50\n",
      "56611/56611 [==============================] - 18s 325us/step - loss: 0.1228 - acc: 0.9607 - val_loss: 0.1346 - val_acc: 0.9590\n",
      "Epoch 3/50\n",
      "56611/56611 [==============================] - 14s 251us/step - loss: 0.1095 - acc: 0.9645 - val_loss: 0.1407 - val_acc: 0.9571\n",
      "Epoch 4/50\n",
      "56611/56611 [==============================] - 12s 207us/step - loss: 0.0958 - acc: 0.9677 - val_loss: 0.1521 - val_acc: 0.9578\n",
      "Epoch 5/50\n",
      "56611/56611 [==============================] - 12s 209us/step - loss: 0.0805 - acc: 0.9718 - val_loss: 0.1653 - val_acc: 0.9526\n",
      "Epoch 6/50\n",
      "56611/56611 [==============================] - 12s 213us/step - loss: 0.0665 - acc: 0.9762 - val_loss: 0.1850 - val_acc: 0.9487\n",
      "Epoch 7/50\n",
      "56611/56611 [==============================] - 15s 270us/step - loss: 0.0545 - acc: 0.9808 - val_loss: 0.2018 - val_acc: 0.9526\n",
      "Epoch 8/50\n",
      "56611/56611 [==============================] - 14s 252us/step - loss: 0.0450 - acc: 0.9836 - val_loss: 0.2307 - val_acc: 0.9511\n",
      "Epoch 9/50\n",
      "56611/56611 [==============================] - 16s 276us/step - loss: 0.0383 - acc: 0.9860 - val_loss: 0.2396 - val_acc: 0.9523\n",
      "Epoch 10/50\n",
      "56611/56611 [==============================] - 12s 215us/step - loss: 0.0325 - acc: 0.9886 - val_loss: 0.2557 - val_acc: 0.9485\n",
      "Epoch 11/50\n",
      "56611/56611 [==============================] - 15s 270us/step - loss: 0.0286 - acc: 0.9902 - val_loss: 0.2679 - val_acc: 0.9490\n",
      "Epoch 12/50\n",
      "56611/56611 [==============================] - 16s 291us/step - loss: 0.0232 - acc: 0.9922 - val_loss: 0.2910 - val_acc: 0.9497\n",
      "Epoch 13/50\n",
      "56611/56611 [==============================] - 14s 253us/step - loss: 0.0252 - acc: 0.9913 - val_loss: 0.3148 - val_acc: 0.9523\n",
      "Epoch 14/50\n",
      "56611/56611 [==============================] - 18s 322us/step - loss: 0.0203 - acc: 0.9929 - val_loss: 0.3043 - val_acc: 0.9530\n",
      "Epoch 15/50\n",
      "56611/56611 [==============================] - 12s 210us/step - loss: 0.0222 - acc: 0.9925 - val_loss: 0.3316 - val_acc: 0.9482\n",
      "Epoch 16/50\n",
      "56611/56611 [==============================] - 10s 183us/step - loss: 0.0176 - acc: 0.9939 - val_loss: 0.3350 - val_acc: 0.9532\n",
      "Epoch 17/50\n",
      "56611/56611 [==============================] - 12s 205us/step - loss: 0.0190 - acc: 0.9938 - val_loss: 0.3422 - val_acc: 0.9489\n",
      "Epoch 18/50\n",
      "56611/56611 [==============================] - 15s 261us/step - loss: 0.0186 - acc: 0.9944 - val_loss: 0.3459 - val_acc: 0.9498\n",
      "Epoch 19/50\n",
      "56611/56611 [==============================] - 13s 234us/step - loss: 0.0168 - acc: 0.9947 - val_loss: 0.3462 - val_acc: 0.9514\n",
      "Epoch 20/50\n",
      "56611/56611 [==============================] - 14s 243us/step - loss: 0.0171 - acc: 0.9949 - val_loss: 0.3512 - val_acc: 0.9499\n",
      "Epoch 21/50\n",
      "56611/56611 [==============================] - 17s 294us/step - loss: 0.0152 - acc: 0.9957 - val_loss: 0.3492 - val_acc: 0.9485\n",
      "Epoch 22/50\n",
      "56611/56611 [==============================] - 14s 254us/step - loss: 0.0181 - acc: 0.9947 - val_loss: 0.3635 - val_acc: 0.9518\n",
      "Epoch 23/50\n",
      "56611/56611 [==============================] - 13s 236us/step - loss: 0.0143 - acc: 0.9958 - val_loss: 0.3658 - val_acc: 0.9507\n",
      "Epoch 24/50\n",
      "56611/56611 [==============================] - 13s 222us/step - loss: 0.0158 - acc: 0.9955 - val_loss: 0.3654 - val_acc: 0.9528\n",
      "Epoch 25/50\n",
      "56611/56611 [==============================] - 13s 232us/step - loss: 0.0145 - acc: 0.9958 - val_loss: 0.3803 - val_acc: 0.9538\n",
      "Epoch 26/50\n",
      "56611/56611 [==============================] - 13s 226us/step - loss: 0.0128 - acc: 0.9966 - val_loss: 0.3778 - val_acc: 0.9430\n",
      "Epoch 27/50\n",
      "56611/56611 [==============================] - 10s 182us/step - loss: 0.0124 - acc: 0.9966 - val_loss: 0.3809 - val_acc: 0.9485\n",
      "Epoch 28/50\n",
      "56611/56611 [==============================] - 11s 201us/step - loss: 0.0148 - acc: 0.9960 - val_loss: 0.3834 - val_acc: 0.9507\n",
      "Epoch 29/50\n",
      "56611/56611 [==============================] - 11s 196us/step - loss: 0.0127 - acc: 0.9967 - val_loss: 0.4035 - val_acc: 0.9449\n",
      "Epoch 30/50\n",
      "56611/56611 [==============================] - 10s 176us/step - loss: 0.0161 - acc: 0.9957 - val_loss: 0.3804 - val_acc: 0.9506\n",
      "Epoch 31/50\n",
      "56611/56611 [==============================] - 13s 231us/step - loss: 0.0105 - acc: 0.9971 - val_loss: 0.4106 - val_acc: 0.9527\n",
      "Epoch 32/50\n",
      "56611/56611 [==============================] - 15s 263us/step - loss: 0.0131 - acc: 0.9967 - val_loss: 0.3810 - val_acc: 0.9494\n",
      "Epoch 33/50\n",
      "56611/56611 [==============================] - 13s 227us/step - loss: 0.0131 - acc: 0.9967 - val_loss: 0.3961 - val_acc: 0.9485\n",
      "Epoch 34/50\n",
      "56611/56611 [==============================] - 14s 248us/step - loss: 0.0131 - acc: 0.9964 - val_loss: 0.3989 - val_acc: 0.9479\n",
      "Epoch 35/50\n",
      "56611/56611 [==============================] - 16s 285us/step - loss: 0.0108 - acc: 0.9973 - val_loss: 0.4007 - val_acc: 0.9478\n",
      "Epoch 36/50\n",
      "56611/56611 [==============================] - 14s 254us/step - loss: 0.0111 - acc: 0.9974 - val_loss: 0.4186 - val_acc: 0.9458\n",
      "Epoch 37/50\n",
      "56611/56611 [==============================] - 14s 245us/step - loss: 0.0119 - acc: 0.9971 - val_loss: 0.4007 - val_acc: 0.9494\n",
      "Epoch 38/50\n",
      "56611/56611 [==============================] - 13s 223us/step - loss: 0.0103 - acc: 0.9975 - val_loss: 0.4055 - val_acc: 0.9483\n",
      "Epoch 39/50\n",
      "56611/56611 [==============================] - 13s 222us/step - loss: 0.0126 - acc: 0.9967 - val_loss: 0.4057 - val_acc: 0.9502\n",
      "Epoch 40/50\n",
      "56611/56611 [==============================] - 13s 224us/step - loss: 0.0125 - acc: 0.9971 - val_loss: 0.4081 - val_acc: 0.9473\n",
      "Epoch 41/50\n",
      "56611/56611 [==============================] - 14s 242us/step - loss: 0.0146 - acc: 0.9962 - val_loss: 0.4068 - val_acc: 0.9520\n",
      "Epoch 42/50\n",
      "56611/56611 [==============================] - 13s 224us/step - loss: 0.0113 - acc: 0.9974 - val_loss: 0.4215 - val_acc: 0.9533\n",
      "Epoch 43/50\n",
      "56611/56611 [==============================] - 14s 249us/step - loss: 0.0125 - acc: 0.9965 - val_loss: 0.4049 - val_acc: 0.9546\n",
      "Epoch 44/50\n",
      "56611/56611 [==============================] - 14s 249us/step - loss: 0.0088 - acc: 0.9980 - val_loss: 0.4232 - val_acc: 0.9513\n",
      "Epoch 45/50\n",
      "56611/56611 [==============================] - 15s 272us/step - loss: 0.0119 - acc: 0.9971 - val_loss: 0.4102 - val_acc: 0.9506\n",
      "Epoch 46/50\n",
      "56611/56611 [==============================] - 14s 249us/step - loss: 0.0085 - acc: 0.9980 - val_loss: 0.4110 - val_acc: 0.9477\n",
      "Epoch 47/50\n",
      "56611/56611 [==============================] - 14s 250us/step - loss: 0.0112 - acc: 0.9970 - val_loss: 0.4225 - val_acc: 0.9510\n",
      "Epoch 48/50\n",
      "56611/56611 [==============================] - 14s 247us/step - loss: 0.0108 - acc: 0.9975 - val_loss: 0.4208 - val_acc: 0.9480\n",
      "Epoch 49/50\n",
      "56611/56611 [==============================] - 16s 282us/step - loss: 0.0077 - acc: 0.9983 - val_loss: 0.4090 - val_acc: 0.9484\n",
      "Epoch 50/50\n",
      "56611/56611 [==============================] - 14s 253us/step - loss: 0.0107 - acc: 0.9974 - val_loss: 0.4182 - val_acc: 0.9497\n"
     ]
    },
    {
     "data": {
      "text/plain": [
       "<keras.callbacks.History at 0x1a1cbb55f8>"
      ]
     },
     "execution_count": 26,
     "metadata": {},
     "output_type": "execute_result"
    }
   ],
   "source": [
    "model = Sequential()\n",
    "\n",
    "model.add(Dense(248, input_dim = 248, activation= \"relu\"))\n",
    "model.add(Dense(2, activation = \"softmax\"))\n",
    "\n",
    "model.compile(loss = \"categorical_crossentropy\", optimizer = \"adam\", metrics=[\"accuracy\"])\n",
    "\n",
    "model.fit(X_train, y_train, validation_data = (X_test, y_test), epochs = 50)"
   ]
  },
  {
   "cell_type": "code",
   "execution_count": 25,
   "metadata": {
    "scrolled": true
   },
   "outputs": [
    {
     "data": {
      "text/plain": [
       "array([3, 1, 0, ..., 0, 6, 0])"
      ]
     },
     "execution_count": 25,
     "metadata": {},
     "output_type": "execute_result"
    }
   ],
   "source": [
    "model.predict_classes(X_test)"
   ]
  }
 ],
 "metadata": {
  "kernelspec": {
   "display_name": "Python 3",
   "language": "python",
   "name": "python3"
  },
  "language_info": {
   "codemirror_mode": {
    "name": "ipython",
    "version": 3
   },
   "file_extension": ".py",
   "mimetype": "text/x-python",
   "name": "python",
   "nbconvert_exporter": "python",
   "pygments_lexer": "ipython3",
   "version": "3.6.4"
  }
 },
 "nbformat": 4,
 "nbformat_minor": 2
}
