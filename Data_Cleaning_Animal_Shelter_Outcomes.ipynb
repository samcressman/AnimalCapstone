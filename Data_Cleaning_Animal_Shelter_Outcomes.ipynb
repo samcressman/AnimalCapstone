{
 "cells": [
  {
   "cell_type": "markdown",
   "metadata": {},
   "source": [
    "***Sam Cressman Capstone Project: Shelter Animal Outcomes***"
   ]
  },
  {
   "cell_type": "markdown",
   "metadata": {},
   "source": [
    "***Help improve outcomes for shelter animals***"
   ]
  },
  {
   "cell_type": "markdown",
   "metadata": {},
   "source": [
    "***Capstone inspiration:*** [Kaggle](https://www.kaggle.com/c/shelter-animal-outcomes)"
   ]
  },
  {
   "cell_type": "markdown",
   "metadata": {},
   "source": [
    "[Dataset from the City of Austin open data portal (pulled 6/20/18)](https://data.austintexas.gov/Health-and-Community-Services/Austin-Animal-Center-Outcomes/9t4d-g238)"
   ]
  },
  {
   "cell_type": "markdown",
   "metadata": {},
   "source": [
    "Every year, approximately 7.6 million companion animals end up in US shelters. Many animals are given up as unwanted by their owners, while others are picked up after getting lost or taken out of cruelty situations. Many of these animals find forever families to take them home, but just as many are not so lucky. 2.7 million dogs and cats are euthanized in the US every year. <br>\n",
    "\n",
    "Using a dataset of intake information including breed, color, sex, and age from the Austin Animal Center, we're asking Kagglers to predict the outcome for each animal. <br>\n",
    "\n",
    "We also believe this dataset can help us understand trends in animal outcomes. These insights could help shelters focus their energy on specific animals who need a little extra help finding a new home. We encourage you to publish your insights on Scripts so they are publicly accessible. <br>"
   ]
  },
  {
   "cell_type": "code",
   "execution_count": 300,
   "metadata": {},
   "outputs": [],
   "source": [
    "import pandas as pd\n",
    "from sklearn.feature_extraction.text import CountVectorizer"
   ]
  },
  {
   "cell_type": "code",
   "execution_count": 252,
   "metadata": {},
   "outputs": [],
   "source": [
    "animals = pd.read_csv(\"Austin_Animal_Center_Outcomes.csv\")"
   ]
  },
  {
   "cell_type": "markdown",
   "metadata": {},
   "source": [
    "***Quick EDA***"
   ]
  },
  {
   "cell_type": "code",
   "execution_count": 253,
   "metadata": {},
   "outputs": [],
   "source": [
    "animals.head();"
   ]
  },
  {
   "cell_type": "code",
   "execution_count": 254,
   "metadata": {},
   "outputs": [],
   "source": [
    "# All object columns\n",
    "\n",
    "# animals.info()"
   ]
  },
  {
   "cell_type": "code",
   "execution_count": 255,
   "metadata": {},
   "outputs": [],
   "source": [
    "# Most null values are in Name and Outcome Subtype\n",
    "\n",
    "animals.isnull().sum();"
   ]
  },
  {
   "cell_type": "markdown",
   "metadata": {},
   "source": [
    "***Column by column***:\n",
    "\n",
    "***Animal ID***: dropping column (acts as an index)\n",
    "\n",
    "***Name***: Over 25,000 null values: transforming into \"1\" if animal contains a name, 0 otherwise\n",
    "\n",
    "***DateTime***: time of outcome event: object type, splitting into day/month/year through string splicing and then converting into DateTime object to subtract Date of Birth from in order to create Age upon Outcome in years (will dummy each new column, will not model using this column)\n",
    "\n",
    "***MonthYear***: dropping column (exactly the same as DateTime)\n",
    "\n",
    "***Date of Birth***: splitting into day/month/year through string splicing and then converting into DateTime object to subtract Date of Birth from in order to create Age upon Outcome in years (will dummy each new column, will not model using this column)\n",
    "\n",
    "***Outcome Type***: target, dropping 12 null values, mapping/converting into numerical values\n",
    "\n",
    "***Outcome Subtype***: approximately half null: will keep column for EDA/visualization purposes and to further examine Outcome Type but will not include in models\n",
    "\n",
    "***Animal Type***: 5 types (mainly Dog and Cat) but also Bird, Livestock, and Other (Other contains 99 different species)(will dummy column)\n",
    "\n",
    "***Sex upon Outcome***: Neutered Male, Spayed Female, Intact Male, Intact Female, Unknown (mainly Animal Type Other)(will dummy column)\n",
    "\n",
    "***Age upon Outcome***: creating a new column subtracting Date of Birth and Time of Outcome to get a time in years (then will drop Age Outcome and dummy new columns)\n",
    "\n",
    "***Breed***: running through Natural Language Processing Count Vectorizer to create/combine Breed features (2223 unique breeds) and address cleanliness issues (spacing, \"/\" characters, \"Mix\" and \"mix\")\n",
    "\n",
    "***Color***: TBD (in progress)"
   ]
  },
  {
   "cell_type": "markdown",
   "metadata": {},
   "source": [
    "***Animal ID***"
   ]
  },
  {
   "cell_type": "code",
   "execution_count": 256,
   "metadata": {},
   "outputs": [],
   "source": [
    "# Dropping column"
   ]
  },
  {
   "cell_type": "code",
   "execution_count": 257,
   "metadata": {},
   "outputs": [],
   "source": [
    "animals.drop(columns=[\"Animal ID\"], axis = 1, inplace=True)"
   ]
  },
  {
   "cell_type": "markdown",
   "metadata": {},
   "source": [
    "***Name***"
   ]
  },
  {
   "cell_type": "code",
   "execution_count": 258,
   "metadata": {},
   "outputs": [],
   "source": [
    "# Converting into 1 if name, 0 otherwise\n",
    "\n",
    "animals[\"Name\"].isnull().sum();"
   ]
  },
  {
   "cell_type": "code",
   "execution_count": 259,
   "metadata": {},
   "outputs": [],
   "source": [
    "# We see some names somewhat frequently\n",
    "\n",
    "animals[\"Name\"].value_counts()[0:10];"
   ]
  },
  {
   "cell_type": "code",
   "execution_count": 260,
   "metadata": {},
   "outputs": [],
   "source": [
    "animals[\"has_name\"] = animals['Name'].notnull().astype(int)"
   ]
  },
  {
   "cell_type": "code",
   "execution_count": 261,
   "metadata": {},
   "outputs": [],
   "source": [
    "# Dropping Name column\n",
    "\n",
    "animals.drop(columns=[\"Name\"], axis = 1, inplace=True)"
   ]
  },
  {
   "cell_type": "markdown",
   "metadata": {},
   "source": [
    "***DateTime***"
   ]
  },
  {
   "cell_type": "code",
   "execution_count": 262,
   "metadata": {},
   "outputs": [],
   "source": [
    "# DateTime is time of outcome: will rename for clarity:\n",
    "\n",
    "animals = animals.rename(columns={\"DateTime\": \"Outcome Time\"})"
   ]
  },
  {
   "cell_type": "code",
   "execution_count": 263,
   "metadata": {},
   "outputs": [],
   "source": [
    "# Object type: will split out day, month, year\n",
    "\n",
    "animals[\"Outcome Day\"] = [day[3:5] for day in animals[\"Outcome Time\"]]\n",
    "\n",
    "# animals[\"Outcome Day\"] = [day.replace(\"0\", \"\") for day in animals[\"Outcome Day\"] if day[0] == \"0\"]"
   ]
  },
  {
   "cell_type": "code",
   "execution_count": 264,
   "metadata": {},
   "outputs": [],
   "source": [
    "animals[\"Outcome Month\"] = [month[0:2] for month in animals[\"Outcome Time\"]]\n",
    "\n",
    "# animals[\"Outcome Month\"] = [month.replace(\"0\", \"\") for month in animals[\"Outcome Month\"] if month[0] == \"0\"]"
   ]
  },
  {
   "cell_type": "code",
   "execution_count": 265,
   "metadata": {},
   "outputs": [],
   "source": [
    "animals[\"Outcome Year\"] = [year[6:10] for year in animals[\"Outcome Time\"]]"
   ]
  },
  {
   "cell_type": "code",
   "execution_count": 266,
   "metadata": {},
   "outputs": [],
   "source": [
    "# Converting to DateTime object to create Age upon Outcome in years\n",
    "\n",
    "animals[\"Outcome Time\"] = pd.to_datetime(animals[\"Outcome Time\"])"
   ]
  },
  {
   "cell_type": "markdown",
   "metadata": {},
   "source": [
    "***MonthYear***"
   ]
  },
  {
   "cell_type": "code",
   "execution_count": 267,
   "metadata": {
    "scrolled": true
   },
   "outputs": [],
   "source": [
    "# Dropping column: exactly the same as DateTime (now Outcome Time)\n",
    "\n",
    "animals.drop(columns = \"MonthYear\", axis = 1, inplace = True)"
   ]
  },
  {
   "cell_type": "markdown",
   "metadata": {},
   "source": [
    "***Date of Birth***"
   ]
  },
  {
   "cell_type": "code",
   "execution_count": 268,
   "metadata": {},
   "outputs": [],
   "source": [
    "# Object type: will split out day, month, year\n",
    "\n",
    "animals[\"Birth Day\"] = [date[3:5] for date in animals[\"Date of Birth\"]]\n",
    "\n",
    "# animals[\"Birth Date\"] = [date.replace(\"0\", \"\") for date in animals[\"Date of Birth\"] if date[0] == \"0\"]"
   ]
  },
  {
   "cell_type": "code",
   "execution_count": 269,
   "metadata": {},
   "outputs": [],
   "source": [
    "animals[\"Birth Month\"] = [month[0:2] for month in animals[\"Date of Birth\"]]\n",
    "\n",
    "# animals[\"Outcome Month\"] = [month.replace(\"0\", \"\") for month in animals[\"Outcome Month\"] if month[0] == \"0\"]"
   ]
  },
  {
   "cell_type": "code",
   "execution_count": 270,
   "metadata": {},
   "outputs": [],
   "source": [
    "animals[\"Birth Year\"] = [year[6:10] for year in animals[\"Date of Birth\"]]"
   ]
  },
  {
   "cell_type": "code",
   "execution_count": 271,
   "metadata": {},
   "outputs": [],
   "source": [
    "# Converting from object to DateTime\n",
    "\n",
    "# animals[\"Date of Birth\"] = animals[\"Date of Birth\"].apply(lambda x: dt.strptime(x,\"%m/%d/%Y\"))\n",
    "\n",
    "animals[\"Date of Birth\"] = pd.to_datetime(animals[\"Date of Birth\"])"
   ]
  },
  {
   "cell_type": "markdown",
   "metadata": {},
   "source": [
    "***Age Upon Outcome***"
   ]
  },
  {
   "cell_type": "code",
   "execution_count": 272,
   "metadata": {},
   "outputs": [],
   "source": [
    "# Creating a new column subtracting Date of Birth and Time of Outcome \n",
    "# to get a time in years (then will drop Age Outcome and dummy new columns)\n",
    "\n",
    "animals[\"Age at Outcome\"] = animals[\"Outcome Time\"] - animals[\"Date of Birth\"]\n",
    "\n",
    "# animals.drop(columns = \"Age upon Outcome\", axis = 1, inplace = True)"
   ]
  },
  {
   "cell_type": "code",
   "execution_count": 273,
   "metadata": {},
   "outputs": [],
   "source": [
    "# Converting into string to splice out just days\n",
    "\n",
    "animals[\"Age at Outcome\"] = animals[\"Age at Outcome\"].astype(str)"
   ]
  },
  {
   "cell_type": "code",
   "execution_count": 274,
   "metadata": {},
   "outputs": [],
   "source": [
    "# Splitting on space\n",
    "\n",
    "animals[\"Age at Outcome\"] = animals[\"Age at Outcome\"].str.split(\" \")"
   ]
  },
  {
   "cell_type": "code",
   "execution_count": 275,
   "metadata": {},
   "outputs": [],
   "source": [
    "animals[\"Age at Outcome\"] = [age_days[0] for age_days in animals[\"Age at Outcome\"]]\n",
    "\n",
    "animals[\"Age at Outcome\"] = animals[\"Age at Outcome\"].astype(float)"
   ]
  },
  {
   "cell_type": "code",
   "execution_count": 276,
   "metadata": {},
   "outputs": [],
   "source": [
    "# Dividing days by 365 to get float in years value\n",
    "\n",
    "animals[\"Age at Outcome\"] = animals[\"Age at Outcome\"] / 365"
   ]
  },
  {
   "cell_type": "code",
   "execution_count": 277,
   "metadata": {},
   "outputs": [],
   "source": [
    "# Dropping old column\n",
    "\n",
    "animals.drop(columns = \"Age upon Outcome\", axis = 1, inplace = True)"
   ]
  },
  {
   "cell_type": "markdown",
   "metadata": {},
   "source": [
    "***Outcome Type***"
   ]
  },
  {
   "cell_type": "code",
   "execution_count": 278,
   "metadata": {},
   "outputs": [
    {
     "data": {
      "text/plain": [
       "array(['Adoption', 'Return to Owner', 'Euthanasia', 'Transfer',\n",
       "       'Rto-Adopt', 'Died', 'Disposal', 'Missing', 'Relocate', nan],\n",
       "      dtype=object)"
      ]
     },
     "execution_count": 278,
     "metadata": {},
     "output_type": "execute_result"
    }
   ],
   "source": [
    "# Outcome Type: target for modeling (what we are attempting to predict)\n",
    "# Will map dictionary values since multi class\n",
    "\n",
    "animals[\"Outcome Type\"].unique()"
   ]
  },
  {
   "cell_type": "code",
   "execution_count": 279,
   "metadata": {},
   "outputs": [],
   "source": [
    "animals[\"Outcome Type\"].isnull().sum();"
   ]
  },
  {
   "cell_type": "code",
   "execution_count": 280,
   "metadata": {},
   "outputs": [],
   "source": [
    "# 12 null values: dropping those rows\n",
    "\n",
    "animals.dropna(subset = [\"Outcome Type\"], inplace = True)"
   ]
  },
  {
   "cell_type": "code",
   "execution_count": 281,
   "metadata": {},
   "outputs": [],
   "source": [
    "outcome_type_dict = {\"Adoption\": 0, \"Return to Owner\": 1, \"Euthanasia\": 2,\n",
    "                     \"Transfer\": 3, \"Rto-Adopt\": 4, \"Died\": 5, \"Disposal\": 6,\n",
    "                     \"Missing\": 7, \"Relocate\": 8}"
   ]
  },
  {
   "cell_type": "code",
   "execution_count": 282,
   "metadata": {},
   "outputs": [],
   "source": [
    "animals[\"Outcome Type\"] = animals[\"Outcome Type\"].map(outcome_type_dict)"
   ]
  },
  {
   "cell_type": "markdown",
   "metadata": {},
   "source": [
    "***Outcome Subtype***"
   ]
  },
  {
   "cell_type": "code",
   "execution_count": 283,
   "metadata": {},
   "outputs": [],
   "source": [
    "# Outcome Subtype: approximately half null: will keep column for EDA/visualization purposes \n",
    "# and to further examine Outcome Type but will not include in models\n",
    "\n",
    "animals[\"Outcome Subtype\"].value_counts();"
   ]
  },
  {
   "cell_type": "markdown",
   "metadata": {},
   "source": [
    "***Animal Type***"
   ]
  },
  {
   "cell_type": "code",
   "execution_count": 284,
   "metadata": {},
   "outputs": [
    {
     "data": {
      "text/plain": [
       "array(['Cat', 'Dog', 'Other', 'Bird', 'Livestock'], dtype=object)"
      ]
     },
     "execution_count": 284,
     "metadata": {},
     "output_type": "execute_result"
    }
   ],
   "source": [
    "# 5 types (mainly Dog and Cat) but also Bird, Livestock, and Other \n",
    "# (Other contains 99 different species)(will dummy column)\n",
    "\n",
    "animals[\"Animal Type\"].unique()"
   ]
  },
  {
   "cell_type": "code",
   "execution_count": 285,
   "metadata": {},
   "outputs": [
    {
     "data": {
      "text/plain": [
       "Dog          47905\n",
       "Cat          31282\n",
       "Other         4671\n",
       "Bird           366\n",
       "Livestock       10\n",
       "Name: Animal Type, dtype: int64"
      ]
     },
     "execution_count": 285,
     "metadata": {},
     "output_type": "execute_result"
    }
   ],
   "source": [
    "# Mainly dogs and cats\n",
    "\n",
    "animals[\"Animal Type\"].value_counts()"
   ]
  },
  {
   "cell_type": "code",
   "execution_count": 286,
   "metadata": {},
   "outputs": [],
   "source": [
    "# 99 unique \"Other\" breeds\n",
    "\n",
    "animals[animals[\"Animal Type\"] == \"Other\"][\"Breed\"].nunique() \n",
    "animals[animals[\"Animal Type\"] == \"Other\"][\"Breed\"].unique();"
   ]
  },
  {
   "cell_type": "markdown",
   "metadata": {},
   "source": [
    "***Sex upon Outcome***"
   ]
  },
  {
   "cell_type": "code",
   "execution_count": 287,
   "metadata": {},
   "outputs": [
    {
     "data": {
      "text/plain": [
       "array(['Spayed Female', 'Neutered Male', 'Unknown', 'Intact Female',\n",
       "       'Intact Male', nan], dtype=object)"
      ]
     },
     "execution_count": 287,
     "metadata": {},
     "output_type": "execute_result"
    }
   ],
   "source": [
    "animals[\"Sex upon Outcome\"].unique()"
   ]
  },
  {
   "cell_type": "code",
   "execution_count": 288,
   "metadata": {},
   "outputs": [
    {
     "data": {
      "text/plain": [
       "1"
      ]
     },
     "execution_count": 288,
     "metadata": {},
     "output_type": "execute_result"
    }
   ],
   "source": [
    "# One null value, many Unknown values\n",
    "\n",
    "animals[\"Sex upon Outcome\"].isnull().sum()"
   ]
  },
  {
   "cell_type": "code",
   "execution_count": 289,
   "metadata": {},
   "outputs": [],
   "source": [
    "# Dropping 1 null value\n",
    "\n",
    "animals.dropna(subset = [\"Sex upon Outcome\"], inplace = True)"
   ]
  },
  {
   "cell_type": "code",
   "execution_count": 290,
   "metadata": {},
   "outputs": [
    {
     "data": {
      "text/plain": [
       "Neutered Male    29836\n",
       "Spayed Female    27001\n",
       "Intact Male      10292\n",
       "Intact Female     9897\n",
       "Unknown           7207\n",
       "Name: Sex upon Outcome, dtype: int64"
      ]
     },
     "execution_count": 290,
     "metadata": {},
     "output_type": "execute_result"
    }
   ],
   "source": [
    "animals[\"Sex upon Outcome\"].value_counts()"
   ]
  },
  {
   "cell_type": "code",
   "execution_count": 291,
   "metadata": {},
   "outputs": [],
   "source": [
    "# 3989 of 7207 Unknown Sex upon Outcome are \"Other\" Animal Type\n",
    "\n",
    "mask = (animals[\"Sex upon Outcome\"] == \"Unknown\") & (animals[\"Animal Type\"] == \"Other\")\n",
    "len(animals[mask]);"
   ]
  },
  {
   "cell_type": "markdown",
   "metadata": {},
   "source": [
    "***Dummy Columns***"
   ]
  },
  {
   "cell_type": "code",
   "execution_count": 292,
   "metadata": {},
   "outputs": [
    {
     "data": {
      "text/plain": [
       "Index(['Outcome Time', 'Date of Birth', 'Outcome Type', 'Outcome Subtype',\n",
       "       'Animal Type', 'Sex upon Outcome', 'Breed', 'Color', 'has_name',\n",
       "       'Outcome Day', 'Outcome Month', 'Outcome Year', 'Birth Day',\n",
       "       'Birth Month', 'Birth Year', 'Age at Outcome'],\n",
       "      dtype='object')"
      ]
     },
     "execution_count": 292,
     "metadata": {},
     "output_type": "execute_result"
    }
   ],
   "source": [
    "animals.columns;"
   ]
  },
  {
   "cell_type": "code",
   "execution_count": 294,
   "metadata": {},
   "outputs": [],
   "source": [
    "animals = pd.get_dummies(data = animals, columns = [\"Animal Type\",\n",
    "                                          \"Sex upon Outcome\", \"Outcome Day\", \n",
    "                                          \"Outcome Month\", \"Outcome Year\", \n",
    "                                          \"Birth Day\", \"Birth Month\", \"Birth Year\"])"
   ]
  },
  {
   "cell_type": "code",
   "execution_count": 296,
   "metadata": {},
   "outputs": [],
   "source": [
    "animals.columns;"
   ]
  },
  {
   "cell_type": "markdown",
   "metadata": {},
   "source": [
    "***Breed***"
   ]
  },
  {
   "cell_type": "markdown",
   "metadata": {},
   "source": [
    "[Count Vectorizer Documentation](http://scikit-learn.org/stable/modules/generated/sklearn.feature_extraction.text.CountVectorizer.html)"
   ]
  },
  {
   "cell_type": "code",
   "execution_count": 310,
   "metadata": {},
   "outputs": [],
   "source": [
    "# Running through Natural Language Processing Count Vectorizer to create/combine Breed features (2223 unique breeds) \n",
    "# and address cleanliness issues (spacing, \"/\" characters, \"Mix\" and \"mix\")"
   ]
  },
  {
   "cell_type": "code",
   "execution_count": 308,
   "metadata": {},
   "outputs": [
    {
     "data": {
      "text/plain": [
       "2223"
      ]
     },
     "execution_count": 308,
     "metadata": {},
     "output_type": "execute_result"
    }
   ],
   "source": [
    "animals[\"Breed\"].nunique()"
   ]
  },
  {
   "cell_type": "code",
   "execution_count": 305,
   "metadata": {},
   "outputs": [],
   "source": [
    "# Cleaning Breed column\n",
    "\n",
    "animals[\"Breed\"] = animals[\"Breed\"].str.replace(\"Mix\", \"\", case = False)\n",
    "animals[\"Breed\"] = animals[\"Breed\"].str.replace(\"mix\", \"\", case = False)\n",
    "animals[\"Breed\"] = animals[\"Breed\"].str.replace(\"/\", \" \")"
   ]
  },
  {
   "cell_type": "code",
   "execution_count": 306,
   "metadata": {},
   "outputs": [
    {
     "data": {
      "text/plain": [
       "['Domestic Shorthair ',\n",
       " 'Border Terrier ',\n",
       " 'Raccoon ',\n",
       " 'Labrador Retriever Jack Russell Terrier',\n",
       " 'Labrador Retriever ',\n",
       " 'Domestic Shorthair ',\n",
       " 'Domestic Longhair ',\n",
       " 'Domestic Shorthair ',\n",
       " 'Domestic Shorthair ',\n",
       " 'Beagle ']"
      ]
     },
     "execution_count": 306,
     "metadata": {},
     "output_type": "execute_result"
    }
   ],
   "source": [
    "# Setting up column to Count Vectorize\n",
    "\n",
    "corpus = animals[\"Breed\"].tolist()\n",
    "corpus[0:10]"
   ]
  },
  {
   "cell_type": "code",
   "execution_count": 323,
   "metadata": {},
   "outputs": [
    {
     "data": {
      "text/plain": [
       "CountVectorizer(analyzer='word', binary=False, decode_error='strict',\n",
       "        dtype=<class 'numpy.int64'>, encoding='utf-8', input='content',\n",
       "        lowercase=True, max_df=1.0, max_features=None, min_df=1,\n",
       "        ngram_range=(1, 3), preprocessor=None, stop_words=None,\n",
       "        strip_accents=None, token_pattern='(?u)\\\\b\\\\w\\\\w+\\\\b',\n",
       "        tokenizer=None, vocabulary=None)"
      ]
     },
     "execution_count": 323,
     "metadata": {},
     "output_type": "execute_result"
    }
   ],
   "source": [
    "# Count Vectorizer\n",
    "\n",
    "cvec = CountVectorizer(analyzer = \"word\", ngram_range = (1, 3), lowercase = True)\n",
    "cvec.fit(corpus)"
   ]
  },
  {
   "cell_type": "code",
   "execution_count": 324,
   "metadata": {},
   "outputs": [],
   "source": [
    "df_breeds_vec = pd.DataFrame(cvec.transform(corpus).todense(), columns = cvec.get_feature_names())"
   ]
  },
  {
   "cell_type": "code",
   "execution_count": 325,
   "metadata": {},
   "outputs": [
    {
     "data": {
      "text/plain": [
       "(84233, 4059)"
      ]
     },
     "execution_count": 325,
     "metadata": {},
     "output_type": "execute_result"
    }
   ],
   "source": [
    "df_breeds_vec.shape"
   ]
  },
  {
   "cell_type": "code",
   "execution_count": 326,
   "metadata": {},
   "outputs": [
    {
     "data": {
      "text/html": [
       "<div>\n",
       "<style scoped>\n",
       "    .dataframe tbody tr th:only-of-type {\n",
       "        vertical-align: middle;\n",
       "    }\n",
       "\n",
       "    .dataframe tbody tr th {\n",
       "        vertical-align: top;\n",
       "    }\n",
       "\n",
       "    .dataframe thead th {\n",
       "        text-align: right;\n",
       "    }\n",
       "</style>\n",
       "<table border=\"1\" class=\"dataframe\">\n",
       "  <thead>\n",
       "    <tr style=\"text-align: right;\">\n",
       "      <th></th>\n",
       "      <th>abyssinian</th>\n",
       "      <th>affenpinscher</th>\n",
       "      <th>afghan</th>\n",
       "      <th>afghan hound</th>\n",
       "      <th>afghan hound labrador</th>\n",
       "      <th>african</th>\n",
       "      <th>airedale</th>\n",
       "      <th>airedale terrier</th>\n",
       "      <th>airedale terrier irish</th>\n",
       "      <th>airedale terrier labrador</th>\n",
       "      <th>...</th>\n",
       "      <th>yorkshire terrier parson</th>\n",
       "      <th>yorkshire terrier pomeranian</th>\n",
       "      <th>yorkshire terrier rat</th>\n",
       "      <th>yorkshire terrier shih</th>\n",
       "      <th>yorkshire terrier soft</th>\n",
       "      <th>yorkshire terrier standard</th>\n",
       "      <th>yorkshire terrier toy</th>\n",
       "      <th>yorkshire terrier yorkshire</th>\n",
       "      <th>zealand</th>\n",
       "      <th>zealand wht</th>\n",
       "    </tr>\n",
       "  </thead>\n",
       "  <tbody>\n",
       "    <tr>\n",
       "      <th>0</th>\n",
       "      <td>0</td>\n",
       "      <td>0</td>\n",
       "      <td>0</td>\n",
       "      <td>0</td>\n",
       "      <td>0</td>\n",
       "      <td>0</td>\n",
       "      <td>0</td>\n",
       "      <td>0</td>\n",
       "      <td>0</td>\n",
       "      <td>0</td>\n",
       "      <td>...</td>\n",
       "      <td>0</td>\n",
       "      <td>0</td>\n",
       "      <td>0</td>\n",
       "      <td>0</td>\n",
       "      <td>0</td>\n",
       "      <td>0</td>\n",
       "      <td>0</td>\n",
       "      <td>0</td>\n",
       "      <td>0</td>\n",
       "      <td>0</td>\n",
       "    </tr>\n",
       "    <tr>\n",
       "      <th>1</th>\n",
       "      <td>0</td>\n",
       "      <td>0</td>\n",
       "      <td>0</td>\n",
       "      <td>0</td>\n",
       "      <td>0</td>\n",
       "      <td>0</td>\n",
       "      <td>0</td>\n",
       "      <td>0</td>\n",
       "      <td>0</td>\n",
       "      <td>0</td>\n",
       "      <td>...</td>\n",
       "      <td>0</td>\n",
       "      <td>0</td>\n",
       "      <td>0</td>\n",
       "      <td>0</td>\n",
       "      <td>0</td>\n",
       "      <td>0</td>\n",
       "      <td>0</td>\n",
       "      <td>0</td>\n",
       "      <td>0</td>\n",
       "      <td>0</td>\n",
       "    </tr>\n",
       "    <tr>\n",
       "      <th>2</th>\n",
       "      <td>0</td>\n",
       "      <td>0</td>\n",
       "      <td>0</td>\n",
       "      <td>0</td>\n",
       "      <td>0</td>\n",
       "      <td>0</td>\n",
       "      <td>0</td>\n",
       "      <td>0</td>\n",
       "      <td>0</td>\n",
       "      <td>0</td>\n",
       "      <td>...</td>\n",
       "      <td>0</td>\n",
       "      <td>0</td>\n",
       "      <td>0</td>\n",
       "      <td>0</td>\n",
       "      <td>0</td>\n",
       "      <td>0</td>\n",
       "      <td>0</td>\n",
       "      <td>0</td>\n",
       "      <td>0</td>\n",
       "      <td>0</td>\n",
       "    </tr>\n",
       "    <tr>\n",
       "      <th>3</th>\n",
       "      <td>0</td>\n",
       "      <td>0</td>\n",
       "      <td>0</td>\n",
       "      <td>0</td>\n",
       "      <td>0</td>\n",
       "      <td>0</td>\n",
       "      <td>0</td>\n",
       "      <td>0</td>\n",
       "      <td>0</td>\n",
       "      <td>0</td>\n",
       "      <td>...</td>\n",
       "      <td>0</td>\n",
       "      <td>0</td>\n",
       "      <td>0</td>\n",
       "      <td>0</td>\n",
       "      <td>0</td>\n",
       "      <td>0</td>\n",
       "      <td>0</td>\n",
       "      <td>0</td>\n",
       "      <td>0</td>\n",
       "      <td>0</td>\n",
       "    </tr>\n",
       "    <tr>\n",
       "      <th>4</th>\n",
       "      <td>0</td>\n",
       "      <td>0</td>\n",
       "      <td>0</td>\n",
       "      <td>0</td>\n",
       "      <td>0</td>\n",
       "      <td>0</td>\n",
       "      <td>0</td>\n",
       "      <td>0</td>\n",
       "      <td>0</td>\n",
       "      <td>0</td>\n",
       "      <td>...</td>\n",
       "      <td>0</td>\n",
       "      <td>0</td>\n",
       "      <td>0</td>\n",
       "      <td>0</td>\n",
       "      <td>0</td>\n",
       "      <td>0</td>\n",
       "      <td>0</td>\n",
       "      <td>0</td>\n",
       "      <td>0</td>\n",
       "      <td>0</td>\n",
       "    </tr>\n",
       "  </tbody>\n",
       "</table>\n",
       "<p>5 rows × 4059 columns</p>\n",
       "</div>"
      ],
      "text/plain": [
       "   abyssinian  affenpinscher  afghan  afghan hound  afghan hound labrador  \\\n",
       "0           0              0       0             0                      0   \n",
       "1           0              0       0             0                      0   \n",
       "2           0              0       0             0                      0   \n",
       "3           0              0       0             0                      0   \n",
       "4           0              0       0             0                      0   \n",
       "\n",
       "   african  airedale  airedale terrier  airedale terrier irish  \\\n",
       "0        0         0                 0                       0   \n",
       "1        0         0                 0                       0   \n",
       "2        0         0                 0                       0   \n",
       "3        0         0                 0                       0   \n",
       "4        0         0                 0                       0   \n",
       "\n",
       "   airedale terrier labrador     ...       yorkshire terrier parson  \\\n",
       "0                          0     ...                              0   \n",
       "1                          0     ...                              0   \n",
       "2                          0     ...                              0   \n",
       "3                          0     ...                              0   \n",
       "4                          0     ...                              0   \n",
       "\n",
       "   yorkshire terrier pomeranian  yorkshire terrier rat  \\\n",
       "0                             0                      0   \n",
       "1                             0                      0   \n",
       "2                             0                      0   \n",
       "3                             0                      0   \n",
       "4                             0                      0   \n",
       "\n",
       "   yorkshire terrier shih  yorkshire terrier soft  yorkshire terrier standard  \\\n",
       "0                       0                       0                           0   \n",
       "1                       0                       0                           0   \n",
       "2                       0                       0                           0   \n",
       "3                       0                       0                           0   \n",
       "4                       0                       0                           0   \n",
       "\n",
       "   yorkshire terrier toy  yorkshire terrier yorkshire  zealand  zealand wht  \n",
       "0                      0                            0        0            0  \n",
       "1                      0                            0        0            0  \n",
       "2                      0                            0        0            0  \n",
       "3                      0                            0        0            0  \n",
       "4                      0                            0        0            0  \n",
       "\n",
       "[5 rows x 4059 columns]"
      ]
     },
     "execution_count": 326,
     "metadata": {},
     "output_type": "execute_result"
    }
   ],
   "source": [
    "df_breeds_vec.head()"
   ]
  },
  {
   "cell_type": "code",
   "execution_count": null,
   "metadata": {},
   "outputs": [],
   "source": [
    "# animals[animals[\"Breed\"] == \"Bat \"]"
   ]
  },
  {
   "cell_type": "code",
   "execution_count": null,
   "metadata": {},
   "outputs": [],
   "source": [
    "# breeds = [\"Domestic Shorthair\", \"Pit Bull\", \"Labrador Retriever\", \"Chihuahua Shorthair\", \"Chihuahua Longhair\",\n",
    "#          \"Domestic Medium Hair\", \"German Shepherd\", \"Bat\", \"Domestic Longhair\", \"Australian Cattle Dog\", \"Siamese\",\n",
    "#          \"Dachshund\", \"Boxer\", \"Border Collie\", \"Miniature Poodle\", \"Catahoula\", \"Australian Shepherd\", \"Rat Terrier\",\n",
    "#          \"Raccoon\", \"Yorkshire Terrier\", \"Siberian Husky\", \"Jack Russell Terrier\", \"Miniature Schnauzer\", \"Staffordshire\",\n",
    "#          \"Beagle\", \"Great Pyrenees\", \"Cairn Terrier\", \"Pointer\", \"Miniature Pinscher\", \"Corgi\"]\n",
    "\n",
    "# len(breeds)"
   ]
  },
  {
   "cell_type": "code",
   "execution_count": null,
   "metadata": {},
   "outputs": [],
   "source": [
    "# for breed in breeds:\n",
    "#     animals[breed] = animals[\"Breed\"].str.contains(breed, case=False).astype(int)\n",
    "    \n",
    "# animals.drop(columns=[\"Color\"], axis = 1, inplace=True)  "
   ]
  },
  {
   "cell_type": "code",
   "execution_count": null,
   "metadata": {},
   "outputs": [],
   "source": [
    "# total = animals[\"Domestic Longhair\"].sum()\n",
    "# print(total)"
   ]
  },
  {
   "cell_type": "markdown",
   "metadata": {},
   "source": [
    "***Color***"
   ]
  },
  {
   "cell_type": "markdown",
   "metadata": {},
   "source": [
    "***In Progress***"
   ]
  },
  {
   "cell_type": "code",
   "execution_count": 319,
   "metadata": {},
   "outputs": [],
   "source": [
    "# animals[\"Color\"] = animals[\"Color\"].str.replace(\"/\", \" \")"
   ]
  },
  {
   "cell_type": "code",
   "execution_count": 320,
   "metadata": {},
   "outputs": [],
   "source": [
    "# animals[\"Color\"].value_counts();"
   ]
  },
  {
   "cell_type": "code",
   "execution_count": 321,
   "metadata": {},
   "outputs": [],
   "source": [
    "# animals[\"Color\"].unique();"
   ]
  },
  {
   "cell_type": "code",
   "execution_count": 322,
   "metadata": {},
   "outputs": [],
   "source": [
    "# # 20 colors\n",
    "\n",
    "# colors = [\"black\", \"white\", \"brown\", \"tabby\", \"tan\", \"orange\", \"blue\", \"tricolor\", \"calico\", \"brindle\", \"tortie\",\n",
    "#           \"torbie\", \"red\", \"chocolate\", \"gray\", \"yellow\", \"green\", \"silver\", \"gold\", \"cream\"]\n",
    "\n",
    "# for color in colors:\n",
    "#     animals[color] = animals[\"Color\"].str.contains(color, case=False).astype(int)\n",
    "    \n",
    "# animals.drop(columns=[\"Color\"], axis = 1, inplace=True)    "
   ]
  }
 ],
 "metadata": {
  "kernelspec": {
   "display_name": "Python 3",
   "language": "python",
   "name": "python3"
  },
  "language_info": {
   "codemirror_mode": {
    "name": "ipython",
    "version": 3
   },
   "file_extension": ".py",
   "mimetype": "text/x-python",
   "name": "python",
   "nbconvert_exporter": "python",
   "pygments_lexer": "ipython3",
   "version": "3.6.4"
  }
 },
 "nbformat": 4,
 "nbformat_minor": 2
}
