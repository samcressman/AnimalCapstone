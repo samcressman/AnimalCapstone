{
 "cells": [
  {
   "cell_type": "markdown",
   "metadata": {},
   "source": [
    "***Sam Cressman Capstone Project: Shelter Animal Outcomes***"
   ]
  },
  {
   "cell_type": "markdown",
   "metadata": {},
   "source": [
    "***Help improve outcomes for shelter animals***"
   ]
  },
  {
   "cell_type": "markdown",
   "metadata": {},
   "source": [
    "***Capstone inspiration:*** [Kaggle](https://www.kaggle.com/c/shelter-animal-outcomes)"
   ]
  },
  {
   "cell_type": "markdown",
   "metadata": {},
   "source": [
    "[Dataset from the City of Austin open data portal (pulled 6/20/18)](https://data.austintexas.gov/Health-and-Community-Services/Austin-Animal-Center-Outcomes/9t4d-g238)"
   ]
  },
  {
   "cell_type": "markdown",
   "metadata": {},
   "source": [
    "\"Every year, approximately 7.6 million companion animals end up in US shelters. Many animals are given up as unwanted by their owners, while others are picked up after getting lost or taken out of cruelty situations. Many of these animals find forever families to take them home, but just as many are not so lucky. 2.7 million dogs and cats are euthanized in the US every year. <br>\n",
    "\n",
    "Using a dataset of intake information including breed, color, sex, and age from the Austin Animal Center, we're asking Kagglers to predict the outcome for each animal. <br>\n",
    "\n",
    "We also believe this dataset can help us understand trends in animal outcomes. These insights could help shelters focus their energy on specific animals who need a little extra help finding a new home. We encourage you to publish your insights on Scripts so they are publicly accessible.\" <br>"
   ]
  },
  {
   "cell_type": "code",
   "execution_count": 1,
   "metadata": {},
   "outputs": [],
   "source": [
    "import pandas as pd\n",
    "from sklearn.feature_extraction.text import CountVectorizer"
   ]
  },
  {
   "cell_type": "code",
   "execution_count": 2,
   "metadata": {},
   "outputs": [],
   "source": [
    "animals = pd.read_csv(\"Austin_Animal_Center_Outcomes.csv\")"
   ]
  },
  {
   "cell_type": "markdown",
   "metadata": {},
   "source": [
    "***Quick EDA***"
   ]
  },
  {
   "cell_type": "code",
   "execution_count": 3,
   "metadata": {},
   "outputs": [],
   "source": [
    "animals.head();"
   ]
  },
  {
   "cell_type": "code",
   "execution_count": 4,
   "metadata": {},
   "outputs": [],
   "source": [
    "# All object columns\n",
    "\n",
    "# animals.info()"
   ]
  },
  {
   "cell_type": "code",
   "execution_count": 5,
   "metadata": {},
   "outputs": [],
   "source": [
    "# Most null values are in Name and Outcome Subtype\n",
    "\n",
    "animals.isnull().sum();"
   ]
  },
  {
   "cell_type": "code",
   "execution_count": 6,
   "metadata": {},
   "outputs": [],
   "source": [
    "animals.shape;"
   ]
  },
  {
   "cell_type": "markdown",
   "metadata": {},
   "source": [
    "***Column by column***:\n",
    "\n",
    "***Animal ID***: dropping column (acts as an index)\n",
    "\n",
    "***Name***: Over 25,000 null values: transforming into \"1\" if animal contains a name, 0 otherwise\n",
    "\n",
    "***DateTime***: time of outcome event: object type, splitting into day/month/year through string splicing and then converting into DateTime object to subtract Date of Birth from in order to create Age upon Outcome in years (will dummy each new column, will not model using this column)\n",
    "\n",
    "***MonthYear***: dropping column (exactly the same as DateTime)\n",
    "\n",
    "***Date of Birth***: splitting into day/month/year through string splicing and then converting into DateTime object to subtract Date of Birth from in order to create Age upon Outcome in years (will dummy each new column, will not model using this column)\n",
    "\n",
    "***Outcome Type***: target, dropping 12 null values, mapping/converting into numerical values\n",
    "\n",
    "***Outcome Subtype***: approximately half null: will keep column for EDA/visualization purposes and to further examine Outcome Type but will not include in models\n",
    "\n",
    "***Animal Type***: 5 types (mainly Dog and Cat) but also Bird, Livestock, and Other (Other contains 99 different species)(will dummy column)\n",
    "\n",
    "***Sex upon Outcome***: Neutered Male, Spayed Female, Intact Male, Intact Female, Unknown (mainly Animal Type Other)(will dummy column)\n",
    "\n",
    "***Age upon Outcome***: creating a new column subtracting Date of Birth and Time of Outcome to get a time in years (then will drop Age Outcome and dummy new columns)\n",
    "\n",
    "***Breed***: running through Natural Language Processing Count Vectorizer to create/combine Breed features (2223 unique breed combinations) and address cleanliness issues (spacing, \"/\" characters, \"Mix\" and \"mix\")\n",
    "\n",
    "***Color***: running through Natural Language Processing Count Vectorizer to create/combine Color features (538 unique color combinations)"
   ]
  },
  {
   "cell_type": "markdown",
   "metadata": {},
   "source": [
    "***Animal ID***"
   ]
  },
  {
   "cell_type": "code",
   "execution_count": 7,
   "metadata": {},
   "outputs": [],
   "source": [
    "# Dropping column"
   ]
  },
  {
   "cell_type": "code",
   "execution_count": 8,
   "metadata": {},
   "outputs": [],
   "source": [
    "animals.drop(columns=[\"Animal ID\"], axis = 1, inplace=True)"
   ]
  },
  {
   "cell_type": "markdown",
   "metadata": {},
   "source": [
    "***Name***"
   ]
  },
  {
   "cell_type": "code",
   "execution_count": 9,
   "metadata": {},
   "outputs": [],
   "source": [
    "# Converting into 1 if name, 0 otherwise due to high number of null values\n",
    "\n",
    "animals[\"Name\"].isnull().sum();"
   ]
  },
  {
   "cell_type": "code",
   "execution_count": 10,
   "metadata": {},
   "outputs": [],
   "source": [
    "# We see some names somewhat frequently\n",
    "\n",
    "animals[\"Name\"].value_counts()[0:10];"
   ]
  },
  {
   "cell_type": "code",
   "execution_count": 11,
   "metadata": {},
   "outputs": [],
   "source": [
    "animals[\"has_name\"] = animals['Name'].notnull().astype(int)"
   ]
  },
  {
   "cell_type": "code",
   "execution_count": 12,
   "metadata": {},
   "outputs": [],
   "source": [
    "# Dropping Name column\n",
    "\n",
    "animals.drop(columns=[\"Name\"], axis = 1, inplace=True)"
   ]
  },
  {
   "cell_type": "markdown",
   "metadata": {},
   "source": [
    "***DateTime***"
   ]
  },
  {
   "cell_type": "code",
   "execution_count": 13,
   "metadata": {},
   "outputs": [],
   "source": [
    "# DateTime is time of outcome: will rename for clarity:\n",
    "\n",
    "animals = animals.rename(columns={\"DateTime\": \"Outcome Time\"})"
   ]
  },
  {
   "cell_type": "code",
   "execution_count": 14,
   "metadata": {},
   "outputs": [],
   "source": [
    "# Object type: will split out day, month, year\n",
    "\n",
    "animals[\"Outcome Day\"] = [day[3:5] for day in animals[\"Outcome Time\"]]"
   ]
  },
  {
   "cell_type": "code",
   "execution_count": 15,
   "metadata": {},
   "outputs": [],
   "source": [
    "animals[\"Outcome Month\"] = [month[0:2] for month in animals[\"Outcome Time\"]]"
   ]
  },
  {
   "cell_type": "code",
   "execution_count": 16,
   "metadata": {},
   "outputs": [],
   "source": [
    "animals[\"Outcome Year\"] = [year[6:10] for year in animals[\"Outcome Time\"]]"
   ]
  },
  {
   "cell_type": "code",
   "execution_count": 17,
   "metadata": {},
   "outputs": [],
   "source": [
    "# Converting to DateTime object to help create Age upon Outcome in years\n",
    "\n",
    "animals[\"Outcome Time\"] = pd.to_datetime(animals[\"Outcome Time\"])"
   ]
  },
  {
   "cell_type": "markdown",
   "metadata": {},
   "source": [
    "***MonthYear***"
   ]
  },
  {
   "cell_type": "code",
   "execution_count": 18,
   "metadata": {
    "scrolled": true
   },
   "outputs": [],
   "source": [
    "# Dropping column: exactly the same as DateTime (now Outcome Time)\n",
    "\n",
    "animals.drop(columns = \"MonthYear\", axis = 1, inplace = True)"
   ]
  },
  {
   "cell_type": "markdown",
   "metadata": {},
   "source": [
    "***Date of Birth***"
   ]
  },
  {
   "cell_type": "code",
   "execution_count": 19,
   "metadata": {},
   "outputs": [],
   "source": [
    "# Object type: will split out day, month, year\n",
    "\n",
    "animals[\"Birth Day\"] = [date[3:5] for date in animals[\"Date of Birth\"]]"
   ]
  },
  {
   "cell_type": "code",
   "execution_count": 20,
   "metadata": {},
   "outputs": [],
   "source": [
    "animals[\"Birth Month\"] = [month[0:2] for month in animals[\"Date of Birth\"]]"
   ]
  },
  {
   "cell_type": "code",
   "execution_count": 21,
   "metadata": {},
   "outputs": [],
   "source": [
    "animals[\"Birth Year\"] = [year[6:10] for year in animals[\"Date of Birth\"]]"
   ]
  },
  {
   "cell_type": "code",
   "execution_count": 22,
   "metadata": {},
   "outputs": [],
   "source": [
    "# Converting from object to DateTime\n",
    "\n",
    "animals[\"Date of Birth\"] = pd.to_datetime(animals[\"Date of Birth\"])"
   ]
  },
  {
   "cell_type": "markdown",
   "metadata": {},
   "source": [
    "***Age Upon Outcome***"
   ]
  },
  {
   "cell_type": "code",
   "execution_count": 23,
   "metadata": {},
   "outputs": [],
   "source": [
    "# Creating a new column subtracting Date of Birth and Time of Outcome \n",
    "# to get a time in years (then will drop Age upon Outcome and dummy new columns)\n",
    "\n",
    "animals[\"Age at Outcome\"] = animals[\"Outcome Time\"] - animals[\"Date of Birth\"]\n",
    "\n",
    "# animals.drop(columns = \"Age upon Outcome\", axis = 1, inplace = True)"
   ]
  },
  {
   "cell_type": "code",
   "execution_count": 24,
   "metadata": {},
   "outputs": [],
   "source": [
    "# Converting into string to splice out just days\n",
    "\n",
    "animals[\"Age at Outcome\"] = animals[\"Age at Outcome\"].astype(str)"
   ]
  },
  {
   "cell_type": "code",
   "execution_count": 25,
   "metadata": {},
   "outputs": [],
   "source": [
    "# Splitting on space\n",
    "\n",
    "animals[\"Age at Outcome\"] = animals[\"Age at Outcome\"].str.split(\" \")"
   ]
  },
  {
   "cell_type": "code",
   "execution_count": 26,
   "metadata": {},
   "outputs": [],
   "source": [
    "animals[\"Age at Outcome\"] = [age_days[0] for age_days in animals[\"Age at Outcome\"]]\n",
    "\n",
    "animals[\"Age at Outcome\"] = animals[\"Age at Outcome\"].astype(float)"
   ]
  },
  {
   "cell_type": "code",
   "execution_count": 27,
   "metadata": {},
   "outputs": [],
   "source": [
    "# Dividing days by 365 to get float in years value\n",
    "\n",
    "animals[\"Age at Outcome\"] = animals[\"Age at Outcome\"] / 365"
   ]
  },
  {
   "cell_type": "code",
   "execution_count": 28,
   "metadata": {},
   "outputs": [],
   "source": [
    "# Dropping old column\n",
    "\n",
    "animals.drop(columns = \"Age upon Outcome\", axis = 1, inplace = True)"
   ]
  },
  {
   "cell_type": "markdown",
   "metadata": {},
   "source": [
    "***Outcome Type***"
   ]
  },
  {
   "cell_type": "code",
   "execution_count": 29,
   "metadata": {},
   "outputs": [],
   "source": [
    "# Outcome Type: target for modeling (what we are attempting to predict)\n",
    "# Will map dictionary values since multi class\n",
    "\n",
    "animals[\"Outcome Type\"].unique();"
   ]
  },
  {
   "cell_type": "code",
   "execution_count": 30,
   "metadata": {},
   "outputs": [],
   "source": [
    "animals[\"Outcome Type\"].isnull().sum();"
   ]
  },
  {
   "cell_type": "code",
   "execution_count": 31,
   "metadata": {},
   "outputs": [],
   "source": [
    "# 12 null values: dropping those rows\n",
    "\n",
    "animals.dropna(subset = [\"Outcome Type\"], inplace = True)"
   ]
  },
  {
   "cell_type": "code",
   "execution_count": 32,
   "metadata": {},
   "outputs": [],
   "source": [
    "outcome_type_dict = {\"Adoption\": 0, \"Return to Owner\": 1, \"Euthanasia\": 2,\n",
    "                     \"Transfer\": 3, \"Rto-Adopt\": 4, \"Died\": 5, \"Disposal\": 6,\n",
    "                     \"Missing\": 7, \"Relocate\": 8}"
   ]
  },
  {
   "cell_type": "code",
   "execution_count": 33,
   "metadata": {},
   "outputs": [],
   "source": [
    "animals[\"Outcome Type\"] = animals[\"Outcome Type\"].map(outcome_type_dict)"
   ]
  },
  {
   "cell_type": "markdown",
   "metadata": {},
   "source": [
    "***Outcome Subtype***"
   ]
  },
  {
   "cell_type": "code",
   "execution_count": 34,
   "metadata": {},
   "outputs": [],
   "source": [
    "# Outcome Subtype: approximately half null: will keep column for EDA/visualization purposes \n",
    "# and to further examine against Outcome Type but will not include in modeleling\n",
    "\n",
    "animals[\"Outcome Subtype\"].value_counts();"
   ]
  },
  {
   "cell_type": "markdown",
   "metadata": {},
   "source": [
    "***Animal Type***"
   ]
  },
  {
   "cell_type": "code",
   "execution_count": 35,
   "metadata": {},
   "outputs": [],
   "source": [
    "# 5 types (mainly Dog and Cat) but also Bird, Livestock, and Other \n",
    "# (Other contains 99 different species)(will dummy column)\n",
    "\n",
    "animals[\"Animal Type\"].unique();"
   ]
  },
  {
   "cell_type": "code",
   "execution_count": 36,
   "metadata": {},
   "outputs": [],
   "source": [
    "# Mainly dogs and cats\n",
    "\n",
    "animals[\"Animal Type\"].value_counts();"
   ]
  },
  {
   "cell_type": "code",
   "execution_count": 37,
   "metadata": {},
   "outputs": [],
   "source": [
    "# 99 unique \"Other\" breeds\n",
    "\n",
    "animals[animals[\"Animal Type\"] == \"Other\"][\"Breed\"].nunique() \n",
    "animals[animals[\"Animal Type\"] == \"Other\"][\"Breed\"].unique();"
   ]
  },
  {
   "cell_type": "markdown",
   "metadata": {},
   "source": [
    "***Sex upon Outcome***"
   ]
  },
  {
   "cell_type": "code",
   "execution_count": 38,
   "metadata": {},
   "outputs": [
    {
     "data": {
      "text/plain": [
       "array(['Spayed Female', 'Neutered Male', 'Unknown', 'Intact Female',\n",
       "       'Intact Male', nan], dtype=object)"
      ]
     },
     "execution_count": 38,
     "metadata": {},
     "output_type": "execute_result"
    }
   ],
   "source": [
    "animals[\"Sex upon Outcome\"].unique()"
   ]
  },
  {
   "cell_type": "code",
   "execution_count": 39,
   "metadata": {
    "scrolled": true
   },
   "outputs": [],
   "source": [
    "# Mainly neutered males and spayed females\n",
    "\n",
    "animals[\"Sex upon Outcome\"].value_counts();"
   ]
  },
  {
   "cell_type": "code",
   "execution_count": 40,
   "metadata": {},
   "outputs": [],
   "source": [
    "# One null value, many Unknown values\n",
    "\n",
    "animals[\"Sex upon Outcome\"].isnull().sum();"
   ]
  },
  {
   "cell_type": "code",
   "execution_count": 41,
   "metadata": {},
   "outputs": [],
   "source": [
    "# Dropping 1 null value\n",
    "\n",
    "animals.dropna(subset = [\"Sex upon Outcome\"], inplace = True)"
   ]
  },
  {
   "cell_type": "code",
   "execution_count": 42,
   "metadata": {},
   "outputs": [],
   "source": [
    "# 3989 of 7207 Unknown Sex upon Outcome are \"Other\" Animal Type\n",
    "\n",
    "mask = (animals[\"Sex upon Outcome\"] == \"Unknown\") & (animals[\"Animal Type\"] == \"Other\")\n",
    "len(animals[mask]);"
   ]
  },
  {
   "cell_type": "markdown",
   "metadata": {},
   "source": [
    "***Dummy Columns***"
   ]
  },
  {
   "cell_type": "code",
   "execution_count": 43,
   "metadata": {},
   "outputs": [],
   "source": [
    "animals.columns;"
   ]
  },
  {
   "cell_type": "code",
   "execution_count": 44,
   "metadata": {},
   "outputs": [],
   "source": [
    "animals = pd.get_dummies(data = animals, columns = [\"Animal Type\",\n",
    "                                          \"Sex upon Outcome\", \"Outcome Day\", \n",
    "                                          \"Outcome Month\", \"Outcome Year\", \n",
    "                                          \"Birth Day\", \"Birth Month\", \"Birth Year\"])"
   ]
  },
  {
   "cell_type": "code",
   "execution_count": 45,
   "metadata": {},
   "outputs": [],
   "source": [
    "animals.columns;"
   ]
  },
  {
   "cell_type": "code",
   "execution_count": 46,
   "metadata": {},
   "outputs": [],
   "source": [
    "animals.shape;"
   ]
  },
  {
   "cell_type": "markdown",
   "metadata": {},
   "source": [
    "***Breed***"
   ]
  },
  {
   "cell_type": "markdown",
   "metadata": {},
   "source": [
    "[Count Vectorizer Documentation](http://scikit-learn.org/stable/modules/generated/sklearn.feature_extraction.text.CountVectorizer.html)"
   ]
  },
  {
   "cell_type": "code",
   "execution_count": 47,
   "metadata": {},
   "outputs": [],
   "source": [
    "# Running through Natural Language Processing Count Vectorizer to create/combine Breed features (2223 unique breeds) \n",
    "# and address cleanliness issues (spacing, \"/\" characters, \"Mix\" and \"mix\")"
   ]
  },
  {
   "cell_type": "code",
   "execution_count": 48,
   "metadata": {},
   "outputs": [],
   "source": [
    "animals[\"Breed\"].value_counts();"
   ]
  },
  {
   "cell_type": "code",
   "execution_count": 49,
   "metadata": {},
   "outputs": [],
   "source": [
    "animals[\"Breed\"].nunique();"
   ]
  },
  {
   "cell_type": "code",
   "execution_count": 50,
   "metadata": {},
   "outputs": [],
   "source": [
    "# Cleaning\n",
    "\n",
    "animals[\"Breed\"] = animals[\"Breed\"].str.replace(\"Mix\", \"\", case = False)\n",
    "animals[\"Breed\"] = animals[\"Breed\"].str.replace(\"mix\", \"\", case = False)\n",
    "animals[\"Breed\"] = animals[\"Breed\"].str.replace(\"/\", \" \")"
   ]
  },
  {
   "cell_type": "code",
   "execution_count": 51,
   "metadata": {},
   "outputs": [],
   "source": [
    "# Setting up column/text to Vectorize\n",
    "\n",
    "corpus = animals[\"Breed\"].tolist()\n",
    "corpus[0:10];"
   ]
  },
  {
   "cell_type": "code",
   "execution_count": 52,
   "metadata": {},
   "outputs": [],
   "source": [
    "# Count Vectorizer: creating a new dataframe of just the top 100 2-3 word length features from Breed\n",
    "\n",
    "cvec = CountVectorizer(analyzer = \"word\", ngram_range = (2, 3), lowercase = True, max_features = 100)\n",
    "cvec.fit(corpus);"
   ]
  },
  {
   "cell_type": "code",
   "execution_count": 53,
   "metadata": {},
   "outputs": [],
   "source": [
    "df_breeds_vec = pd.DataFrame(cvec.transform(corpus).todense(), columns = cvec.get_feature_names())"
   ]
  },
  {
   "cell_type": "code",
   "execution_count": 54,
   "metadata": {},
   "outputs": [],
   "source": [
    "df_breeds_vec.shape;"
   ]
  },
  {
   "cell_type": "code",
   "execution_count": 55,
   "metadata": {
    "scrolled": true
   },
   "outputs": [],
   "source": [
    "df_breeds_vec.head();"
   ]
  },
  {
   "cell_type": "code",
   "execution_count": 56,
   "metadata": {},
   "outputs": [],
   "source": [
    "df_breeds_vec.columns;"
   ]
  },
  {
   "cell_type": "code",
   "execution_count": 57,
   "metadata": {},
   "outputs": [],
   "source": [
    "# Concating new Breed features with animals\n",
    "\n",
    "animals = pd.concat([animals, df_breeds_vec], axis = 1)\n",
    "animals.columns;"
   ]
  },
  {
   "cell_type": "code",
   "execution_count": 59,
   "metadata": {},
   "outputs": [],
   "source": [
    "# Below is \"hard coded\" method of examing the top 30 breeds and manually creating dummy columns\n",
    "\n",
    "# breeds = [\"Domestic Shorthair\", \"Pit Bull\", \"Labrador Retriever\", \"Chihuahua Shorthair\", \"Chihuahua Longhair\",\n",
    "#          \"Domestic Medium Hair\", \"German Shepherd\", \"Bat\", \"Domestic Longhair\", \"Australian Cattle Dog\", \"Siamese\",\n",
    "#          \"Dachshund\", \"Boxer\", \"Border Collie\", \"Miniature Poodle\", \"Catahoula\", \"Australian Shepherd\", \"Rat Terrier\",\n",
    "#          \"Raccoon\", \"Yorkshire Terrier\", \"Siberian Husky\", \"Jack Russell Terrier\", \"Miniature Schnauzer\", \"Staffordshire\",\n",
    "#          \"Beagle\", \"Great Pyrenees\", \"Cairn Terrier\", \"Pointer\", \"Miniature Pinscher\", \"Corgi\"]\n",
    "\n",
    "# len(breeds)\n",
    "\n",
    "# for breed in breeds:\n",
    "#     animals[breed] = animals[\"Breed\"].str.contains(breed, case=False).astype(int)\n",
    "    \n",
    "# animals.drop(columns=[\"Color\"], axis = 1, inplace=True)  "
   ]
  },
  {
   "cell_type": "markdown",
   "metadata": {},
   "source": [
    "***Color***"
   ]
  },
  {
   "cell_type": "code",
   "execution_count": 60,
   "metadata": {},
   "outputs": [],
   "source": [
    "# Running through Natural Language Processing Count Vectorizer to \n",
    "# create/combine Color features (538 unique color combinations)"
   ]
  },
  {
   "cell_type": "code",
   "execution_count": 61,
   "metadata": {},
   "outputs": [],
   "source": [
    "# 13 null values: need to drop\n",
    "\n",
    "animals[\"Color\"].isnull().sum()\n",
    "\n",
    "animals.dropna(subset = [\"Color\"], inplace = True)"
   ]
  },
  {
   "cell_type": "code",
   "execution_count": 62,
   "metadata": {},
   "outputs": [],
   "source": [
    "# 539 unique color combinations\n",
    "\n",
    "animals[\"Color\"].nunique();"
   ]
  },
  {
   "cell_type": "code",
   "execution_count": 63,
   "metadata": {},
   "outputs": [],
   "source": [
    "# Cleaning\n",
    "\n",
    "animals[\"Color\"] = animals[\"Color\"].str.replace(\"/\", \" \")"
   ]
  },
  {
   "cell_type": "code",
   "execution_count": 64,
   "metadata": {},
   "outputs": [],
   "source": [
    "# Colors are repeated in different ways many times (ex: Black White vs. Black vs. Black Brown vs. Brown Black)\n",
    "\n",
    "animals[\"Color\"].value_counts();"
   ]
  },
  {
   "cell_type": "code",
   "execution_count": 65,
   "metadata": {},
   "outputs": [],
   "source": [
    "# Setting up column/text to Vectorize\n",
    "\n",
    "color_corpus = animals[\"Color\"].tolist()\n",
    "color_corpus[0:10];"
   ]
  },
  {
   "cell_type": "code",
   "execution_count": 66,
   "metadata": {},
   "outputs": [],
   "source": [
    "# Count Vectorizer: creating a new dataframe of just the top 50 1-2 word length features from Color\n",
    "\n",
    "color_cvec = CountVectorizer(analyzer = \"word\", ngram_range = (1, 2), lowercase = True, max_features = 50)\n",
    "color_cvec.fit(color_corpus);"
   ]
  },
  {
   "cell_type": "code",
   "execution_count": 67,
   "metadata": {},
   "outputs": [],
   "source": [
    "df_color_vec = pd.DataFrame(color_cvec.transform(color_corpus).todense(), columns = color_cvec.get_feature_names())"
   ]
  },
  {
   "cell_type": "code",
   "execution_count": 68,
   "metadata": {},
   "outputs": [],
   "source": [
    "df_color_vec.columns;"
   ]
  },
  {
   "cell_type": "code",
   "execution_count": 69,
   "metadata": {},
   "outputs": [],
   "source": [
    "animals = pd.concat([animals, df_color_vec], axis = 1)"
   ]
  },
  {
   "cell_type": "code",
   "execution_count": 71,
   "metadata": {},
   "outputs": [],
   "source": [
    "# Below is \"hard coded\" method of examing the top 20 colors and manually creating dummy columns\n",
    "\n",
    "# 20 colors\n",
    "\n",
    "# colors = [\"black\", \"white\", \"brown\", \"tabby\", \"tan\", \"orange\", \"blue\", \"tricolor\", \"calico\", \"brindle\", \"tortie\",\n",
    "#           \"torbie\", \"red\", \"chocolate\", \"gray\", \"yellow\", \"green\", \"silver\", \"gold\", \"cream\"]\n",
    "\n",
    "# for color in colors:\n",
    "#     animals[color] = animals[\"Color\"].str.contains(color, case=False).astype(int)\n",
    "    \n",
    "# animals.drop(columns=[\"Color\"], axis = 1, inplace=True)    "
   ]
  }
 ],
 "metadata": {
  "kernelspec": {
   "display_name": "Python 3",
   "language": "python",
   "name": "python3"
  },
  "language_info": {
   "codemirror_mode": {
    "name": "ipython",
    "version": 3
   },
   "file_extension": ".py",
   "mimetype": "text/x-python",
   "name": "python",
   "nbconvert_exporter": "python",
   "pygments_lexer": "ipython3",
   "version": "3.6.4"
  }
 },
 "nbformat": 4,
 "nbformat_minor": 2
}
